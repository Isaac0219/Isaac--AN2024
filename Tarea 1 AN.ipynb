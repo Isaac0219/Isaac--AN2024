{
 "cells": [
  {
   "cell_type": "markdown",
   "id": "e592df01",
   "metadata": {},
   "source": [
    "Tarea Análisis Numérico"
   ]
  },
  {
   "cell_type": "markdown",
   "id": "35d8d46d",
   "metadata": {},
   "source": [
    "   "
   ]
  },
  {
   "cell_type": "markdown",
   "id": "b7fe26e8",
   "metadata": {},
   "source": [
    "Dada una función f(x) (especificar rango) determinar el orden de la función si requerimos que :\n",
    "\n",
    "(R_N(x)) < tolerancia (dada)."
   ]
  },
  {
   "cell_type": "markdown",
   "id": "e3df3ea6",
   "metadata": {},
   "source": [
    "Definimos el rango de la función como [-2,2], por lo que la serie de taylor la aproximaremos al rededor de un punto medio del rango, este punto será el 0, asi como una tolerancia al error del 3%."
   ]
  },
  {
   "cell_type": "code",
   "execution_count": 8,
   "id": "3de638b8",
   "metadata": {},
   "outputs": [],
   "source": [
    "import numpy as np\n",
    "import sympy as sy\n",
    "import matplotlib.pyplot as plt"
   ]
  },
  {
   "cell_type": "markdown",
   "id": "d22d7003",
   "metadata": {},
   "source": [
    "Aqui especificamos a las variables y la función asi como su expanción en series de taylor"
   ]
  },
  {
   "cell_type": "code",
   "execution_count": 71,
   "id": "885a6fa6",
   "metadata": {},
   "outputs": [],
   "source": [
    "x,y,z = sy.symbols('x y z')\n",
    "x = sy.symbols('x')\n",
    "f = (sy.exp(x**2)-(3*sy.cos(x))**2)/sy.log(x)\n",
    "g = sy.series(f,x,0,5)"
   ]
  },
  {
   "cell_type": "code",
   "execution_count": 72,
   "id": "e4052e2c",
   "metadata": {},
   "outputs": [
    {
     "name": "stdout",
     "output_type": "stream",
     "text": [
      "(exp(x**2) - 9*cos(x)**2)/log(x)\n"
     ]
    }
   ],
   "source": [
    "print (f)"
   ]
  },
  {
   "cell_type": "code",
   "execution_count": 73,
   "id": "b5342686",
   "metadata": {},
   "outputs": [
    {
     "name": "stdout",
     "output_type": "stream",
     "text": [
      "-8/log(x) + 10*x**2/log(x) - 5*x**4/(2*log(x)) + 17*x**6/(30*log(x)) + 11*x**8/(840*log(x)) + 121*x**10/(12600*log(x)) + 1123*x**12/(831600*log(x)) + 15079*x**14/(75675600*log(x)) + 225097*x**16/(9081072000*log(x)) + 3829081*x**18/(1389404016000*log(x)) + 72747163*x**20/(263986763040000*log(x)) + 1527702199*x**22/(60980942262240000*log(x)) + 35137124977*x**24/(16830740064378240000*log(x)) + 878428179721*x**26/(5469990520922928000000*log(x)) + 23717560733683*x**28/(2067656416908866784000000*log(x)) + 687809261530759*x**30/(899430541355357051040000000*log(x)) + O(x**31)\n"
     ]
    }
   ],
   "source": [
    "print (g)"
   ]
  },
  {
   "cell_type": "markdown",
   "id": "f37027bd",
   "metadata": {},
   "source": [
    "Obtenemos el orden del error y lo quitamos de la función de la expasión de taylor"
   ]
  },
  {
   "cell_type": "code",
   "execution_count": 74,
   "id": "f50327fb",
   "metadata": {},
   "outputs": [],
   "source": [
    "orden = g.getO()\n",
    "gx = g.removeO()"
   ]
  },
  {
   "cell_type": "markdown",
   "id": "119f448c",
   "metadata": {},
   "source": [
    "Usando el lambdify transformamos las funciones simbólicas en funciones para tratamiento numérico"
   ]
  },
  {
   "cell_type": "code",
   "execution_count": 75,
   "id": "b887c788",
   "metadata": {},
   "outputs": [],
   "source": [
    "flam = sy.lambdify(x,f)\n",
    "glam = sy.lambdify(x,gx)"
   ]
  },
  {
   "cell_type": "code",
   "execution_count": 76,
   "id": "6a9bdef8",
   "metadata": {},
   "outputs": [
    {
     "data": {
      "text/plain": [
       "7367.715840042574"
      ]
     },
     "execution_count": 76,
     "metadata": {},
     "output_type": "execute_result"
    }
   ],
   "source": [
    "flam(3)"
   ]
  },
  {
   "cell_type": "code",
   "execution_count": 77,
   "id": "f6d659a0",
   "metadata": {},
   "outputs": [
    {
     "data": {
      "text/plain": [
       "7205.186440443666"
      ]
     },
     "execution_count": 77,
     "metadata": {},
     "output_type": "execute_result"
    }
   ],
   "source": [
    "glam(3)"
   ]
  },
  {
   "cell_type": "markdown",
   "id": "ab8a9ad6",
   "metadata": {},
   "source": [
    "Calcularemos los errores tanto absoluto como relativo"
   ]
  },
  {
   "cell_type": "code",
   "execution_count": 78,
   "id": "875d7181",
   "metadata": {},
   "outputs": [],
   "source": [
    "eabs = flam(3) - glam(3)"
   ]
  },
  {
   "cell_type": "code",
   "execution_count": 79,
   "id": "2366c7fa",
   "metadata": {},
   "outputs": [],
   "source": [
    "erel = ((eabs)/flam(3))*100"
   ]
  },
  {
   "cell_type": "code",
   "execution_count": 80,
   "id": "7dd38863",
   "metadata": {},
   "outputs": [
    {
     "name": "stdout",
     "output_type": "stream",
     "text": [
      "2.2059672648554463\n"
     ]
    }
   ],
   "source": [
    "print (erel)"
   ]
  },
  {
   "cell_type": "markdown",
   "id": "c9bfd026",
   "metadata": {},
   "source": [
    "Como el error relativo es muy superior a la tolerancia tenemos que aumentar el número de términos de la serie de taylor para reducir el error por lo que hacemos un ciclo de repetición for.\n",
    "\n",
    "Esta es una explicación general de lo que trata de lograr que es saber el orden de la función para que el error sea menor a la tolerancia. El codigo que nos permitirá saber el grado de una función evaluado en 3 es el siguiente:\n"
   ]
  },
  {
   "cell_type": "code",
   "execution_count": 83,
   "id": "0f755808",
   "metadata": {},
   "outputs": [
    {
     "name": "stdout",
     "output_type": "stream",
     "text": [
      "El orden de la función para que el error sea menor o igual a la tolerancia es de :  31\n",
      "El error es de:  2.2059672648554463 %\n"
     ]
    }
   ],
   "source": [
    "x,y,z = sy.symbols('x y z')\n",
    "x = sy.symbols('x')\n",
    "f = (sy.exp(x**2)-(3*sy.cos(x))**2)/sy.log(x)\n",
    "flam = sy.lambdify(x,f)\n",
    "for i in range(1,50):\n",
    "    g = sy.series(f,x,0,i)\n",
    "    gx = g.removeO()\n",
    "    glam = sy.lambdify(x,gx)\n",
    "    eabs = flam(3) - glam(3)\n",
    "    erel = ((eabs)/flam(3))*100\n",
    "    if erel <= 3:\n",
    "        a=i\n",
    "        break\n",
    "print(\"El orden de la función para que el error sea menor o igual a la tolerancia es de : \", a)\n",
    "print(\"El error es de: \", erel, \"%\")\n",
    "    \n",
    "    \n"
   ]
  },
  {
   "cell_type": "code",
   "execution_count": null,
   "id": "76ed7c3c",
   "metadata": {},
   "outputs": [],
   "source": []
  }
 ],
 "metadata": {
  "kernelspec": {
   "display_name": "Python 3 (ipykernel)",
   "language": "python",
   "name": "python3"
  },
  "language_info": {
   "codemirror_mode": {
    "name": "ipython",
    "version": 3
   },
   "file_extension": ".py",
   "mimetype": "text/x-python",
   "name": "python",
   "nbconvert_exporter": "python",
   "pygments_lexer": "ipython3",
   "version": "3.11.5"
  }
 },
 "nbformat": 4,
 "nbformat_minor": 5
}
