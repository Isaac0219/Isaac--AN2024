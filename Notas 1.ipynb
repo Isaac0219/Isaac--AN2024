{
 "cells": [
  {
   "cell_type": "markdown",
   "id": "coordinated-southwest",
   "metadata": {},
   "source": [
    "Enteros \n",
    "|:d0|d1|d2|d3:|\n",
    "\n",
    "\n"
   ]
  },
  {
   "cell_type": "code",
   "execution_count": 9,
   "id": "together-literacy",
   "metadata": {},
   "outputs": [
    {
     "name": "stdout",
     "output_type": "stream",
     "text": [
      "Espected Result: 100.0\n",
      "Actual Result: 99.9999999999986\n"
     ]
    }
   ],
   "source": [
    "total = 0.0\n",
    "for i in range(1000):\n",
    "    total += 0.1\n",
    "print(f\"Espected Result: 100.0\\nActual Result: {total}\")"
   ]
  },
  {
   "cell_type": "code",
   "execution_count": 7,
   "id": "growing-prior",
   "metadata": {},
   "outputs": [
    {
     "data": {
      "text/plain": [
       "0.9999999999999561"
      ]
     },
     "execution_count": 7,
     "metadata": {},
     "output_type": "execute_result"
    }
   ],
   "source": [
    "def iternum(n):\n",
    "    result =1\n",
    "    for i in range(n):\n",
    "        result += 0.1\n",
    "    for i in range(n):\n",
    "        result -= 0.1\n",
    "    return result\n",
    "iternum(10000)"
   ]
  },
  {
   "cell_type": "code",
   "execution_count": 11,
   "id": "collective-blues",
   "metadata": {},
   "outputs": [
    {
     "data": {
      "text/plain": [
       "'0.999999999959817587047439246817'"
      ]
     },
     "execution_count": 11,
     "metadata": {},
     "output_type": "execute_result"
    }
   ],
   "source": [
    "format(iternum(10000000), '0.30f')"
   ]
  },
  {
   "cell_type": "code",
   "execution_count": 13,
   "id": "favorite-commonwealth",
   "metadata": {},
   "outputs": [
    {
     "data": {
      "text/plain": [
       "False"
      ]
     },
     "execution_count": 13,
     "metadata": {},
     "output_type": "execute_result"
    }
   ],
   "source": [
    "0.3 == 0.1+0.1+0.1"
   ]
  },
  {
   "cell_type": "code",
   "execution_count": null,
   "id": "turkish-calendar",
   "metadata": {},
   "outputs": [],
   "source": []
  }
 ],
 "metadata": {
  "kernelspec": {
   "display_name": "Python 3",
   "language": "python",
   "name": "python3"
  },
  "language_info": {
   "codemirror_mode": {
    "name": "ipython",
    "version": 3
   },
   "file_extension": ".py",
   "mimetype": "text/x-python",
   "name": "python",
   "nbconvert_exporter": "python",
   "pygments_lexer": "ipython3",
   "version": "3.9.2"
  }
 },
 "nbformat": 4,
 "nbformat_minor": 5
}
