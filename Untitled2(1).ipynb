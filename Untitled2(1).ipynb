{
 "cells": [
  {
   "cell_type": "markdown",
   "id": "offensive-acceptance",
   "metadata": {},
   "source": [
    "# Formula baricéntrica"
   ]
  },
  {
   "cell_type": "markdown",
   "id": "union-application",
   "metadata": {},
   "source": [
    "Definimos el polinomio de nodo:\n",
    "$$\\begin{equation}\n",
    "    L(x)=\\Pi_{j=0}^{N-1} (x-x_j)\n",
    " \\end{equation}$$\n",
    " Si tomamos $\\Pi_{j\\neq k}$:\n",
    " $$\\frac{L(x)}{x-x_k}$$\n",
    " \n",
    " SI tomamos el límite cuando $x\\rightarrow x_k$ de:\n",
    " $$lim_{x\\rightarrow x_k}\\frac{L(x)-L(x_k)}{x-x_k}=L'(x)$$\n",
    " \n",
    " Definimos los pesos como:\n",
    " \n",
    " $$w_k=\\frac{1}{\\Pi_{j\\neq k}(x_k-x_j)}=\\frac{1}{L'(x)}$$\n",
    " por lo tanto:\n",
    " $$p(x)=\\sum_k^{j\\neq k} y_kL_k(x)= \\sum_k^{j\\neq k} y_kL(x)\\frac{w_k}{x-x_k}$$"
   ]
  },
  {
   "cell_type": "markdown",
   "id": "moderate-omaha",
   "metadata": {},
   "source": [
    "# Minimos cuadrádos"
   ]
  },
  {
   "cell_type": "markdown",
   "id": "limiting-friendship",
   "metadata": {},
   "source": [
    "Minimizar la siguietne función:$$\\chi^2 = \\sum_{j=0}^{N-1}\\left[\\frac{y_j - P(x_j,c_\\alpha)}{\\sigma_k}\\right]^2$$\n",
    "derivando\n",
    "$$\\frac{\\delta \\chi^2}{\\delta C_\\alpha}=\\frac{2(y_j - P(x_j,C_\\alpha))}{\\sigma_k^2}\\frac{\\delta P(x_j)}{\\delta C_\\alpha}=0$$\n",
    "lo cual se puede vero como:\n",
    "$$\\sum_{j=0}^{N-1}\\frac{2y_j - \\Phi_\\alpha(x_j)}{\\sigma^2} - \\sum_\\beta C_\\beta \\sum_{j=0}^{N-1}\\frac{2\\Phi_\\beta(x_j)\\Phi_\\alpha(x_j)}{\\sigma_k^2}$$ lo cual se puede ver como:\n",
    "$$B_\\alpha - \\sum_\\beta C_\\beta M_{\\beta \\alpha}=0$$"
   ]
  },
  {
   "cell_type": "code",
   "execution_count": 3,
   "id": "blond-filename",
   "metadata": {},
   "outputs": [],
   "source": [
    "import numpy as np\n",
    "\n",
    "def calcular_coeficientes(x, y, err, grad):\n",
    "    n = grad\n",
    "    A = np.zeros((n, n))\n",
    "    b = np.zeros(n)\n",
    "\n",
    "    for i in range(n):\n",
    "        for j in range(n):\n",
    "            A[i, j] = 2*np.sum((x**(i+j))/err)\n",
    "\n",
    "        # Corrección de error de sintaxis\n",
    "        b[i] = 2 * np.sum((y * x**i)/err)\n",
    "\n",
    "    coef = np.linalg.solve(A, b)\n",
    "    return coef\n"
   ]
  },
  {
   "cell_type": "code",
   "execution_count": 4,
   "id": "cardiac-master",
   "metadata": {},
   "outputs": [],
   "source": [
    "import pandas as pd"
   ]
  },
  {
   "cell_type": "code",
   "execution_count": 7,
   "id": "prescribed-combining",
   "metadata": {},
   "outputs": [],
   "source": [
    "df = pd.read_csv('datos alba.tsv', sep='\\t')"
   ]
  },
  {
   "cell_type": "code",
   "execution_count": 8,
   "id": "norwegian-voltage",
   "metadata": {},
   "outputs": [
    {
     "name": "stdout",
     "output_type": "stream",
     "text": [
      "         10        16      774.30      251.79       45.29      206.49\n",
      "0         17        24      998.58      167.93   ...                 \n",
      "1         25        34     1043.85      169.10   ...                 \n",
      "2         35        49     1487.39      144.86   ...                 \n",
      "3         50        59     1217.93      185.93   ...                 \n",
      "4         60        69     1537.69      196.20   ...                 \n"
     ]
    }
   ],
   "source": [
    "print(df.head())"
   ]
  },
  {
   "cell_type": "code",
   "execution_count": 24,
   "id": "mature-freeze",
   "metadata": {},
   "outputs": [
    {
     "name": "stdout",
     "output_type": "stream",
     "text": [
      "    x_1  x_2\n",
      "0    10   16\n",
      "1    17   24\n",
      "2    25   34\n",
      "3    35   49\n",
      "4    50   59\n",
      "5    60   69\n",
      "6    70   79\n",
      "7    80   89\n",
      "8    90   99\n",
      "9   100  119\n",
      "10  120  139\n",
      "11  140  159\n",
      "12  160  179\n",
      "13  180  199\n",
      "14  200  219\n",
      "15  220  239\n",
      "16  240  259\n",
      "17  260  279\n",
      "18  280  309\n",
      "19  310  349\n",
      "20  350  399\n",
      "21  400  449\n",
      "22  450  524\n",
      "23  525  599\n",
      "24  600  699\n",
      "x_1    198.88\n",
      "x_2    225.48\n",
      "dtype: float64\n"
     ]
    }
   ],
   "source": [
    "import pandas as pd\n",
    "\n",
    "# Leer un archivo CSV y almacenar los datos en un DataFrame\n",
    "df = pd.read_csv('datos alba.csv', delimiter=',')\n",
    "\n",
    "# Seleccionar las dos primeras columnas\n",
    "dos_primeras_columnas = df.iloc[:, 0:2]\n",
    "promedio = dos_primeras_columnas.mean()\n",
    "\n",
    "# Imprimir las dos primeras columnas\n",
    "print(dos_primeras_columnas)\n",
    "print(promedio)\n"
   ]
  },
  {
   "cell_type": "code",
   "execution_count": null,
   "id": "broad-snowboard",
   "metadata": {},
   "outputs": [],
   "source": []
  },
  {
   "cell_type": "code",
   "execution_count": null,
   "id": "exciting-inspiration",
   "metadata": {},
   "outputs": [],
   "source": []
  }
 ],
 "metadata": {
  "kernelspec": {
   "display_name": "Python 3",
   "language": "python",
   "name": "python3"
  },
  "language_info": {
   "codemirror_mode": {
    "name": "ipython",
    "version": 3
   },
   "file_extension": ".py",
   "mimetype": "text/x-python",
   "name": "python",
   "nbconvert_exporter": "python",
   "pygments_lexer": "ipython3",
   "version": "3.9.2"
  }
 },
 "nbformat": 4,
 "nbformat_minor": 5
}
