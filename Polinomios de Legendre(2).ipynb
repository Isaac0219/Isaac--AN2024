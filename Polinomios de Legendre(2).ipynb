{
 "cells": [
  {
   "cell_type": "markdown",
   "id": "related-instrumentation",
   "metadata": {},
   "source": [
    "$\\textit{Polinomios de Legendre} $ \n",
    "\n"
   ]
  },
  {
   "cell_type": "markdown",
   "id": "banned-punch",
   "metadata": {},
   "source": [
    " "
   ]
  },
  {
   "cell_type": "markdown",
   "id": "plain-surfing",
   "metadata": {},
   "source": [
    "En nuestro campo de estudio hay variedad de problemas en los cuales la problemática está en la resolución de ecuaciones diferenciales que involucren el Laplaciano de una función $\\Phi$:\n",
    "\n",
    "\n",
    "<center>$\\Delta^2 \\Phi$\n",
    "\n",
    "    \n",
    "Por lo que si tenemos que la función $\\Phi$ = $\\Phi(x,y,z)$, el lapaciano de la función quedaría de la forma:\n",
    "        \n",
    "<center>$\\Delta^2 \\Phi$ = ($\\frac{\\delta^2 \\Phi}{\\delta x^2}$) + ($\\frac{\\delta^2 \\Phi}{\\delta x^2}$) + ($\\frac{\\delta^2 \\Phi}{\\delta x^2}$)\n",
    "    \n",
    "Sin embargo tambien sabemos que en este tipo de ecuaciones la elección de coordenadas es crucial para una óptima resolución de la misma, por lo que la función $\\Phi(x,y,z)$ se puede transformar entonces a una $\\Phi(r,\\theta, \\phi)$ para que sea expresada en coordenadas esféricas. De igual forma el Laplaciano en coordenadas esféricas aplicado a $\\Phi$ es:\n",
    "<center>$\\Delta^2 \\Phi$ = $\\frac{1}{r²}\\frac{\\delta}{\\delta r} [r²\\frac{\\delta \\Phi}{\\delta r}]$ + $\\frac{1}{r²sin(\\theta)}\\frac{\\delta}{\\delta \\phi}[\\frac{1}{sin(\\theta)}\\frac{\\delta \\Phi}{\\delta \\phi}]$ + $\\frac{1}{r²sin(\\theta)}\\frac{\\delta}{\\delta \\theta}[sin(\\theta)\\frac{\\delta \\Phi}{\\delta \\theta}]$"
   ]
  },
  {
   "cell_type": "markdown",
   "id": "separate-motivation",
   "metadata": {},
   "source": [
    "Sin embargo podemos considerar que $\\Phi$ es separable, es decir que $\\Phi(r, \\theta, \\phi)$ = $R(r)Y(\\theta, \\phi)$"
   ]
  },
  {
   "cell_type": "code",
   "execution_count": 1,
   "id": "concrete-renaissance",
   "metadata": {},
   "outputs": [],
   "source": [
    "import numpy as np\n",
    "import sympy as sy\n",
    "from sympy import *\n",
    "from sympy.abc import x\n",
    "import matplotlib.pyplot as plt"
   ]
  },
  {
   "cell_type": "code",
   "execution_count": 34,
   "id": "billion-chassis",
   "metadata": {},
   "outputs": [
    {
     "data": {
      "text/latex": [
       "$\\displaystyle \\left\\{-0.906179845938664, -0.538469310105683, 0, 0.538469310105683, 0.906179845938664\\right\\}$"
      ],
      "text/plain": [
       "FiniteSet(-0.906179845938664, -0.538469310105683, 0, 0.538469310105683, 0.906179845938664)"
      ]
     },
     "execution_count": 34,
     "metadata": {},
     "output_type": "execute_result"
    }
   ],
   "source": [
    "x = sy.symbols('x')\n",
    "sy.solveset(sy.Eq( (1/8)*(63*x**5-70*x**3+15*x),0 )).n()\n"
   ]
  },
  {
   "cell_type": "code",
   "execution_count": 35,
   "id": "lasting-array",
   "metadata": {},
   "outputs": [
    {
     "name": "stdout",
     "output_type": "stream",
     "text": [
      "39.375*x**4 - 26.25*x**2 + 1.875\n"
     ]
    }
   ],
   "source": [
    "a=(1/8)*(63*x**5-70*x**3+15*x)\n",
    "a_1=sy.diff(a,x)\n",
    "print(a_1)"
   ]
  },
  {
   "cell_type": "code",
   "execution_count": 36,
   "id": "regulated-boutique",
   "metadata": {},
   "outputs": [
    {
     "data": {
      "text/plain": [
       "Text(0.5, 1.0, 'Gráfica de la función F(X) contra G(X)')"
      ]
     },
     "execution_count": 36,
     "metadata": {},
     "output_type": "execute_result"
    },
    {
     "data": {
      "image/png": "[encoded data removed]",
      "text/plain": [
       "<Figure size 432x288 with 1 Axes>"
      ]
     },
     "metadata": {
      "needs_background": "light"
     },
     "output_type": "display_data"
    }
   ],
   "source": [
    "X = np.linspace(-1,1)\n",
    "a=(1/8)*(63*X**5-70*X**3+15*X)\n",
    "plt.plot(X,a,label = \"F(X)\")\n",
    "plt.legend(loc=2)\n",
    "plt.grid(True)\n",
    "plt.xlabel(\"X\")\n",
    "plt.ylabel(\"F(X)\")\n",
    "plt.title(\"Gráfica de la función F(X) contra G(X)\")"
   ]
  },
  {
   "cell_type": "code",
   "execution_count": 15,
   "id": "banned-child",
   "metadata": {},
   "outputs": [],
   "source": [
    "def new1(y,x):\n",
    "    X=x-(1/8*(63*x**5-70*x**3+15*x))/(39.375*x**4 - 26.25*x**2 + 1.875)\n",
    "    y=y+1\n",
    "    print(X)\n",
    "    f=np.abs(X-x)\n",
    "    print(f)\n",
    "    print(\"\\n\\n\")\n",
    "    if f<(1e-15):\n",
    "        print(\"El número de iteraciones fue:\",y)\n",
    "        return X\n",
    "    else:\n",
    "        return new1(y,X)"
   ]
  },
  {
   "cell_type": "code",
   "execution_count": 38,
   "id": "tough-campbell",
   "metadata": {},
   "outputs": [
    {
     "name": "stdout",
     "output_type": "stream",
     "text": [
      "-0.5403508771929825\n",
      "0.04035087719298247\n",
      "\n",
      "\n",
      "\n",
      "-0.5384719099677076\n",
      "0.001878967225274919\n",
      "\n",
      "\n",
      "\n",
      "-0.5384693101108089\n",
      "2.5998568986551618e-06\n",
      "\n",
      "\n",
      "\n",
      "-0.5384693101056831\n",
      "5.125788682391885e-12\n",
      "\n",
      "\n",
      "\n",
      "-0.5384693101056832\n",
      "1.1102230246251565e-16\n",
      "\n",
      "\n",
      "\n",
      "El número de iteraciones fue: 5\n"
     ]
    },
    {
     "data": {
      "text/plain": [
       "-0.5384693101056832"
      ]
     },
     "execution_count": 38,
     "metadata": {},
     "output_type": "execute_result"
    }
   ],
   "source": [
    "y=0\n",
    "x=-0.5\n",
    "new1(y,x)"
   ]
  },
  {
   "cell_type": "code",
   "execution_count": 39,
   "id": "yellow-residence",
   "metadata": {},
   "outputs": [
    {
     "name": "stdout",
     "output_type": "stream",
     "text": [
      "-0.9333333333333333\n",
      "0.06666666666666665\n",
      "\n",
      "\n",
      "\n",
      "-0.9093264322119011\n",
      "0.024006901121432223\n",
      "\n",
      "\n",
      "\n",
      "-0.9062289457968717\n",
      "0.0030974864150293824\n",
      "\n",
      "\n",
      "\n",
      "-0.9061798581501155\n",
      "4.908764675626287e-05\n",
      "\n",
      "\n",
      "\n",
      "-0.9061798459386647\n",
      "1.2211450739485485e-08\n",
      "\n",
      "\n",
      "\n",
      "-0.9061798459386641\n",
      "6.661338147750939e-16\n",
      "\n",
      "\n",
      "\n",
      "El número de iteraciones fue: 6\n"
     ]
    },
    {
     "data": {
      "text/plain": [
       "-0.9061798459386641"
      ]
     },
     "execution_count": 39,
     "metadata": {},
     "output_type": "execute_result"
    }
   ],
   "source": [
    "y=0\n",
    "x=-1\n",
    "new1(y,x)"
   ]
  },
  {
   "cell_type": "code",
   "execution_count": 42,
   "id": "charming-andrews",
   "metadata": {},
   "outputs": [
    {
     "name": "stdout",
     "output_type": "stream",
     "text": [
      "-0.1463063063063063\n",
      "0.3463063063063063\n",
      "\n",
      "\n",
      "\n",
      "0.03958559557611466\n",
      "0.18589190188242097\n",
      "\n",
      "\n",
      "\n",
      "-0.0005902451777079071\n",
      "0.040175840753822564\n",
      "\n",
      "\n",
      "\n",
      "1.9192695155595754e-09\n",
      "0.0005902470969774226\n",
      "\n",
      "\n",
      "\n",
      "0.0\n",
      "1.9192695155595754e-09\n",
      "\n",
      "\n",
      "\n",
      "0.0\n",
      "0.0\n",
      "\n",
      "\n",
      "\n",
      "El número de iteraciones fue: 6\n"
     ]
    },
    {
     "data": {
      "text/plain": [
       "0.0"
      ]
     },
     "execution_count": 42,
     "metadata": {},
     "output_type": "execute_result"
    }
   ],
   "source": [
    "y=0\n",
    "x=0.2\n",
    "new1(y,x)"
   ]
  },
  {
   "cell_type": "code",
   "execution_count": null,
   "id": "composed-venezuela",
   "metadata": {},
   "outputs": [],
   "source": []
  }
 ],
 "metadata": {
  "kernelspec": {
   "display_name": "Python 3",
   "language": "python",
   "name": "python3"
  },
  "language_info": {
   "codemirror_mode": {
    "name": "ipython",
    "version": 3
   },
   "file_extension": ".py",
   "mimetype": "text/x-python",
   "name": "python",
   "nbconvert_exporter": "python",
   "pygments_lexer": "ipython3",
   "version": "3.9.2"
  }
 },
 "nbformat": 4,
 "nbformat_minor": 5
}
