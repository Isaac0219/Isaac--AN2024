{
 "cells": [
  {
   "cell_type": "markdown",
   "id": "related-instrumentation",
   "metadata": {},
   "source": [
    "## $\\textit{Proyecto Primer Parcial}$ \n",
    "\n",
    "### Polinómios de Legendre\n",
    "\n",
    "$\\textbf{Contexto Teórico}$"
   ]
  },
  {
   "cell_type": "markdown",
   "id": "banned-punch",
   "metadata": {},
   "source": [
    " "
   ]
  },
  {
   "cell_type": "markdown",
   "id": "plain-surfing",
   "metadata": {},
   "source": [
    "En nuestro campo de estudio hay variedad de problemas en los cuales la problemática está en la resolución de ecuaciones diferenciales que involucren el Laplaciano de una función $\\Phi$:\n",
    "\n",
    "\n",
    "<center>$\\nabla^2 \\Phi$\n",
    "\n",
    "    \n",
    "Por lo que si tenemos que la función $\\Phi$ = $\\Phi(x,y,z)$, el lapaciano de la función quedaría de la forma:\n",
    "        \n",
    "<center>$\\nabla^2 \\Phi$ = ($\\frac{\\delta^2 \\Phi}{\\delta x^2}$) + ($\\frac{\\delta^2 \\Phi}{\\delta x^2}$) + ($\\frac{\\delta^2 \\Phi}{\\delta x^2}$)\n",
    "    \n",
    "Sin embargo tambien sabemos que en este tipo de ecuaciones la elección de coordenadas es crucial para una óptima resolución de la misma, por lo que la función $\\Phi(x,y,z)$ se puede transformar entonces a una $\\Phi(r,\\theta, \\phi)$ para que sea expresada en coordenadas esféricas. De igual forma el Laplaciano en coordenadas esféricas aplicado a $\\Phi$ es:\n",
    "<center>$\\nabla^2 \\Phi$ = $\\frac{1}{r²}\\frac{\\delta}{\\delta r} [r²\\frac{\\delta \\Phi}{\\delta r}]$ + $\\frac{1}{r²sin(\\theta)}\\frac{\\delta}{\\delta \\phi}[\\frac{1}{sin(\\theta)}\\frac{\\delta \\Phi}{\\delta \\phi}]$ + $\\frac{1}{r²sin(\\theta)}\\frac{\\delta}{\\delta \\theta}[sin(\\theta)\\frac{\\delta \\Phi}{\\delta \\theta}]$"
   ]
  },
  {
   "cell_type": "markdown",
   "id": "separate-motivation",
   "metadata": {},
   "source": [
    "Sin embargo podemos considerar que $\\Phi$ es separable, es decir que $\\Phi(r, \\theta, \\phi)$ = $R(r)Y(\\theta, \\phi)$, el laplaciano quedará expresado como:\n",
    "<center> $\\nabla^2 \\Phi$ = $Y(\\phi,\\theta)[\\frac{d^2R}{dr} + \\frac{2}{r} \\frac{dR}{dr}]$ + $R(r)\\frac{1}{r^2}[\\frac{1}{sin(\\theta)}\\frac{\\delta}{\\delta \\theta}[sin(\\theta)\\frac{\\delta Y(\\phi,\\theta)}{\\delta \\theta}] + \\frac{1}{sin^2(\\theta)}\\frac{\\delta^2Y(\\phi,\\theta)}{\\delta \\phi^2}]$\n",
    "\n"
   ]
  },
  {
   "cell_type": "markdown",
   "id": "57d83354",
   "metadata": {},
   "source": [
    "Notamos que el laplaciano tambien está \"separado\", con parciales angulares en una parte y totales radiales de otra, sin embargo notamos que la parte radial está multiplicando a las parciales angulares, mientras la parte angular está multiplicando a las totales radiales, por lo que se busca un factor para separa bien las partes radiales y angulares, en este caso dicho factor está expresado por:\n",
    "\n",
    "<center>$\\frac{r^2}{R(r)Y(\\theta,\\phi)}$ "
   ]
  },
  {
   "cell_type": "markdown",
   "id": "688c63b4",
   "metadata": {},
   "source": [
    "Por lo que si multiplicamos toda la expresion tenemos que:\n",
    "<center> $\\frac{r^2}{R(r)Y(\\theta,\\phi)}$ $\\nabla^2 \\Phi$ = $\\frac{r^2}{R(r)}[\\frac{d^2R}{dr} + \\frac{2}{r} \\frac{dR}{dr}]$ + $\\frac{1}{Y(\\theta,\\phi)}[\\frac{1}{sin(\\theta)}\\frac{\\delta}{\\delta \\theta}[sin(\\theta)\\frac{\\delta Y(\\phi,\\theta)}{\\delta \\theta}] + \\frac{1}{sin^2(\\theta)}\\frac{\\delta^2Y(\\phi,\\theta)}{\\delta \\phi^2}]$"
   ]
  },
  {
   "cell_type": "markdown",
   "id": "bdb63847",
   "metadata": {},
   "source": [
    "Ahora bien si consideramos que las variables son separables podemos decir que:\n",
    "<center> 0 = $\\frac{r^2}{R(r)}[\\frac{d^2R}{dr} + \\frac{2}{r} \\frac{dR}{dr}]$ + $\\frac{1}{Y(\\theta,\\phi)}[\\frac{1}{sin(\\theta)}\\frac{\\delta}{\\delta \\theta}[sin(\\theta)\\frac{\\delta Y(\\phi,\\theta)}{\\delta \\theta}] + \\frac{1}{sin^2(\\theta)}\\frac{\\delta^2Y(\\phi,\\theta)}{\\delta \\phi^2}]$ "
   ]
  },
  {
   "cell_type": "markdown",
   "id": "086fc077",
   "metadata": {},
   "source": [
    "Ó\n",
    "\n",
    "<center>  -$\\frac{r^2}{R(r)}[\\frac{d^2R}{dr} + \\frac{2}{r} \\frac{dR}{dr}]$  =  $\\frac{1}{Y(\\theta,\\phi)}[\\frac{1}{sin(\\theta)}\\frac{\\delta}{\\delta \\theta}[sin(\\theta)\\frac{\\delta Y(\\phi,\\theta)}{\\delta \\theta}] + \\frac{1}{sin^2(\\theta)}\\frac{\\delta^2Y(\\phi,\\theta)}{\\delta \\phi^2}]$ \n",
    "    \n",
    "Teniendo de un lado la parte radial, y del otro la parte angular."
   ]
  },
  {
   "cell_type": "markdown",
   "id": "94b1af12",
   "metadata": {},
   "source": [
    "Observando la igualdad tenemos que este se cumplirá siempre que:\n",
    "<center> $\\frac{r^2}{R(r)}[\\frac{d^2R}{dr} + \\frac{2}{r} \\frac{dR}{dr}]$ = -C\n",
    "    \n",
    "<center> $\\frac{1}{Y(\\theta,\\phi)}[\\frac{1}{sin(\\theta)}\\frac{\\delta}{\\delta \\theta}[sin(\\theta)\\frac{\\delta Y(\\phi,\\theta)}{\\delta \\theta}] + \\frac{1}{sin^2(\\theta)}\\frac{\\delta^2Y(\\phi,\\theta)}{\\delta \\phi^2}]$ = C\n"
   ]
  },
  {
   "cell_type": "markdown",
   "id": "4408ad97",
   "metadata": {},
   "source": [
    "Por lo que se plantean las siguientes ecuaciones diferenciales:\n",
    "\n",
    "Radial:\n",
    "<center>$r^2\\frac{d^2R}{dr} + 2r\\frac{dR}{dr}$ = -CR(r)\n",
    "<center>$r^2\\frac{d^2R}{dr} + 2r\\frac{dR}{dr}$ + CR(r) = 0\n",
    "    \n",
    "Angular:\n",
    "<center> $\\frac{1}{sin(\\theta)}\\frac{\\delta}{\\delta \\theta}[sin(\\theta)\\frac{\\delta Y(\\phi,\\theta)}{\\delta \\theta}] + \\frac{1}{sin^2(\\theta)}\\frac{\\delta^2Y(\\phi,\\theta)}{\\delta \\phi^2}$ = $CY(\\theta,\\phi)$\n",
    "<center> $\\frac{1}{sin(\\theta)}\\frac{\\delta}{\\delta \\theta}[sin(\\theta)\\frac{\\delta Y(\\phi,\\theta)}{\\delta \\theta}] + \\frac{1}{sin^2(\\theta)}\\frac{\\delta^2Y(\\phi,\\theta)}{\\delta \\phi^2}$ - $CY(\\theta,\\phi)$ = 0"
   ]
  },
  {
   "cell_type": "markdown",
   "id": "80d2d1e8",
   "metadata": {},
   "source": [
    "De la ecuacion radial tenemos que, si planteamos a R como una serie de potencias: $R(r) = \\sum_{\\lambda=0}^{\\infty}a_\\lambda r^\\lambda $ y aplicamos frobenius llegamos a:\n",
    "<center> $\\sum a_\\lambda[\\lambda(\\lambda - 1) + 2\\lambda + C]r^{\\lambda - 2}$\n",
    "    \n",
    "Teniendo que:\n",
    "<center> $C = -\\lambda(\\lambda + 1)$"
   ]
  },
  {
   "cell_type": "markdown",
   "id": "0d64852e",
   "metadata": {},
   "source": [
    "Usaremos el valor de C obtenido mediante la ecuación radial en la ecuación angular teniendo:\n",
    "<center> $\\frac{1}{sin(\\theta)}\\frac{\\delta}{\\delta \\theta}[sin(\\theta)\\frac{\\delta Y(\\phi,\\theta)}{\\delta \\theta}] + \\frac{1}{sin^2(\\theta)}\\frac{\\delta^2Y(\\phi,\\theta)}{\\delta \\phi^2}$ + $\\lambda(\\lambda + 1)Y(\\theta,\\phi)$ = 0"
   ]
  },
  {
   "cell_type": "markdown",
   "id": "b9e85821",
   "metadata": {},
   "source": [
    "Ahora bien, propondremos un cambio de coordenadas $\\xi$ = $cos(\\theta)$ con el fin de homologar todo.\n",
    "\n",
    "Por regla de la cadena:\n",
    "<center> $\\frac{\\delta Y}{\\delta \\theta} = \\frac{\\delta Y}{\\delta \\xi}\\frac{\\delta \\xi}{\\delta \\theta}$ = $-sin(\\theta)\\frac{\\delta Y}{\\delta \\xi}$ por lo que:\n",
    "\n",
    "<center> $\\frac{\\delta^2 Y}{\\delta \\theta^2} = -cos(\\theta)\\frac{\\delta Y}{\\delta \\xi} +sin^2(\\theta)\\frac{\\delta Y}{\\delta \\xi}$"
   ]
  },
  {
   "cell_type": "markdown",
   "id": "c1d0443a",
   "metadata": {},
   "source": [
    "Por lo que si usamos ese cambio en en la ecuacion angular teniendo que:\n",
    "<center> $(1 - \\xi)\\frac{\\delta^2Y}{\\delta \\xi}$ - $2\\xi\\frac{\\delta Y}{\\delta \\xi}$ + $\\lambda(\\lambda -1)Y$ + $\\frac{1}{1 - \\xi}\\frac{\\delta^2 Y}{\\delta \\phi^2}$ = 0"
   ]
  },
  {
   "cell_type": "markdown",
   "id": "17700aff",
   "metadata": {},
   "source": [
    "Un segundo cambio es necesario para homologar todo, proponiendo $Y$ = $Y_1(\\xi)e^{i\\phi m}$, $\\forall m \\in \\mathbb{Z}$ y aplicandolo a la ecuación anterior tenemos que:\n",
    "<center> [$(1 - \\xi)\\frac{\\delta^2Y_1}{\\delta \\xi}$ - $2\\xi\\frac{\\delta Y_1}{\\delta \\xi}$ + [$\\lambda(\\lambda -1)$ + $\\frac{m^2}{1 - \\xi}$]$Y_1$]$e^{im\\phi}$ = 0, lo que se puede ver como:\n",
    "<center> $(1 - \\xi)\\frac{\\delta^2Y_1}{\\delta \\xi}$ - $2\\xi\\frac{\\delta Y_1}{\\delta \\xi}$ + $[\\lambda(\\lambda -1)$ + $\\frac{m^2}{1 - \\xi}$]$Y_1$ = 0\n",
    "    \n",
    "Que es conocida como la $\\textit{Ecuación Asociada de Legendre}$"
   ]
  },
  {
   "cell_type": "markdown",
   "id": "6ade111f",
   "metadata": {},
   "source": [
    " "
   ]
  },
  {
   "cell_type": "markdown",
   "id": "c2ffee34",
   "metadata": {},
   "source": [
    "Si por simetría la función $\\Phi$ no depende de $\\phi$ entonces es equivalente a que, en la Ecuación Asociada de Legendre m=0 por lo que nuestra ecuación quedarí a de la siguiente manera:\n",
    "<center> $(1 - \\xi)\\frac{\\delta^2Y_1}{\\delta \\xi}$ - $2\\xi\\frac{\\delta Y_1}{\\delta \\xi}$ + $\\lambda(\\lambda -1)Y_1$ = 0\n",
    "    \n",
    "Que es conocida como la $\\textit{Ecuación de Legendre}$"
   ]
  },
  {
   "cell_type": "markdown",
   "id": "1b6c9b1b",
   "metadata": {},
   "source": [
    " "
   ]
  },
  {
   "cell_type": "markdown",
   "id": "e81f3255",
   "metadata": {},
   "source": [
    "Tomemos la ecuación de Legendre en x:\n",
    "<center> $(1 - x)\\frac{\\delta^2y}{\\delta x}$ - $2x\\frac{\\delta y}{\\delta x}$ + $\\lambda(\\lambda -1)y$ = 0"
   ]
  },
  {
   "cell_type": "markdown",
   "id": "458d6db8",
   "metadata": {},
   "source": [
    "Aplicando Frobenius haciendo el cambio en y(x) = $\\sum^\\infty_{k=0}c_kx^k$ tenemos que:\n",
    "<center> $c_{k + 2} = [\\frac{\\lambda(\\lambda + 1) - k(k-1)}{(k+2)(k+1)}]c_k$"
   ]
  },
  {
   "cell_type": "markdown",
   "id": "9c69d465",
   "metadata": {},
   "source": [
    "Desarrollando la relación de recurrencia ponemos notar que dicha solución estará en términos de $c_0$ para la familia de coficientes de índice par, mientras que estará en términos de $c_1$ para la familia de coeficientes de índice impar. Por lo que se puede decir que la solución se compone de 2 soluciones linealmente independientes:\n",
    "<center> $y(x)$ = $c_0\\sum_{par}b_{2k}x^{2k}$ +  $c_1\\sum_{par}b_{2k+1}x^{2k+1}$, con b como el nuevo coeficiente $c_k$ correspondiente al tipo de solución.\n",
    "\n",
    "Otra posibilidad que se desprende de la relación de recurrencia $c_{k+2}$ es para cuando $\\lambda \\in \\mathbb{N}$, en este caso una solución será polinómica, de grado $\\lambda$. Si a estas soluciónes polinómicas de grado $\\lambda$ se les agrega la condición de que evaluados en $x=1$ su valor sea 1, se les llamará $\\textit{Polinomios de Legendre}$."
   ]
  },
  {
   "cell_type": "markdown",
   "id": "72487c7c",
   "metadata": {},
   "source": [
    "   "
   ]
  },
  {
   "cell_type": "markdown",
   "id": "2d9a1c4a",
   "metadata": {},
   "source": [
    " "
   ]
  },
  {
   "cell_type": "markdown",
   "id": "d5c7a1e6",
   "metadata": {},
   "source": [
    " "
   ]
  },
  {
   "cell_type": "markdown",
   "id": "b94d43a3",
   "metadata": {},
   "source": [
    " "
   ]
  },
  {
   "cell_type": "markdown",
   "id": "6c1e57a9",
   "metadata": {},
   "source": [
    "$\\textbf{Propuesta}$\n",
    "\n",
    "Dados los polinomios de Legendre, obtener las raices mediante el método de Newton-Raphson para obtener raices, compararlas con las raices obtenidas por la librería simpy de Python y obtener el error de las soluciones. Con el fin de observar algunas de las características de las mismas. Así como la aplicación a un problemade mecánica cuántica."
   ]
  },
  {
   "cell_type": "markdown",
   "id": "1f41e287",
   "metadata": {},
   "source": [
    "$\\textbf{Implementación}$"
   ]
  },
  {
   "cell_type": "code",
   "execution_count": 10,
   "id": "concrete-renaissance",
   "metadata": {},
   "outputs": [],
   "source": [
    "import numpy as np\n",
    "import sympy as sy\n",
    "from sympy import *\n",
    "from sympy.abc import x\n",
    "import matplotlib.pyplot as plt"
   ]
  },
  {
   "cell_type": "markdown",
   "id": "511fcce9",
   "metadata": {},
   "source": [
    "Primero se definirá una función que obtenga el polinomio de legendre de grado n de forma simbólica."
   ]
  },
  {
   "cell_type": "code",
   "execution_count": 47,
   "id": "b08977d5",
   "metadata": {},
   "outputs": [
    {
     "name": "stdout",
     "output_type": "stream",
     "text": [
      "Polinomio de Legendre de grado\n"
     ]
    },
    {
     "data": {
      "text/latex": [
       "$\\displaystyle \\frac{35 x^{4}}{8} - \\frac{15 x^{2}}{4} + \\frac{3}{8}$"
      ],
      "text/plain": [
       "35*x**4/8 - 15*x**2/4 + 3/8"
      ]
     },
     "metadata": {},
     "output_type": "display_data"
    }
   ],
   "source": [
    "def legendre_polynomial_symbolic(n, x):\n",
    "    return sy.legendre(n, x)\n",
    "\n",
    "x = sy.symbols('x')\n",
    "\n",
    "n = 4\n",
    "\n",
    "legendre_poly = legendre_polynomial_symbolic(n, x)\n",
    "\n",
    "print(f\"Polinomio de Legendre de grado\")\n",
    "display(legendre_poly)"
   ]
  },
  {
   "cell_type": "markdown",
   "id": "12e41058",
   "metadata": {},
   "source": [
    "Usando la librería sympy resolvemos el polinomio generado por nuestra función."
   ]
  },
  {
   "cell_type": "code",
   "execution_count": 124,
   "id": "billion-chassis",
   "metadata": {},
   "outputs": [
    {
     "data": {
      "text/latex": [
       "$\\displaystyle \\left\\{-0.861136311594053, -0.339981043584856, 0.339981043584856, 0.861136311594053\\right\\}$"
      ],
      "text/plain": [
       "{-0.861136311594053, -0.339981043584856, 0.339981043584856, 0.861136311594053}"
      ]
     },
     "execution_count": 124,
     "metadata": {},
     "output_type": "execute_result"
    }
   ],
   "source": [
    "sy.solveset(sy.Eq(legendre_poly,0 )).n()"
   ]
  },
  {
   "cell_type": "markdown",
   "id": "698cffea",
   "metadata": {},
   "source": [
    "Graficamos el polinomio para ver las intersecciones con el eje X y asi estimar si las soluciones calculadas por sympy son correctas, y compararlas con las futuras obtenidas por Newton-Raphson."
   ]
  },
  {
   "cell_type": "code",
   "execution_count": null,
   "id": "e04096ba",
   "metadata": {},
   "outputs": [],
   "source": [
    "leg = sy.lambdify(x,legendre_poly)"
   ]
  },
  {
   "cell_type": "code",
   "execution_count": 29,
   "id": "regulated-boutique",
   "metadata": {},
   "outputs": [
    {
     "data": {
      "text/plain": [
       "Text(0.5, 1.0, 'Gráfica del Polinomio de grado n')"
      ]
     },
     "execution_count": 29,
     "metadata": {},
     "output_type": "execute_result"
    },
    {
     "data": {
      "image/png": "[encoded data removed]",
      "text/plain": [
       "<Figure size 640x480 with 1 Axes>"
      ]
     },
     "metadata": {},
     "output_type": "display_data"
    }
   ],
   "source": [
    "X = np.linspace(-1,1)\n",
    "a=leg(X)\n",
    "plt.plot(X,a,label = \"F(X)\")\n",
    "plt.legend(loc=2)\n",
    "plt.grid(True)\n",
    "plt.xlabel(\"X\")\n",
    "plt.ylabel(\"P(X)\")\n",
    "plt.title(\"Gráfica del Polinomio de grado n\")"
   ]
  },
  {
   "cell_type": "markdown",
   "id": "653ed3f5",
   "metadata": {},
   "source": [
    "Aqui, como sabemos el método recursivo de Newton-Rapshon tiene en cuenta la derivada de la función para funcionar, por lo que se calcula y se transforma para poder asignarle valores"
   ]
  },
  {
   "cell_type": "code",
   "execution_count": 48,
   "id": "c5827404",
   "metadata": {},
   "outputs": [
    {
     "data": {
      "text/latex": [
       "$\\displaystyle \\frac{35 x^{3}}{2} - \\frac{15 x}{2}$"
      ],
      "text/plain": [
       "35*x**3/2 - 15*x/2"
      ]
     },
     "metadata": {},
     "output_type": "display_data"
    }
   ],
   "source": [
    "a_1=sy.diff(legendre_poly,x)\n",
    "a_2=sy.lambdify(x,a_1)\n",
    "display(a_1)"
   ]
  },
  {
   "cell_type": "markdown",
   "id": "0b1058b0",
   "metadata": {},
   "source": [
    "Con las funciones simbólicas transformadas definimos una función para la recurción del método de Newton-Raphsonm, como son polinomios de grado n, dependiendo del valor inicial que se le de a la función de Newton, este aproximará la solución más cercana, para obtener cada uno nos apoyaremos de la gráfica y reemplazaremos el valor de x con cada valor inicial deseado."
   ]
  },
  {
   "cell_type": "code",
   "execution_count": 36,
   "id": "banned-child",
   "metadata": {},
   "outputs": [],
   "source": [
    "def new1(y,x):\n",
    "    X=x-(leg(x))/(a_2(x))\n",
    "    y=y+1\n",
    "    print(X)\n",
    "    f=np.abs(X-x)\n",
    "    print(\"La diferencia X_\",y,\"- X_\",y-1)\n",
    "    print(f)\n",
    "    print(\"\\n\\n\")\n",
    "    if f<(1e-15):\n",
    "        print(\"El número de iteraciones fue:\",y)\n",
    "        return X\n",
    "    else:\n",
    "        return new1(y,X)"
   ]
  },
  {
   "cell_type": "code",
   "execution_count": 37,
   "id": "tough-campbell",
   "metadata": {},
   "outputs": [
    {
     "name": "stdout",
     "output_type": "stream",
     "text": [
      "-0.9\n",
      "La diferencia X_ 1 - X_ 0\n",
      "0.09999999999999998\n",
      "\n",
      "\n",
      "\n",
      "-0.8653870162297129\n",
      "La diferencia X_ 2 - X_ 1\n",
      "0.0346129837702871\n",
      "\n",
      "\n",
      "\n",
      "-0.8611953255899026\n",
      "La diferencia X_ 3 - X_ 2\n",
      "0.004191690639810286\n",
      "\n",
      "\n",
      "\n",
      "-0.8611363231949996\n",
      "La diferencia X_ 4 - X_ 3\n",
      "5.90023949030849e-05\n",
      "\n",
      "\n",
      "\n",
      "-0.861136311594053\n",
      "La diferencia X_ 5 - X_ 4\n",
      "1.1600946536738377e-08\n",
      "\n",
      "\n",
      "\n",
      "-0.8611363115940526\n",
      "La diferencia X_ 6 - X_ 5\n",
      "4.440892098500626e-16\n",
      "\n",
      "\n",
      "\n",
      "El número de iteraciones fue: 6\n"
     ]
    }
   ],
   "source": [
    "y=0\n",
    "x=-1\n",
    "sol = new1(y,x)"
   ]
  },
  {
   "cell_type": "markdown",
   "id": "0cbb93d9",
   "metadata": {},
   "source": [
    "Una vez tenemos la solución la evaluamos en el Polinomio y lo comparamos con su valor real para obtener su error absoluto"
   ]
  },
  {
   "cell_type": "code",
   "execution_count": 41,
   "id": "e7d87ffe",
   "metadata": {},
   "outputs": [
    {
     "name": "stdout",
     "output_type": "stream",
     "text": [
      "El error Absoluto es:\n"
     ]
    },
    {
     "data": {
      "text/plain": [
       "4.440892098500626e-16"
      ]
     },
     "metadata": {},
     "output_type": "display_data"
    }
   ],
   "source": [
    "ev = leg(sol)\n",
    "erabs = np.abs(0-ev)\n",
    "print(\"El error Absoluto es:\")\n",
    "display(erabs)"
   ]
  },
  {
   "cell_type": "markdown",
   "id": "d1ceff4b",
   "metadata": {},
   "source": [
    "Como el error es tan pequeño se puede decir que la aproximación por el método de Newton es buena."
   ]
  },
  {
   "cell_type": "markdown",
   "id": "e8cd96c3",
   "metadata": {},
   "source": [
    " "
   ]
  },
  {
   "cell_type": "markdown",
   "id": "40d59e63",
   "metadata": {},
   "source": [
    " "
   ]
  },
  {
   "cell_type": "markdown",
   "id": "e2f2cdc8",
   "metadata": {},
   "source": [
    "$\\textbf{Apicación en la mecánica cuántica}$"
   ]
  },
  {
   "cell_type": "markdown",
   "id": "4498687a",
   "metadata": {},
   "source": [
    "La ecuación de Schrödinger para el átomo de hidrógeno en coordenadas esféricas separadas es:\n",
    "\n",
    "<center>$\\left[ -\\frac{\\hbar^2}{2\\mu} \\left( \\frac{1}{r^2} \\frac{\\partial}{\\partial r} \\left( r^2 \\frac{\\partial}{\\partial r} \\right) - \\frac{l(l + 1)}{r^2} \\right) - \\frac{e^2}{r} \\right] R(r) Y_{lm}(\\theta, \\phi) = E R(r) Y_{lm}(\\theta, \\phi)$\n",
    "\n",
    "Donde:\n",
    "- \\( $\\hbar$ \\) es la constante reducida de Planck,\n",
    "- \\( $\\mu$ \\) es la masa reducida del sistema,\n",
    "- \\( $e$ \\) es la carga del electrón,\n",
    "- \\( $r$ \\) es la coordenada radial,\n",
    "- \\( $\\theta$ \\) y \\( $\\phi$ \\) son las coordenadas angulares (polar y azimutal),\n",
    "- \\( $l$ \\) es el número cuántico del momento angular orbital,\n",
    "- \\( $m$ \\) es el número cuántico de la componente del momento angular en la dirección z.\n",
    "\n"
   ]
  },
  {
   "cell_type": "markdown",
   "id": "e1825cf8",
   "metadata": {},
   "source": [
    "Donde $Y_{lm}(\\theta,\\phi)$ es el armónico esférico el cual está relacionado con los polinomios de Legendre de la forma:\n",
    "\n",
    "<center>$Y_{lm}(\\theta, \\phi) = (-1)^m \\sqrt{\\frac{2l + 1}{4\\pi} \\frac{(l - m)!}{(l + m)!}} P_l^m(\\cos(\\theta)) e^{im\\phi}$\n",
    "\n",
    "\n",
    "Donde:\n",
    "- \\( $\\theta$ \\) es el ángulo polar,\n",
    "- \\( $\\phi$ \\) es el ángulo azimutal,\n",
    "- \\( $l$ \\) es el número cuántico del momento angular orbital, y\n",
    "- \\( $m$ \\) es el número cuántico de la componente del momento angular en la dirección z.\n",
    "    \n",
    "    \n",
    "Con $P_l^m(\\cos(\\theta))$ el polinomio asociado de Legendre de grado $l$ y orden $m$.\n",
    "Los ceros de estos polinomios determinan los valores permitidos de $l$ y $m$, que a su vez influyen en los niveles de energía y las formas de las funciones de onda del átomo de hidrógeno."
   ]
  },
  {
   "cell_type": "markdown",
   "id": "a53f1b8d",
   "metadata": {},
   "source": [
    "Supongamos que estamos interesados en el átomo de hidrógeno con un electrón en un orbital $5f$, donde $n=5$, $l=4$ y $m=0$.\n",
    "\n",
    "Por lo que el polinomio asiciado de Legendre sería $P_4(\\cos(\\theta))$ de grado 4. $\\textbf{Encontrar las raíces de ese polinomio asociado de Legendre}$. "
   ]
  },
  {
   "cell_type": "markdown",
   "id": "de2cc75f",
   "metadata": {},
   "source": [
    "Para lograrlo usaremos el polinómio de legendre generado por nuestra función generadora de polinomios de Legendre y sustituiremos el valor de $x$ por $\\cos(\\theta)$"
   ]
  },
  {
   "cell_type": "code",
   "execution_count": 44,
   "id": "15ee3e11",
   "metadata": {},
   "outputs": [
    {
     "data": {
      "text/latex": [
       "$\\displaystyle \\frac{35 \\cos^{4}{\\left(t \\right)}}{8} - \\frac{15 \\cos^{2}{\\left(t \\right)}}{4} + \\frac{3}{8}$"
      ],
      "text/plain": [
       "35*cos(t)**4/8 - 15*cos(t)**2/4 + 3/8"
      ]
     },
     "metadata": {},
     "output_type": "display_data"
    }
   ],
   "source": [
    "x = sy.symbols('x')\n",
    "t = sy.symbols('t')\n",
    "polinomio_cos_theta = legendre_poly.subs(x, sp.cos(t))\n",
    "display(polinomio_cos_theta)"
   ]
  },
  {
   "cell_type": "markdown",
   "id": "f564ae08",
   "metadata": {},
   "source": [
    "Preparamos el polinomio sustituido para entrar en función del método de Newton."
   ]
  },
  {
   "cell_type": "code",
   "execution_count": 109,
   "id": "d20a94b1",
   "metadata": {},
   "outputs": [
    {
     "data": {
      "text/latex": [
       "$\\displaystyle - \\frac{35 \\sin{\\left(t \\right)} \\cos^{3}{\\left(t \\right)}}{2} + \\frac{15 \\sin{\\left(t \\right)} \\cos{\\left(t \\right)}}{2}$"
      ],
      "text/plain": [
       "-35*sin(t)*cos(t)**3/2 + 15*sin(t)*cos(t)/2"
      ]
     },
     "metadata": {},
     "output_type": "display_data"
    }
   ],
   "source": [
    "t = sy.symbols('t')\n",
    "pctd=sy.diff(polinomio_cos_theta,t)\n",
    "lpctd=sy.lambdify(t, pctd, modules='numpy')\n",
    "display(pctd)"
   ]
  },
  {
   "cell_type": "code",
   "execution_count": 105,
   "id": "598bca7a",
   "metadata": {},
   "outputs": [],
   "source": [
    "t = sy.symbols('t')\n",
    "lpct_num = sp.lambdify(t, polinomio_cos_theta, modules='numpy')"
   ]
  },
  {
   "cell_type": "code",
   "execution_count": 118,
   "id": "054d9334",
   "metadata": {},
   "outputs": [
    {
     "data": {
      "text/plain": [
       "Text(0.5, 1.0, 'Gráfica del Polinomio de grado 4 evaluado en cos(t)')"
      ]
     },
     "execution_count": 118,
     "metadata": {},
     "output_type": "execute_result"
    },
    {
     "data": {
      "image/png": "[encoded data removed]",
      "text/plain": [
       "<Figure size 640x480 with 1 Axes>"
      ]
     },
     "metadata": {},
     "output_type": "display_data"
    }
   ],
   "source": [
    "X = np.linspace(-4*np.pi,4*np.pi)\n",
    "a=lpct_num(X)\n",
    "plt.plot(X,a,label = \"F(X)\")\n",
    "plt.legend(loc=2)\n",
    "plt.grid(True)\n",
    "plt.xlabel(\"X\")\n",
    "plt.ylabel(\"P(X)\")\n",
    "plt.title(\"Gráfica del Polinomio de grado 4 evaluado en cos(t)\")"
   ]
  },
  {
   "cell_type": "code",
   "execution_count": 114,
   "id": "086e9d2d",
   "metadata": {},
   "outputs": [],
   "source": [
    "def new2(y, x):\n",
    "    X = x - (lpct_num(x) / lpctd(x))  # Evalúa lpct_num en x antes de la división\n",
    "    y = y + 1\n",
    "    print(X)\n",
    "    f = np.abs(X - x)\n",
    "    print(\"La diferencia X_\", y, \"- X_\", y - 1)\n",
    "    print(f)\n",
    "    print(\"\\n\\n\")\n",
    "    if f < (1e-15):\n",
    "        print(\"El número de iteraciones fue:\", y)\n",
    "        return X\n",
    "    else:\n",
    "        return new2(y, X)"
   ]
  },
  {
   "cell_type": "markdown",
   "id": "422d6d50",
   "metadata": {},
   "source": [
    "Llamamos a la función con un valor inicial para t"
   ]
  },
  {
   "cell_type": "code",
   "execution_count": 115,
   "id": "0aaab74a",
   "metadata": {},
   "outputs": [
    {
     "name": "stdout",
     "output_type": "stream",
     "text": [
      "0.5332212800847925\n",
      "La diferencia X_ 1 - X_ 0\n",
      "0.00962250448649371\n",
      "\n",
      "\n",
      "\n",
      "0.5332956755633366\n",
      "La diferencia X_ 2 - X_ 1\n",
      "7.43954785440426e-05\n",
      "\n",
      "\n",
      "\n",
      "0.5332956802491269\n",
      "La diferencia X_ 3 - X_ 2\n",
      "4.685790311320659e-09\n",
      "\n",
      "\n",
      "\n",
      "0.5332956802491271\n",
      "La diferencia X_ 4 - X_ 3\n",
      "2.220446049250313e-16\n",
      "\n",
      "\n",
      "\n",
      "El número de iteraciones fue: 4\n"
     ]
    }
   ],
   "source": [
    "y=0\n",
    "t=(30*np.pi)/180\n",
    "solt= new2(y,t)"
   ]
  },
  {
   "cell_type": "code",
   "execution_count": 116,
   "id": "3ce51f82",
   "metadata": {},
   "outputs": [
    {
     "data": {
      "text/plain": [
       "4.440892098500626e-16"
      ]
     },
     "execution_count": 116,
     "metadata": {},
     "output_type": "execute_result"
    }
   ],
   "source": [
    "lpct_num(solt)"
   ]
  },
  {
   "cell_type": "markdown",
   "id": "fb1562dc",
   "metadata": {},
   "source": [
    "La función new2 se comporta de la misma manera que la función new1 por lo que dependiendo del ángulo de entrada este aproximará un resultado u otro. En este caso no se resolverá con la librería sympy debido a la naturaleza de la nueva función, ya que al estar compuesta por senos y cosenos esta se comportará de una forma muy similar, por lo que la cantidad de soluciónes dependerá del rango que se le de a la función."
   ]
  },
  {
   "cell_type": "markdown",
   "id": "121fc1ae",
   "metadata": {},
   "source": [
    "$\\textbf{Análisis de resultados}$"
   ]
  },
  {
   "cell_type": "markdown",
   "id": "ff2caa5f",
   "metadata": {},
   "source": [
    "Para el caso de los polinomios de Legandre simples, es decir los polinomios sin la sustitución en $x=\\cos(\\theta)$, las soluciones proporcionadas proporcionadas por la función new1 son aproximaciones buenas de las soluciones de los polinomios. Una característica importante que se puedo notar es la rango en el cual los polinomios de Legendre tiene sus ceros, todos los polinomios de Legendre tienen sus ceros en el rango $-1\\leq x \\leq 1$, esto debido a las características de simetría y normlización de los mismos."
   ]
  },
  {
   "cell_type": "markdown",
   "id": "15636245",
   "metadata": {},
   "source": [
    "Ahora bien para el caso de la ecuación de schrodinger cuando el polinomio asociado de Legendre en el armónico esférico toma valores de 0, esto implica que la ecuación de Schrodinger no depende de la dirección angular en el espacio. Por lo tanto las probabilidades de encontrar el electrón son cero."
   ]
  },
  {
   "cell_type": "markdown",
   "id": "37010c2c",
   "metadata": {},
   "source": [
    "$\\textbf{Conclusión}$"
   ]
  },
  {
   "cell_type": "markdown",
   "id": "09bafdfc",
   "metadata": {},
   "source": [
    "Los polinomios de Legendre son herramientas útiles más que nada en contextos matemáticos, cuyos ceros ayudan en casos de cuadratura numérica, desarrollo de series de funciones, problemas de valores límite y ecuaciones diferenciales.\n",
    "Principalmente, mientras que para un enfoque más hacia la física estos tienen aplicación dentro de la mecánica cuantica por lo que su análisis es de gran utilidad. \n",
    "\n",
    "El método de Newton probó ser muy útil para obtener los ceros de los polinomio s de grado alto de Legendre, asi como los polinomios evaluados en $\\cos(\\theta)$ correspondientes a los polinios asociados de Legendre en los armónico esféricos\n",
    "    \n"
   ]
  }
 ],
 "metadata": {
  "kernelspec": {
   "display_name": "Python 3 (ipykernel)",
   "language": "python",
   "name": "python3"
  },
  "language_info": {
   "codemirror_mode": {
    "name": "ipython",
    "version": 3
   },
   "file_extension": ".py",
   "mimetype": "text/x-python",
   "name": "python",
   "nbconvert_exporter": "python",
   "pygments_lexer": "ipython3",
   "version": "3.11.5"
  }
 },
 "nbformat": 4,
 "nbformat_minor": 5
}
