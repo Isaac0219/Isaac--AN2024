{
 "cells": [
  {
   "cell_type": "markdown",
   "id": "analyzed-skating",
   "metadata": {},
   "source": [
    "# Integración numérica"
   ]
  },
  {
   "cell_type": "markdown",
   "id": "operational-bahrain",
   "metadata": {},
   "source": [
    "Un integrando elemental no garantiza una integral elemental.\n",
    "\n",
    "Ejemplo:\n",
    "\n",
    "\n",
    "$$\\int dx e^{-2x} = Nerf(z) \\text{ +C} $$\n",
    "\n",
    "\n",
    "Puede ser que no tengamos f(x) sino una tabla de valores $[x_i,f(x_1)]$\n",
    "\n",
    "\n",
    "Puede ser que la evaluación de la antiderivada sea impráctica.\n",
    "\n",
    "$$nint(f(x),a,d,h)= \\sum^{N-1}_{n=0} f(X_n)C_n$$\n",
    "\n",
    "Con $X_n$ son abcisas nodales, $C_n$ los pesos.\n",
    "\n",
    "Hay métodos abiertos, que son cuando a y b no son abcisas nodales (Gauss, punto medio), y cerrados donde a y b son abcisas nodales (SInpson y trapecio).\n",
    "\n",
    "Newton - Cotes $\\longrightarrow$ Sumando rectángulos o formas geométrios simples - Rejilla equidistante (regular), los pesos serían los mismos.\n",
    "\n",
    "Cuadratura Gaussiana $\\longrightarrow$ espaciamiento irregular.\n",
    "\n",
    "Por lo tanto si tenemos espaciamientos regulares:\n",
    "\n",
    "$$x_i = a+ih$$\n",
    "$$(N-1)h+a = b$$\n",
    "$$\\Rightarrow N-1 =\\frac{b-a}{h}\\Rightarrow h = \\frac{b-a}{N-1}$$\n",
    "\n",
    "Leer Forma de lagrange para el resto de una serie de taylor."
   ]
  },
  {
   "cell_type": "code",
   "execution_count": null,
   "id": "differential-essence",
   "metadata": {},
   "outputs": [],
   "source": []
  }
 ],
 "metadata": {
  "kernelspec": {
   "display_name": "Python 3",
   "language": "python",
   "name": "python3"
  },
  "language_info": {
   "codemirror_mode": {
    "name": "ipython",
    "version": 3
   },
   "file_extension": ".py",
   "mimetype": "text/x-python",
   "name": "python",
   "nbconvert_exporter": "python",
   "pygments_lexer": "ipython3",
   "version": "3.9.2"
  }
 },
 "nbformat": 4,
 "nbformat_minor": 5
}
