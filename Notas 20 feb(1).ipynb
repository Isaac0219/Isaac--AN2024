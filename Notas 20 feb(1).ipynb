{
 "cells": [
  {
   "cell_type": "markdown",
   "id": "possible-discrimination",
   "metadata": {},
   "source": [
    "Ecuación de kepler"
   ]
  },
  {
   "cell_type": "markdown",
   "id": "textile-haiti",
   "metadata": {},
   "source": [
    "r, $\\theta$ como función del tiempo\n",
    "\n",
    "Llegamos a una expresión:\n",
    "\n",
    "x-Esin(x)= $\\tau$ donde E es la excentricidad, $\\tau$ es proporcional al timepo, y x es escencialmente el ángulo."
   ]
  },
  {
   "cell_type": "markdown",
   "id": "attended-coordinator",
   "metadata": {},
   "source": [
    "Newton propuso:\n",
    "$X_{n+1} = X_n + \\frac{\\tau - X_n + Esin(X_n)}{1-Ecos(X_n)}$"
   ]
  },
  {
   "cell_type": "markdown",
   "id": "emerging-intermediate",
   "metadata": {},
   "source": [
    "Definir una función g tal que $X_{n+1} = g(X_n)$ y el punto fijo $X_n = g(X_n)$ satisace el problema original $f(X_n)=0$ "
   ]
  },
  {
   "cell_type": "markdown",
   "id": "searching-potato",
   "metadata": {},
   "source": [
    "Podemos hacer una comparación de la función recursiva"
   ]
  },
  {
   "cell_type": "code",
   "execution_count": 3,
   "id": "knowing-sapphire",
   "metadata": {},
   "outputs": [],
   "source": [
    "import numpy as np\n",
    "import sympy as sy\n",
    "from sympy import *\n",
    "from sympy.abc import x\n",
    "import matplotlib.pyplot as plt\n"
   ]
  },
  {
   "cell_type": "markdown",
   "id": "intimate-necklace",
   "metadata": {},
   "source": [
    "En esta función calculamos el punto fijo para la relación de recurrencia de la propuesta de newton"
   ]
  },
  {
   "cell_type": "code",
   "execution_count": 13,
   "id": "funky-interstate",
   "metadata": {},
   "outputs": [],
   "source": [
    "def kep(x,t,e):\n",
    "    X= x + ((t-x+e*np.sin(x))/(1-e*np.cos(x)))\n",
    "    print(X)\n",
    "    if X == x:\n",
    "        return X\n",
    "    else:\n",
    "        return kep(X,t,e)"
   ]
  },
  {
   "cell_type": "code",
   "execution_count": 14,
   "id": "formal-clothing",
   "metadata": {},
   "outputs": [
    {
     "name": "stdout",
     "output_type": "stream",
     "text": [
      "1.100654988195724\n",
      "1.0886045261524748\n",
      "1.088597752400025\n",
      "1.0885977523978936\n",
      "1.0885977523978936\n"
     ]
    },
    {
     "data": {
      "text/plain": [
       "1.0885977523978936"
      ]
     },
     "execution_count": 14,
     "metadata": {},
     "output_type": "execute_result"
    }
   ],
   "source": [
    "a=0.5\n",
    "e=0.1\n",
    "t=1\n",
    "kep(a,t,e)"
   ]
  },
  {
   "cell_type": "markdown",
   "id": "comprehensive-anime",
   "metadata": {},
   "source": [
    "Ahora para la solución de Newton para kepler"
   ]
  },
  {
   "cell_type": "code",
   "execution_count": 15,
   "id": "fewer-folks",
   "metadata": {},
   "outputs": [],
   "source": [
    "def kep1(x,t,e):\n",
    "    X= t+e*np.sin(x)\n",
    "    print(X)\n",
    "    if X == x:\n",
    "        return X\n",
    "    else:\n",
    "        return kep1(X,t,e)"
   ]
  },
  {
   "cell_type": "code",
   "execution_count": 17,
   "id": "elegant-circular",
   "metadata": {},
   "outputs": [
    {
     "name": "stdout",
     "output_type": "stream",
     "text": [
      "1.0479425538604203\n",
      "1.086639766474731\n",
      "1.0885067853016681\n",
      "1.088593533630708\n",
      "1.0885975567609814\n",
      "1.088597743325657\n",
      "1.0885977519771886\n",
      "1.0885977523783843\n",
      "1.088597752396989\n",
      "1.0885977523978516\n",
      "1.0885977523978916\n",
      "1.0885977523978936\n",
      "1.0885977523978936\n"
     ]
    },
    {
     "data": {
      "text/plain": [
       "1.0885977523978936"
      ]
     },
     "execution_count": 17,
     "metadata": {},
     "output_type": "execute_result"
    }
   ],
   "source": [
    "a=0.5\n",
    "e=0.1\n",
    "t=1\n",
    "kep1(a,t,e)"
   ]
  },
  {
   "cell_type": "markdown",
   "id": "compatible-drinking",
   "metadata": {},
   "source": [
    "Continuidad de Lipschitz\n",
    "\n",
    "|f(x) - f(y)| $\\leq \\lambda |x-y|$"
   ]
  },
  {
   "cell_type": "markdown",
   "id": "illegal-legislation",
   "metadata": {},
   "source": [
    "Sea $\\alpha$ = $g(\\alpha)$ un punto fijo.\n",
    "\n",
    "Por lo tanto plateamos $e_n = X_n -\\alpha$\n",
    "\n",
    "Con eso podemos calcular el error para $|e_{n+1}|$:\n",
    "\n",
    "$|e_{n+1}| = |g(X_n) - g(\\alpha)| \\leq \\lambda|X_n - \\alpha| \\leq \\lambda|e_n|$"
   ]
  },
  {
   "cell_type": "markdown",
   "id": "framed-homework",
   "metadata": {},
   "source": [
    "Por lo tanto podemos ver que el error e_n varia de la forma:\n",
    "\n",
    "$|e_n| \\leq \\lambda^n|e_0|$"
   ]
  }
 ],
 "metadata": {
  "kernelspec": {
   "display_name": "Python 3",
   "language": "python",
   "name": "python3"
  },
  "language_info": {
   "codemirror_mode": {
    "name": "ipython",
    "version": 3
   },
   "file_extension": ".py",
   "mimetype": "text/x-python",
   "name": "python",
   "nbconvert_exporter": "python",
   "pygments_lexer": "ipython3",
   "version": "3.9.2"
  }
 },
 "nbformat": 4,
 "nbformat_minor": 5
}
