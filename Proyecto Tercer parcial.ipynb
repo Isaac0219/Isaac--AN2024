{
 "cells": [
  {
   "cell_type": "markdown",
   "id": "8dfc2ffb-73ad-4bfb-93c7-cd9d5c478cfa",
   "metadata": {},
   "source": [
    "# Ley de Hubble, ¿Acaso aplica para todo en el cosmos?"
   ]
  },
  {
   "cell_type": "markdown",
   "id": "4d7ec1dc-ff93-42ed-821f-7961d8cfc094",
   "metadata": {},
   "source": [
    "## Ley de Hubble\n",
    "\n",
    "### Contexto Histórico\n",
    "\n",
    "La Ley de Hubble es fundamental en la cosmología moderna. Su formulación y la posterior aceptación transformaron nuestra comprensión del universo, pasando de una visión estática a una en constante expansión. En la década de 1920, el astrónomo estadounidense Edwin Hubble realizó observaciones cruciales utilizando el telescopio Hooker de 100 pulgadas en el Observatorio del Monte Wilson en California. Posteriormente ewn 1924, Hubble demostró que las nebulosas espirales, previamente pensadas como parte de nuestra galaxia, eran en realidad galaxias independientes más allá de la Vía Láctea. Esto amplió significativamente el tamaño del universo conocido. Tiempo despues en 1929, Hubble publicó un estudio donde mostró que la mayoría de las galaxias se están alejando de nosotros y que la velocidad a la que se alejan es proporcional a su distancia de la Tierra. Este descubrimiento fue la base de lo que hoy conocemos como la Ley de Hubble.\n",
    "\n",
    "\n",
    "La Ley de Hubble se puede expresar de manera matemática mediante la siguiente fórmula:\n",
    "\n",
    "$$ v = H_0 \\cdot d $$\n",
    "\n",
    "Donde:\n",
    "- $ v $ es la velocidad a la que una galaxia se aleja de nosotros,  (km/s).\n",
    "- $ d $ es la distancia a la galaxia,  (Mpc).\n",
    "- $ H_0 $ es la constante de Hubble.\n",
    "\n",
    "\n",
    "#### Velocidad de Recesión ($v$)\n",
    "\n",
    "La velocidad a la que una galaxia se aleja de nosotros se puede determinar observando el corrimiento al rojo en su espectro de luz. Este corrimiento al rojo es un efecto Doppler debido a la expansión del universo.\n",
    "\n",
    "#### Distancia ($d$)\n",
    "\n",
    "La distancia a una galaxia puede ser determinada por varios métodos, incluyendo la observación de cefeidas variables, supernovas tipo Ia, y otros métodos de medición de distancias cósmicas.\n",
    "\n",
    "#### Constante de Hubble ($H_0$)\n",
    "\n",
    "La constante de Hubble es una medida de la tasa de expansión del universo. Su valor ha sido refinado con el tiempo y aún es objeto de estudio. Los valores recientes obtenidos mediante diversas técnicas (observaciones del Telescopio Espacial Hubble, el fondo cósmico de microondas, etc.) tienden a situar \\( H_0 \\) alrededor de 70 km/s/Mpc, aunque hay variaciones.\n",
    "\n",
    "## Implicaciones Cosmológicas\n",
    "\n",
    "\n",
    "La Ley de Hubble implica que el universo se está expandiendo. Esto apoya la teoría del Big Bang, que postula que el universo comenzó a expandirse a partir de un estado extremadamente denso y caliente hace aproximadamente 13.8 mil millones de años. Debido a esta expansión, hay un límite a la distancia que se puede observar, ya que más allá de cierto punto, la luz de las galaxias no ha tenido tiempo suficiente para llegar hasta nosotros.\n",
    "\n",
    "\n",
    "Desde el descubrimiento de Hubble, se han realizado numerosos esfuerzos para medir la constante de Hubble con mayor precisión. Esto incluye observaciones de supernovas, el uso de cefeidas variables, y más recientemente, la observación del fondo cósmico de microondas por satélites como el WMAP y el Planck. Las discrepancias en los valores obtenidos por diferentes métodos han llevado a debates y estudios adicionales sobre posibles causas, incluyendo nuevas físicas más allá del modelo cosmológico estándar.\n"
   ]
  },
  {
   "cell_type": "code",
   "execution_count": 2,
   "id": "9ff277cd-1b90-4175-9ed8-0ce9abeeebc7",
   "metadata": {},
   "outputs": [],
   "source": [
    "import numpy as np\n",
    "import matplotlib.pyplot as plt\n",
    "import pandas as pd"
   ]
  },
  {
   "cell_type": "markdown",
   "id": "187bbdda-cb49-48fd-bd6c-56a0468d6876",
   "metadata": {},
   "source": [
    "## Obtención de datos"
   ]
  },
  {
   "cell_type": "markdown",
   "id": "98f914ac-163f-49c8-8b3e-f36f7ce5d2d0",
   "metadata": {},
   "source": [
    "Para el primer acercamiento, se obtuvieron datos de 35 supernovas [1]. Dichos datos tienen información de Velocidad $\\left(\\frac{km}{s}\\right)$, Distancia($Mps$), su valor de $H_0$, y el error ($\\sigma$). Aunque en los datos ya se conoce el valor de la constante de Hubble $H_0$, se puede realizar un ajuste lineal a los mismos con el objetivo de encontrar una relación entre la distancia y la velocidad, ya que como se estableció previmente la Ley de Hubble establece una relación lineal entre la velocidad y distancia."
   ]
  },
  {
   "cell_type": "code",
   "execution_count": 3,
   "id": "edbbf601-9014-4966-a320-72c3ba98154c",
   "metadata": {},
   "outputs": [
    {
     "data": {
      "text/html": [
       "<div>\n",
       "<style scoped>\n",
       "    .dataframe tbody tr th:only-of-type {\n",
       "        vertical-align: middle;\n",
       "    }\n",
       "\n",
       "    .dataframe tbody tr th {\n",
       "        vertical-align: top;\n",
       "    }\n",
       "\n",
       "    .dataframe thead th {\n",
       "        text-align: right;\n",
       "    }\n",
       "</style>\n",
       "<table border=\"1\" class=\"dataframe\">\n",
       "  <thead>\n",
       "    <tr style=\"text-align: right;\">\n",
       "      <th></th>\n",
       "      <th>Value</th>\n",
       "      <th>Supernova</th>\n",
       "      <th>Velocidad</th>\n",
       "      <th>Distancia[Mpc]</th>\n",
       "      <th>H_0</th>\n",
       "      <th>Sigma</th>\n",
       "    </tr>\n",
       "  </thead>\n",
       "  <tbody>\n",
       "    <tr>\n",
       "      <th>0</th>\n",
       "      <td>0</td>\n",
       "      <td>SN1990O</td>\n",
       "      <td>9065</td>\n",
       "      <td>134.7</td>\n",
       "      <td>67.3</td>\n",
       "      <td>2.3</td>\n",
       "    </tr>\n",
       "    <tr>\n",
       "      <th>1</th>\n",
       "      <td>1</td>\n",
       "      <td>SN1990T</td>\n",
       "      <td>12012</td>\n",
       "      <td>158.9</td>\n",
       "      <td>75.6</td>\n",
       "      <td>3.1</td>\n",
       "    </tr>\n",
       "    <tr>\n",
       "      <th>2</th>\n",
       "      <td>2</td>\n",
       "      <td>SN1990af</td>\n",
       "      <td>15055</td>\n",
       "      <td>198.6</td>\n",
       "      <td>75.8</td>\n",
       "      <td>2.8</td>\n",
       "    </tr>\n",
       "    <tr>\n",
       "      <th>3</th>\n",
       "      <td>3</td>\n",
       "      <td>SN1991S</td>\n",
       "      <td>16687</td>\n",
       "      <td>238.9</td>\n",
       "      <td>69.8</td>\n",
       "      <td>2.8</td>\n",
       "    </tr>\n",
       "    <tr>\n",
       "      <th>4</th>\n",
       "      <td>4</td>\n",
       "      <td>SN1991U</td>\n",
       "      <td>9801</td>\n",
       "      <td>117.1</td>\n",
       "      <td>83.7</td>\n",
       "      <td>3.4</td>\n",
       "    </tr>\n",
       "    <tr>\n",
       "      <th>5</th>\n",
       "      <td>5</td>\n",
       "      <td>SN1991ag</td>\n",
       "      <td>4124</td>\n",
       "      <td>56.0</td>\n",
       "      <td>73.7</td>\n",
       "      <td>2.9</td>\n",
       "    </tr>\n",
       "    <tr>\n",
       "      <th>6</th>\n",
       "      <td>6</td>\n",
       "      <td>SN1992J</td>\n",
       "      <td>13707</td>\n",
       "      <td>183.9</td>\n",
       "      <td>74.5</td>\n",
       "      <td>3.1</td>\n",
       "    </tr>\n",
       "    <tr>\n",
       "      <th>7</th>\n",
       "      <td>7</td>\n",
       "      <td>SN1992P</td>\n",
       "      <td>7880</td>\n",
       "      <td>121.5</td>\n",
       "      <td>64.8</td>\n",
       "      <td>2.2</td>\n",
       "    </tr>\n",
       "    <tr>\n",
       "      <th>8</th>\n",
       "      <td>8</td>\n",
       "      <td>SN1992ae</td>\n",
       "      <td>22426</td>\n",
       "      <td>274.6</td>\n",
       "      <td>81.6</td>\n",
       "      <td>3.4</td>\n",
       "    </tr>\n",
       "    <tr>\n",
       "      <th>9</th>\n",
       "      <td>9</td>\n",
       "      <td>SN1992ag</td>\n",
       "      <td>7765</td>\n",
       "      <td>102.1</td>\n",
       "      <td>76.1</td>\n",
       "      <td>2.7</td>\n",
       "    </tr>\n",
       "    <tr>\n",
       "      <th>10</th>\n",
       "      <td>10</td>\n",
       "      <td>SN1992al</td>\n",
       "      <td>4227</td>\n",
       "      <td>58.0</td>\n",
       "      <td>72.8</td>\n",
       "      <td>2.4</td>\n",
       "    </tr>\n",
       "    <tr>\n",
       "      <th>11</th>\n",
       "      <td>11</td>\n",
       "      <td>SN1992aq</td>\n",
       "      <td>30253</td>\n",
       "      <td>467.0</td>\n",
       "      <td>64.7</td>\n",
       "      <td>2.4</td>\n",
       "    </tr>\n",
       "    <tr>\n",
       "      <th>12</th>\n",
       "      <td>12</td>\n",
       "      <td>SN1992au</td>\n",
       "      <td>18212</td>\n",
       "      <td>262.2</td>\n",
       "      <td>69.4</td>\n",
       "      <td>2.9</td>\n",
       "    </tr>\n",
       "    <tr>\n",
       "      <th>13</th>\n",
       "      <td>13</td>\n",
       "      <td>SN1992bc</td>\n",
       "      <td>5935</td>\n",
       "      <td>88.6</td>\n",
       "      <td>67.0</td>\n",
       "      <td>2.1</td>\n",
       "    </tr>\n",
       "    <tr>\n",
       "      <th>14</th>\n",
       "      <td>14</td>\n",
       "      <td>SN1992bg</td>\n",
       "      <td>10696</td>\n",
       "      <td>151.4</td>\n",
       "      <td>70.6</td>\n",
       "      <td>2.4</td>\n",
       "    </tr>\n",
       "    <tr>\n",
       "      <th>15</th>\n",
       "      <td>15</td>\n",
       "      <td>SN1992bh</td>\n",
       "      <td>13518</td>\n",
       "      <td>202.5</td>\n",
       "      <td>66.7</td>\n",
       "      <td>2.3</td>\n",
       "    </tr>\n",
       "    <tr>\n",
       "      <th>16</th>\n",
       "      <td>16</td>\n",
       "      <td>SN1992bk</td>\n",
       "      <td>17371</td>\n",
       "      <td>235.9</td>\n",
       "      <td>73.6</td>\n",
       "      <td>2.6</td>\n",
       "    </tr>\n",
       "    <tr>\n",
       "      <th>17</th>\n",
       "      <td>17</td>\n",
       "      <td>SN1992bl</td>\n",
       "      <td>12871</td>\n",
       "      <td>176.8</td>\n",
       "      <td>72.7</td>\n",
       "      <td>2.6</td>\n",
       "    </tr>\n",
       "    <tr>\n",
       "      <th>18</th>\n",
       "      <td>18</td>\n",
       "      <td>SN1992bo</td>\n",
       "      <td>5434</td>\n",
       "      <td>77.9</td>\n",
       "      <td>69.7</td>\n",
       "      <td>2.4</td>\n",
       "    </tr>\n",
       "    <tr>\n",
       "      <th>19</th>\n",
       "      <td>19</td>\n",
       "      <td>SN1992bp</td>\n",
       "      <td>23646</td>\n",
       "      <td>309.5</td>\n",
       "      <td>76.3</td>\n",
       "      <td>2.6</td>\n",
       "    </tr>\n",
       "    <tr>\n",
       "      <th>20</th>\n",
       "      <td>20</td>\n",
       "      <td>SN1992br</td>\n",
       "      <td>26318</td>\n",
       "      <td>391.5</td>\n",
       "      <td>67.2</td>\n",
       "      <td>3.1</td>\n",
       "    </tr>\n",
       "    <tr>\n",
       "      <th>21</th>\n",
       "      <td>21</td>\n",
       "      <td>SN1992bs</td>\n",
       "      <td>18997</td>\n",
       "      <td>280.1</td>\n",
       "      <td>67.8</td>\n",
       "      <td>2.8</td>\n",
       "    </tr>\n",
       "    <tr>\n",
       "      <th>22</th>\n",
       "      <td>22</td>\n",
       "      <td>SN1993B</td>\n",
       "      <td>21190</td>\n",
       "      <td>303.4</td>\n",
       "      <td>69.8</td>\n",
       "      <td>2.4</td>\n",
       "    </tr>\n",
       "    <tr>\n",
       "      <th>23</th>\n",
       "      <td>23</td>\n",
       "      <td>SN1993O</td>\n",
       "      <td>15567</td>\n",
       "      <td>236.1</td>\n",
       "      <td>65.9</td>\n",
       "      <td>2.1</td>\n",
       "    </tr>\n",
       "    <tr>\n",
       "      <th>24</th>\n",
       "      <td>24</td>\n",
       "      <td>SN1993ag</td>\n",
       "      <td>15002</td>\n",
       "      <td>215.4</td>\n",
       "      <td>69.6</td>\n",
       "      <td>2.4</td>\n",
       "    </tr>\n",
       "    <tr>\n",
       "      <th>25</th>\n",
       "      <td>25</td>\n",
       "      <td>SN1993ah</td>\n",
       "      <td>8604</td>\n",
       "      <td>119.7</td>\n",
       "      <td>71.9</td>\n",
       "      <td>2.9</td>\n",
       "    </tr>\n",
       "    <tr>\n",
       "      <th>26</th>\n",
       "      <td>26</td>\n",
       "      <td>SN1993ac</td>\n",
       "      <td>14764</td>\n",
       "      <td>202.3</td>\n",
       "      <td>72.9</td>\n",
       "      <td>2.7</td>\n",
       "    </tr>\n",
       "    <tr>\n",
       "      <th>27</th>\n",
       "      <td>27</td>\n",
       "      <td>SN1993ae</td>\n",
       "      <td>5424</td>\n",
       "      <td>71.8</td>\n",
       "      <td>75.6</td>\n",
       "      <td>3.1</td>\n",
       "    </tr>\n",
       "    <tr>\n",
       "      <th>28</th>\n",
       "      <td>28</td>\n",
       "      <td>SN1994M</td>\n",
       "      <td>7241</td>\n",
       "      <td>96.7</td>\n",
       "      <td>74.9</td>\n",
       "      <td>2.6</td>\n",
       "    </tr>\n",
       "    <tr>\n",
       "      <th>29</th>\n",
       "      <td>29</td>\n",
       "      <td>SN1994Q</td>\n",
       "      <td>8691</td>\n",
       "      <td>127.8</td>\n",
       "      <td>68.0</td>\n",
       "      <td>2.7</td>\n",
       "    </tr>\n",
       "    <tr>\n",
       "      <th>30</th>\n",
       "      <td>30</td>\n",
       "      <td>SN1994S</td>\n",
       "      <td>4847</td>\n",
       "      <td>66.8</td>\n",
       "      <td>72.5</td>\n",
       "      <td>2.5</td>\n",
       "    </tr>\n",
       "    <tr>\n",
       "      <th>31</th>\n",
       "      <td>31</td>\n",
       "      <td>SN1994T</td>\n",
       "      <td>10715</td>\n",
       "      <td>149.9</td>\n",
       "      <td>71.5</td>\n",
       "      <td>2.6</td>\n",
       "    </tr>\n",
       "    <tr>\n",
       "      <th>32</th>\n",
       "      <td>32</td>\n",
       "      <td>SN1995ac</td>\n",
       "      <td>14634</td>\n",
       "      <td>185.6</td>\n",
       "      <td>78.8</td>\n",
       "      <td>2.7</td>\n",
       "    </tr>\n",
       "    <tr>\n",
       "      <th>33</th>\n",
       "      <td>33</td>\n",
       "      <td>SN1995ak</td>\n",
       "      <td>6673</td>\n",
       "      <td>82.4</td>\n",
       "      <td>80.9</td>\n",
       "      <td>2.8</td>\n",
       "    </tr>\n",
       "    <tr>\n",
       "      <th>34</th>\n",
       "      <td>34</td>\n",
       "      <td>SN1996C</td>\n",
       "      <td>9024</td>\n",
       "      <td>136.0</td>\n",
       "      <td>66.3</td>\n",
       "      <td>2.5</td>\n",
       "    </tr>\n",
       "    <tr>\n",
       "      <th>35</th>\n",
       "      <td>35</td>\n",
       "      <td>SN1996bl</td>\n",
       "      <td>10446</td>\n",
       "      <td>132.7</td>\n",
       "      <td>78.7</td>\n",
       "      <td>2.7</td>\n",
       "    </tr>\n",
       "  </tbody>\n",
       "</table>\n",
       "</div>"
      ],
      "text/plain": [
       "    Value Supernova  Velocidad  Distancia[Mpc]   H_0  Sigma\n",
       "0       0   SN1990O       9065           134.7  67.3    2.3\n",
       "1       1   SN1990T      12012           158.9  75.6    3.1\n",
       "2       2  SN1990af      15055           198.6  75.8    2.8\n",
       "3       3   SN1991S      16687           238.9  69.8    2.8\n",
       "4       4   SN1991U       9801           117.1  83.7    3.4\n",
       "5       5  SN1991ag       4124            56.0  73.7    2.9\n",
       "6       6   SN1992J      13707           183.9  74.5    3.1\n",
       "7       7   SN1992P       7880           121.5  64.8    2.2\n",
       "8       8  SN1992ae      22426           274.6  81.6    3.4\n",
       "9       9  SN1992ag       7765           102.1  76.1    2.7\n",
       "10     10  SN1992al       4227            58.0  72.8    2.4\n",
       "11     11  SN1992aq      30253           467.0  64.7    2.4\n",
       "12     12  SN1992au      18212           262.2  69.4    2.9\n",
       "13     13  SN1992bc       5935            88.6  67.0    2.1\n",
       "14     14  SN1992bg      10696           151.4  70.6    2.4\n",
       "15     15  SN1992bh      13518           202.5  66.7    2.3\n",
       "16     16  SN1992bk      17371           235.9  73.6    2.6\n",
       "17     17  SN1992bl      12871           176.8  72.7    2.6\n",
       "18     18  SN1992bo       5434            77.9  69.7    2.4\n",
       "19     19  SN1992bp      23646           309.5  76.3    2.6\n",
       "20     20  SN1992br      26318           391.5  67.2    3.1\n",
       "21     21  SN1992bs      18997           280.1  67.8    2.8\n",
       "22     22   SN1993B      21190           303.4  69.8    2.4\n",
       "23     23   SN1993O      15567           236.1  65.9    2.1\n",
       "24     24  SN1993ag      15002           215.4  69.6    2.4\n",
       "25     25  SN1993ah       8604           119.7  71.9    2.9\n",
       "26     26  SN1993ac      14764           202.3  72.9    2.7\n",
       "27     27  SN1993ae       5424            71.8  75.6    3.1\n",
       "28     28   SN1994M       7241            96.7  74.9    2.6\n",
       "29     29   SN1994Q       8691           127.8  68.0    2.7\n",
       "30     30   SN1994S       4847            66.8  72.5    2.5\n",
       "31     31   SN1994T      10715           149.9  71.5    2.6\n",
       "32     32  SN1995ac      14634           185.6  78.8    2.7\n",
       "33     33  SN1995ak       6673            82.4  80.9    2.8\n",
       "34     34   SN1996C       9024           136.0  66.3    2.5\n",
       "35     35  SN1996bl      10446           132.7  78.7    2.7"
      ]
     },
     "execution_count": 3,
     "metadata": {},
     "output_type": "execute_result"
    }
   ],
   "source": [
    "s=pd.read_csv(\"Hubble.csv\",sep=',')\n",
    "s"
   ]
  },
  {
   "cell_type": "code",
   "execution_count": 23,
   "id": "5530b022-758f-466b-bce0-b3fb71b337ad",
   "metadata": {},
   "outputs": [
    {
     "data": {
      "image/png": "[encoded data removed]",
      "text/plain": [
       "<Figure size 640x480 with 1 Axes>"
      ]
     },
     "metadata": {},
     "output_type": "display_data"
    }
   ],
   "source": [
    "plt.plot(s['Distancia[Mpc]'],s['Velocidad'],'.', color='darkred', label = 'Datos Obtenidos')\n",
    "plt.xlabel('Distancia $r$ [Mpc]',color='b',size=13)\n",
    "plt.ylabel('Velocidad $v$ [Km/s]',color='r',size=13)\n",
    "plt.legend()\n",
    "plt.grid()"
   ]
  },
  {
   "cell_type": "markdown",
   "id": "15141e57-b01b-4b09-9271-8545ef46a099",
   "metadata": {},
   "source": [
    "Se aislarán cada set de datos, tanto velocidad, distancia y error en arreglos de numpy independientes"
   ]
  },
  {
   "cell_type": "code",
   "execution_count": 24,
   "id": "a1c4ebae-7a98-49c0-a7af-2d90081c63af",
   "metadata": {},
   "outputs": [],
   "source": [
    "vel = s.iloc[:,2]\n",
    "dist = s.iloc[:,3]\n",
    "err = s.iloc[:,5]\n",
    "vel_n = vel.to_numpy()\n",
    "dist_n = dist.to_numpy()\n",
    "err_n = err.to_numpy()"
   ]
  },
  {
   "cell_type": "markdown",
   "id": "01fdaf06-7801-4cc1-ac18-2173a483bb56",
   "metadata": {},
   "source": [
    "Para el cálculo de dicho ajuste se usará una interpolación de los datos por medio de mínimos cuadrádos, por lo que se tendrá que generear un algoritmo capaz de calcular la función de interpolación, asi como de evaluar dicha función en rango de puntos específico. "
   ]
  },
  {
   "cell_type": "code",
   "execution_count": 25,
   "id": "a98ee160-c5b2-438a-9d4b-38740e2f35ce",
   "metadata": {},
   "outputs": [],
   "source": [
    "def calcular_coeficientes(x, y, err, grad):\n",
    "    n = grad\n",
    "    A = np.zeros((n, n))\n",
    "    b = np.zeros(n)\n",
    "\n",
    "    for i in range(n):\n",
    "        for j in range(n):\n",
    "            A[i, j] = 2*np.sum((x**(i+j))/err)\n",
    "\n",
    "        # Corrección de error de sintaxis\n",
    "        b[i] = 2 * np.sum((y * x**i)/err)\n",
    "\n",
    "    coef = np.linalg.solve(A, b)\n",
    "    return coef"
   ]
  },
  {
   "cell_type": "code",
   "execution_count": 26,
   "id": "269393f5-f5a1-44c4-95ae-c639203cfbe4",
   "metadata": {},
   "outputs": [],
   "source": [
    "def evaluar_polinomio(coeficientes, x):\n",
    "    y = np.zeros_like(x)\n",
    "    for i in range(len(coeficientes)):\n",
    "        y += coeficientes[i] * (x ** i)\n",
    "    return y"
   ]
  },
  {
   "cell_type": "code",
   "execution_count": 27,
   "id": "ece57ef4-6378-47dd-9cbf-3c68307f8b40",
   "metadata": {},
   "outputs": [
    {
     "data": {
      "text/plain": [
       "array([676.53644994,  67.37669291])"
      ]
     },
     "execution_count": 27,
     "metadata": {},
     "output_type": "execute_result"
    }
   ],
   "source": [
    "coef = calcular_coeficientes(dist_n,vel_n,err_n,2)\n",
    "coef"
   ]
  },
  {
   "cell_type": "markdown",
   "id": "368c03ba-4fc4-4329-b599-f0bb57190b35",
   "metadata": {},
   "source": [
    "Una vez con la función de interpolación lista, se generará un set de puntos en los cuales evaluar la función."
   ]
  },
  {
   "cell_type": "code",
   "execution_count": 28,
   "id": "dcfaeb77-6ade-432a-bdbc-4da42285f7ac",
   "metadata": {},
   "outputs": [],
   "source": [
    "x_1 = np.linspace(0,500,10000)\n",
    "y_1 = evaluar_polinomio(coef,x_1)"
   ]
  },
  {
   "cell_type": "code",
   "execution_count": 29,
   "id": "6b48774f-e4cd-4bce-9169-3e9ff49a8877",
   "metadata": {},
   "outputs": [
    {
     "data": {
      "image/png": "[encoded data removed]",
      "text/plain": [
       "<Figure size 640x480 with 1 Axes>"
      ]
     },
     "metadata": {},
     "output_type": "display_data"
    }
   ],
   "source": [
    "plt.plot(dist_n,vel_n,'.',label='Datos Reales', color='darkred')\n",
    "plt.plot(x_1,y_1, label = 'Ajuste realizado por mínimos cuadrádos', color = 'b')\n",
    "plt.xlabel('distance $r$ [Mpc]',color='b',size=13)\n",
    "plt.ylabel('velocity $v$ [Km/s]',color='r',size=13)\n",
    "plt.grid()"
   ]
  },
  {
   "cell_type": "code",
   "execution_count": 30,
   "id": "422f23a3-560f-4efd-a177-bfb48a72b26c",
   "metadata": {},
   "outputs": [
    {
     "name": "stdout",
     "output_type": "stream",
     "text": [
      "67.37669291231181 x +  676.5364499408603\n"
     ]
    }
   ],
   "source": [
    "print(coef[1],\"x + \", coef[0])"
   ]
  },
  {
   "cell_type": "code",
   "execution_count": 31,
   "id": "e9323ed1-d484-4d41-b0cb-3c3be71a2b31",
   "metadata": {},
   "outputs": [
    {
     "name": "stdout",
     "output_type": "stream",
     "text": [
      "La constante de hubble es: 67.37669291231181\n"
     ]
    }
   ],
   "source": [
    "print(\"La constante de hubble es:\", coef[1])"
   ]
  },
  {
   "cell_type": "markdown",
   "id": "db182fb1-ba20-41be-afff-dcc8745f9ff3",
   "metadata": {},
   "source": [
    "Como se puede ver en la gráfica la función de interpolación ajusta bastante bien los datos que se le ingresaron, por lo que se puede decir que si existe una relación de proporcionalidad lineal entre los datos de distancia y velocidad obtenidos, y la pendiente de la recta se ajusta al valor de la constante de Hubble, en este caso $H_0 = 67.3766$."
   ]
  },
  {
   "cell_type": "markdown",
   "id": "e5032fab-0c6d-485d-a93d-3a4a677b12bf",
   "metadata": {},
   "source": [
    "  "
   ]
  },
  {
   "cell_type": "markdown",
   "id": "4abe6573-20c8-4845-83e6-6ed88e84de8b",
   "metadata": {},
   "source": [
    "  "
   ]
  },
  {
   "cell_type": "markdown",
   "id": "678b299f-b7d9-4c22-bf39-04d000f842dc",
   "metadata": {},
   "source": [
    "Sin embargo algo que tienen en común los datos anteriores es que todos pertenecen a lo que se le conoce como \"Universo Local\"[2], lo cual implica que $V <30000$. Por lo que ahora la pregunta es ¿Que suscede para aquellas galaxias que están fuera de dicho arreglo?.\n",
    "\n",
    "Para responder a esa pregunta se obtuvieron otros datos de galaxias con redshifts mas altos. Como un punto aparte, para redshintf menores que uno se puede hacer la siguiente aprosimación de forma satisfactoria:\n",
    "$$ V = zc$$\n",
    "donde $z$ es el redshift y $c$ es la velocidad de la luz. "
   ]
  },
  {
   "cell_type": "code",
   "execution_count": 32,
   "id": "511bb73d-5af7-4887-9853-57960e723030",
   "metadata": {},
   "outputs": [
    {
     "data": {
      "text/plain": [
       "array([[7.0000e-02, 6.9000e+01],\n",
       "       [1.0000e-01, 6.9000e+01],\n",
       "       [1.2000e-01, 6.8600e+01],\n",
       "       [1.7000e-01, 8.3000e+01],\n",
       "       [1.7900e-01, 7.5000e+01],\n",
       "       [1.9900e-01, 7.5000e+01],\n",
       "       [2.0000e-01, 7.2900e+01],\n",
       "       [2.7000e-01, 7.7000e+01],\n",
       "       [2.8000e-01, 8.8800e+01],\n",
       "       [3.2000e-01, 7.9200e+01],\n",
       "       [3.5200e-01, 8.3000e+01],\n",
       "       [3.8020e-01, 8.3000e+01],\n",
       "       [4.0000e-01, 9.5000e+01],\n",
       "       [4.0040e-01, 7.7000e+01],\n",
       "       [4.2470e-01, 8.7100e+01],\n",
       "       [4.4000e-01, 8.2600e+01],\n",
       "       [4.4497e-01, 9.2800e+01],\n",
       "       [4.7830e-01, 8.0900e+01],\n",
       "       [4.8000e-01, 9.7000e+01],\n",
       "       [5.7000e-01, 1.0030e+02],\n",
       "       [5.9300e-01, 1.0400e+02],\n",
       "       [6.0000e-01, 8.7900e+01],\n",
       "       [6.8000e-01, 9.2000e+01],\n",
       "       [7.3000e-01, 9.7300e+01],\n",
       "       [7.8100e-01, 1.0500e+02],\n",
       "       [8.7500e-01, 1.2500e+02],\n",
       "       [8.8000e-01, 9.0000e+01],\n",
       "       [9.0000e-01, 1.1700e+02],\n",
       "       [1.0370e+00, 1.5400e+02],\n",
       "       [1.3000e+00, 1.6800e+02],\n",
       "       [1.3630e+00, 1.6000e+02],\n",
       "       [1.4300e+00, 1.7700e+02],\n",
       "       [1.5300e+00, 1.4000e+02],\n",
       "       [1.7500e+00, 2.0200e+02],\n",
       "       [1.9650e+00, 1.8650e+02],\n",
       "       [2.3400e+00, 2.2200e+02],\n",
       "       [2.3600e+00, 2.2600e+02]])"
      ]
     },
     "execution_count": 32,
     "metadata": {},
     "output_type": "execute_result"
    }
   ],
   "source": [
    "s_1=np.loadtxt('HDiagramCompilacion-data.txt')\n",
    "s_1"
   ]
  },
  {
   "cell_type": "markdown",
   "id": "f14d70df-c959-4580-8c7b-7778a7e7419e",
   "metadata": {},
   "source": [
    "Para este set de datos, como solo se conoce el redshift y el valor de la constante de hubble, para comparar estos se tiene que hacer uso de la propia ley de hubble para conocer la distancia. Sin embargo, como este set teiene valores de redshift mayores que uno, por la consideración anterior de aproximación de la velociada solo se ocuparán aquellos datos cuyo valor de redshift fuese menor que uno."
   ]
  },
  {
   "cell_type": "code",
   "execution_count": 33,
   "id": "34f4b829-35f7-4c6a-8132-6935caf3975b",
   "metadata": {},
   "outputs": [],
   "source": [
    "r_1 = []\n",
    "h_1 = []\n",
    "for i in range (len(s_1)):\n",
    "    r_1.append(s_1[i,0])\n",
    "    h_1.append(s_1[i,1])"
   ]
  },
  {
   "cell_type": "code",
   "execution_count": 34,
   "id": "f892f05a-79e7-42d4-95d3-88f86f9a68ad",
   "metadata": {},
   "outputs": [],
   "source": [
    "r_2 = np.array(r_1)\n",
    "h_2 = np.array(h_1)"
   ]
  },
  {
   "cell_type": "code",
   "execution_count": 35,
   "id": "2abe1bf8-9e97-49e8-a812-4cfd0e47f846",
   "metadata": {},
   "outputs": [],
   "source": [
    "r_min = np.zeros_like(r_2)\n",
    "h_min = np.zeros_like(h_2)"
   ]
  },
  {
   "cell_type": "code",
   "execution_count": 36,
   "id": "94c7bed3-a5fb-470b-b856-33a534be99d9",
   "metadata": {},
   "outputs": [],
   "source": [
    "for i in range(len(r_2)):\n",
    "    if (r_2[i]<1):\n",
    "        r_min[i] = r_2[i]\n",
    "        h_min[i] = h_2[i]\n",
    "r_min2 = []\n",
    "h_min2 = []\n",
    "for i in range (len(r_min)):\n",
    "    if(r_min[i] != 0):\n",
    "        r_min2.append(r_min[i])\n",
    "        h_min2.append(h_min[i])"
   ]
  },
  {
   "cell_type": "code",
   "execution_count": 37,
   "id": "4eeef501-85da-4854-b780-d2df9ed5a013",
   "metadata": {},
   "outputs": [],
   "source": [
    "r_min2 = np.array(r_min2)\n",
    "h_min2 = np.array(h_min2)"
   ]
  },
  {
   "cell_type": "code",
   "execution_count": 38,
   "id": "86a14860-e7b7-419c-8f84-11d53f3f4855",
   "metadata": {},
   "outputs": [
    {
     "data": {
      "text/plain": [
       "Text(0, 0.5, 'Hubble')"
      ]
     },
     "execution_count": 38,
     "metadata": {},
     "output_type": "execute_result"
    },
    {
     "data": {
      "image/png": "[encoded data removed]",
      "text/plain": [
       "<Figure size 640x480 with 1 Axes>"
      ]
     },
     "metadata": {},
     "output_type": "display_data"
    }
   ],
   "source": [
    "plt.plot(r_min2,h_min2,'bp')\n",
    "plt.xlabel('Redshift')\n",
    "plt.ylabel('Hubble')"
   ]
  },
  {
   "cell_type": "code",
   "execution_count": 39,
   "id": "5fea0e32-b872-48ad-9b1a-163b20f5670a",
   "metadata": {},
   "outputs": [
    {
     "data": {
      "text/plain": [
       "array([ 304347.82608696,  434782.60869565,  524781.34110787,\n",
       "        614457.8313253 ,  716000.        ,  796000.        ,\n",
       "        823045.26748971, 1051948.05194805,  945945.94594595,\n",
       "       1212121.21212121, 1272289.15662651, 1374216.86746988,\n",
       "       1263157.89473684, 1560000.        , 1462801.37772675,\n",
       "       1598062.95399516, 1438480.60344828, 1773671.19901112,\n",
       "       1484536.08247423, 1704885.3439681 , 1710576.92307692,\n",
       "       2047781.56996587, 2217391.30434783, 2250770.81192189,\n",
       "       2231428.57142857, 2100000.        , 2933333.33333333,\n",
       "       2307692.30769231])"
      ]
     },
     "execution_count": 39,
     "metadata": {},
     "output_type": "execute_result"
    }
   ],
   "source": [
    "vel_min = np.zeros_like(r_min2)\n",
    "dis_min = np.zeros_like(r_min2)\n",
    "for i in range(len(vel_min)):\n",
    "    vel_min[i] = 300000000 * r_min2[i]\n",
    "    dis_min[i] = vel_min[i]/h_min2[i] \n",
    "dis_min"
   ]
  },
  {
   "cell_type": "markdown",
   "id": "6ea2e7c0-76bf-4599-bf54-22083e2455a2",
   "metadata": {},
   "source": [
    "Una vez filtrados esos datos, calculado la velocidad y la distancia podemos comparar el ajuste que se hizo con los daots anteriores a estos nuevos datos para ver si este se ajusta correctamente a los datos."
   ]
  },
  {
   "cell_type": "code",
   "execution_count": 40,
   "id": "2b6a6a3d-94b5-4c55-962b-5ec2a8ca41ec",
   "metadata": {},
   "outputs": [],
   "source": [
    "x_21 = np.linspace(0,np.max(dis_min),10000)\n",
    "inter_2 = evaluar_polinomio(coef,x_21)"
   ]
  },
  {
   "cell_type": "code",
   "execution_count": 41,
   "id": "5d0b225c-8da0-4493-a902-5fadf60c0a75",
   "metadata": {},
   "outputs": [
    {
     "data": {
      "text/plain": [
       "<matplotlib.legend.Legend at 0x14e5e3fabd0>"
      ]
     },
     "execution_count": 41,
     "metadata": {},
     "output_type": "execute_result"
    },
    {
     "data": {
      "image/png": "[encoded data removed]",
      "text/plain": [
       "<Figure size 640x480 with 1 Axes>"
      ]
     },
     "metadata": {},
     "output_type": "display_data"
    }
   ],
   "source": [
    "plt.plot(dis_min,vel_min,'bp', label = 'Datos 2')\n",
    "plt.plot(s['Distancia[Mpc]'],s['Velocidad'],'.', color='darkred', label = 'Datos del ajuste original')\n",
    "plt.plot(x_21,inter_2, label = 'Ajuste realizado por mínimos cuadrádos', color = 'b')\n",
    "plt.xlabel('Distancia $r$ (Mps)')\n",
    "plt.ylabel('Velocidad $v$ (Km/s)')\n",
    "plt.legend()"
   ]
  },
  {
   "cell_type": "markdown",
   "id": "676310cc-c3ac-4ea7-ade6-ed9746262392",
   "metadata": {},
   "source": [
    "Como se puede observar en la gráfica para distancias y velocidades pequeñas (redshifts bajos), la grafica se ajusta de maner correcta, sin embargo, para valores de velocidad y distancia altos (redshifts más altos) el ajuste previo no es acertado, por lo que se puede concluir que para redshifts altos la relación velocidad contra distancia no es lineal, este puede deberse que para redshifts altos, la expansión del universo no es lineal, lo cual implica una expansión acelerada."
   ]
  },
  {
   "cell_type": "markdown",
   "id": "e9f47b4e-e07a-4a3f-b0b4-3e336fae6c75",
   "metadata": {},
   "source": [
    "## Referencias\n",
    "[1] de Dios Rojas Olvera, J., Gómez-Vargas, I., & Vázquez, J. A. (2022). Observational cosmology with artificial neural networks. Universe, 8(2), 120.\n",
    "\n",
    "\n",
    "[2] Paturel, G., Teerikorpi, P., & Baryshev, Y. (2017). Hubble law: measure and interpretation. Foundations of Physics, 47, 1208-1228.\n",
    "\n",
    "[3] https://github.com/losvaldote/H-z-_data"
   ]
  },
  {
   "cell_type": "code",
   "execution_count": null,
   "id": "18cead67-71a7-4d93-a89c-a868f934831a",
   "metadata": {},
   "outputs": [],
   "source": []
  }
 ],
 "metadata": {
  "kernelspec": {
   "display_name": "Python 3 (ipykernel)",
   "language": "python",
   "name": "python3"
  },
  "language_info": {
   "codemirror_mode": {
    "name": "ipython",
    "version": 3
   },
   "file_extension": ".py",
   "mimetype": "text/x-python",
   "name": "python",
   "nbconvert_exporter": "python",
   "pygments_lexer": "ipython3",
   "version": "3.11.7"
  }
 },
 "nbformat": 4,
 "nbformat_minor": 5
}
