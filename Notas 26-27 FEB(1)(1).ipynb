{
 "cells": [
  {
   "cell_type": "markdown",
   "id": "renewable-tucson",
   "metadata": {},
   "source": [
    "Un sistema lineal de n ecuaciones en n variables reales toma la forma:\n",
    "\n",
    "$a_{11}x_1 + a_{12}x_2 + a_{13}x_3 + ... + a_{1n}x_n = f_1$\n",
    "\n",
    "$a_{21}x_1 + a_{22}x_2 + a_{23}x_3 + ... + a_{2n}x_n = f_2$\n",
    ".\n",
    "\n",
    ".\n",
    "\n",
    ".\n",
    "\n",
    "$a_{n1}x_1 + a_{n2}x_2 + a_{n3}x_3 + ... + a_{nn}x_n = f_n$\n",
    "\n",
    "$a_{ij},x_i,f_i \\in R,C$\n",
    "\n",
    "Ahora bien tenemos que:\n",
    "\n",
    "$a_{ij}^{k+1}$ = $a_{ij}^k$ - $m_{ik}a_{kj}^k$ \n",
    "\n",
    "$m_{ik} = \\frac{a_{ik}^k}{a_{kk}^k}$"
   ]
  },
  {
   "cell_type": "markdown",
   "id": "addressed-blues",
   "metadata": {},
   "source": [
    "$f_i^{k+1}$ = $f_i^k - m_kf_k^k$"
   ]
  },
  {
   "cell_type": "code",
   "execution_count": 1,
   "id": "changed-jimmy",
   "metadata": {},
   "outputs": [],
   "source": [
    "import numpy as np\n",
    "import sympy as sy\n",
    "from sympy import *\n",
    "from sympy.abc import x\n",
    "import matplotlib.pyplot as plt"
   ]
  },
  {
   "cell_type": "code",
   "execution_count": 2,
   "id": "statistical-arthritis",
   "metadata": {},
   "outputs": [
    {
     "name": "stdout",
     "output_type": "stream",
     "text": [
      "[[ 1  2  3]\n",
      " [ 4  5  6]\n",
      " [ 7  8 10]]\n",
      "[3 4 5]\n"
     ]
    }
   ],
   "source": [
    "A = np.array([[1,2,3],[4,5,6],[7,8,10]])\n",
    "\n",
    "print(A)\n",
    "F = np.array([3,4,5])\n",
    "\n",
    "print(F)"
   ]
  },
  {
   "cell_type": "code",
   "execution_count": 3,
   "id": "structured-perth",
   "metadata": {},
   "outputs": [],
   "source": [
    "def al(A,F):\n",
    "    U = np.copy(A)\n",
    "    G = np.copy(F)\n",
    "    n = F.size\n",
    "    for j in range(n-1):\n",
    "        for i in range(j+1,n):\n",
    "            M =U[i,j]/U[j,j]\n",
    "            U[i,j:] = U[i,j:] - (M*U[j,j:])\n",
    "            G[i]=G[i] - (M*G[j])\n",
    "    return U,G\n",
    "\n",
    "            \n"
   ]
  },
  {
   "cell_type": "code",
   "execution_count": 4,
   "id": "separate-estonia",
   "metadata": {},
   "outputs": [
    {
     "name": "stdout",
     "output_type": "stream",
     "text": [
      "[[ 1  2  3]\n",
      " [ 0 -3 -6]\n",
      " [ 0  0  1]]\n",
      "[ 3 -8  0]\n"
     ]
    }
   ],
   "source": [
    "U=al(A,F)[0]\n",
    "print(U)\n",
    "G=al(A,F)[1]\n",
    "print(G)"
   ]
  },
  {
   "cell_type": "code",
   "execution_count": 5,
   "id": "sustained-delta",
   "metadata": {},
   "outputs": [],
   "source": [
    "def sol(U,G):\n",
    "    n = G.size\n",
    "    x = np.zeros(n)\n",
    "    aux = 0\n",
    "    for i in reversed(range(n)):\n",
    "        if i == n-1:\n",
    "            x[i] = (G[i])/(U[i,i])\n",
    "            continue\n",
    "        else:\n",
    "            for j in range (i+1,n):\n",
    "                aux += U[i,j]*x[j]\n",
    "            x[i] = (G[i]/U[i,i]) - (1/U[i,i])*aux\n",
    "            aux = 0\n",
    "    return x"
   ]
  },
  {
   "cell_type": "code",
   "execution_count": 6,
   "id": "beginning-syria",
   "metadata": {},
   "outputs": [
    {
     "data": {
      "text/plain": [
       "array([-2.33333333,  2.66666667,  0.        ])"
      ]
     },
     "execution_count": 6,
     "metadata": {},
     "output_type": "execute_result"
    }
   ],
   "source": [
    "sol(U,G)"
   ]
  },
  {
   "cell_type": "code",
   "execution_count": 93,
   "id": "victorian-bishop",
   "metadata": {},
   "outputs": [
    {
     "name": "stdout",
     "output_type": "stream",
     "text": [
      "2\n",
      "1\n",
      "0\n"
     ]
    },
    {
     "data": {
      "text/plain": [
       "[None, None, None]"
      ]
     },
     "execution_count": 93,
     "metadata": {},
     "output_type": "execute_result"
    }
   ],
   "source": []
  },
  {
   "cell_type": "code",
   "execution_count": null,
   "id": "shaped-mountain",
   "metadata": {},
   "outputs": [],
   "source": []
  }
 ],
 "metadata": {
  "kernelspec": {
   "display_name": "Python 3",
   "language": "python",
   "name": "python3"
  },
  "language_info": {
   "codemirror_mode": {
    "name": "ipython",
    "version": 3
   },
   "file_extension": ".py",
   "mimetype": "text/x-python",
   "name": "python",
   "nbconvert_exporter": "python",
   "pygments_lexer": "ipython3",
   "version": "3.9.2"
  }
 },
 "nbformat": 4,
 "nbformat_minor": 5
}
