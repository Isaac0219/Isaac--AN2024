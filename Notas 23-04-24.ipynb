{
 "cells": [
  {
   "cell_type": "markdown",
   "id": "massive-principle",
   "metadata": {},
   "source": [
    "# Interpolación"
   ]
  },
  {
   "cell_type": "markdown",
   "id": "fitted-queue",
   "metadata": {},
   "source": [
    "Problema:\n",
    "\n",
    "Dado un conjunto de pares ($x_i,f(x_i)$), encontrar una representación : $$ f(x)=\\sum a_n \\phi_n(x)$$\n",
    "\n",
    "En algun sentido óptimo, ie, los mejores valores de $a_n$.\n",
    "\n",
    "Si tenemos un dominio de D = [0,1] y una bas $\\phi_n=x^n$ con N puntos.\n",
    "\n",
    "Tenemos que:$$p(x) = C_0\\phi_0 + C_1\\phi_1 + ... + C_{N-1}\\phi_{N-1}$$ $$ = C_0 + C_1x + ... + C_{N-1}x^{N-1}$$.\n",
    "\n",
    "$P(x_i) = f(x_i) = f_i$ , se puede resentar una matriz."
   ]
  },
  {
   "cell_type": "markdown",
   "id": "iraqi-detail",
   "metadata": {},
   "source": [
    "Para escojer los puntos $x_i$ se pueden tomar los casos en los que los puntos esten igualmente espaciados, o agrumados o agrupados en la orillas.\n",
    "\n",
    "La ultima distribución se puede tomar como los $\\textbf{Nodos de Chebyshev}$. $$ x_j = -cos(\\frac{j\\pi}{N-1})  j= 0,1,...,N-1$$.\n",
    "\n",
    "D = [-1,1]\n",
    "\n",
    "Def: $z=\\frac{b+a}{2} + \\frac{b-a}{2}x$\n",
    "\n",
    "$\\Phi$ para el caso de $\\phi = x^n$ se llama \"de Vandermondi\" que es una matriz no singular mal condicionada. "
   ]
  },
  {
   "cell_type": "markdown",
   "id": "adolescent-least",
   "metadata": {},
   "source": [
    "Polinomios de lagrange o cardinales como base:\n",
    "\n",
    "$$L_j(x)=\\frac{\\Pi_{k=0,k\\neq1}^{n-1} (x-x_k)}{\\Pi_{k=0,k\\neq j}^{n-1}(x_j - x_k)}$$"
   ]
  },
  {
   "cell_type": "markdown",
   "id": "gorgeous-passing",
   "metadata": {},
   "source": [
    "$\\textbf{Implemental interpolación polinomial con puntos tanto equididstantes como con nodos de chebyshev, asi como con base monomial y base de lagrange.}$"
   ]
  },
  {
   "cell_type": "code",
   "execution_count": null,
   "id": "coupled-massachusetts",
   "metadata": {},
   "outputs": [],
   "source": []
  }
 ],
 "metadata": {
  "kernelspec": {
   "display_name": "Python 3",
   "language": "python",
   "name": "python3"
  },
  "language_info": {
   "codemirror_mode": {
    "name": "ipython",
    "version": 3
   },
   "file_extension": ".py",
   "mimetype": "text/x-python",
   "name": "python",
   "nbconvert_exporter": "python",
   "pygments_lexer": "ipython3",
   "version": "3.9.2"
  }
 },
 "nbformat": 4,
 "nbformat_minor": 5
}
