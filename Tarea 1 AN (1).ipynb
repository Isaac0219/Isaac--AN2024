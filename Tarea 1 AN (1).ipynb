{
 "cells": [
  {
   "cell_type": "markdown",
   "id": "7d82ecdf",
   "metadata": {},
   "source": [
    "Tarea Análisis Numérico"
   ]
  },
  {
   "cell_type": "markdown",
   "id": "bd719ba8",
   "metadata": {},
   "source": [
    "   "
   ]
  },
  {
   "cell_type": "markdown",
   "id": "a5b6473e",
   "metadata": {},
   "source": [
    "Dada una función f(x) (especificar rango) determinar el orden de la función si requerimos que :\n",
    "\n",
    "(R_N(x)) < tolerancia (dada)."
   ]
  },
  {
   "cell_type": "markdown",
   "id": "acf9ba77",
   "metadata": {},
   "source": [
    "Definimos el rango de la función como [-2,2], por lo que la serie de taylor la aproximaremos al rededor de un punto medio del rango, este punto será el 0, asi como una tolerancia al error del 3%."
   ]
  },
  {
   "cell_type": "code",
   "execution_count": 84,
   "id": "396cc768",
   "metadata": {},
   "outputs": [],
   "source": [
    "import numpy as np\n",
    "import sympy as sy\n",
    "import matplotlib.pyplot as plt"
   ]
  },
  {
   "cell_type": "markdown",
   "id": "f273ec5a",
   "metadata": {},
   "source": [
    "Aqui especificamos a las variables y la función asi como su expanción en series de taylor"
   ]
  },
  {
   "cell_type": "code",
   "execution_count": 85,
   "id": "fb162e98",
   "metadata": {},
   "outputs": [],
   "source": [
    "x,y,z = sy.symbols('x y z')\n",
    "x = sy.symbols('x')\n",
    "f = (sy.exp(x**2)-(3*sy.cos(x))**2)/sy.log(x)\n",
    "g = sy.series(f,x,0,5)"
   ]
  },
  {
   "cell_type": "code",
   "execution_count": 86,
   "id": "66ec9a29",
   "metadata": {},
   "outputs": [
    {
     "name": "stdout",
     "output_type": "stream",
     "text": [
      "(exp(x**2) - 9*cos(x)**2)/log(x)\n"
     ]
    }
   ],
   "source": [
    "print (f)"
   ]
  },
  {
   "cell_type": "code",
   "execution_count": 87,
   "id": "9647b474",
   "metadata": {},
   "outputs": [
    {
     "name": "stdout",
     "output_type": "stream",
     "text": [
      "-8/log(x) + 10*x**2/log(x) - 5*x**4/(2*log(x)) + O(x**5)\n"
     ]
    }
   ],
   "source": [
    "print (g)"
   ]
  },
  {
   "cell_type": "markdown",
   "id": "880fea19",
   "metadata": {},
   "source": [
    "Obtenemos el orden del error y lo quitamos de la función de la expasión de taylor"
   ]
  },
  {
   "cell_type": "code",
   "execution_count": 88,
   "id": "77d02ea9",
   "metadata": {},
   "outputs": [],
   "source": [
    "orden = g.getO()\n",
    "gx = g.removeO()"
   ]
  },
  {
   "cell_type": "markdown",
   "id": "099c8518",
   "metadata": {},
   "source": [
    "Usando el lambdify transformamos las funciones simbólicas en funciones para tratamiento numérico"
   ]
  },
  {
   "cell_type": "code",
   "execution_count": 89,
   "id": "55a4a22d",
   "metadata": {},
   "outputs": [],
   "source": [
    "flam = sy.lambdify(x,f)\n",
    "glam = sy.lambdify(x,gx)"
   ]
  },
  {
   "cell_type": "code",
   "execution_count": 90,
   "id": "b48ef77d",
   "metadata": {},
   "outputs": [
    {
     "data": {
      "text/plain": [
       "7367.715840042574"
      ]
     },
     "execution_count": 90,
     "metadata": {},
     "output_type": "execute_result"
    }
   ],
   "source": [
    "flam(3)"
   ]
  },
  {
   "cell_type": "code",
   "execution_count": 91,
   "id": "577c6d5e",
   "metadata": {},
   "outputs": [
    {
     "data": {
      "text/plain": [
       "-109.68382680853388"
      ]
     },
     "execution_count": 91,
     "metadata": {},
     "output_type": "execute_result"
    }
   ],
   "source": [
    "glam(3)"
   ]
  },
  {
   "cell_type": "markdown",
   "id": "b95996da",
   "metadata": {},
   "source": [
    "Calcularemos los errores tanto absoluto como relativo"
   ]
  },
  {
   "cell_type": "code",
   "execution_count": 92,
   "id": "72c2abcd",
   "metadata": {},
   "outputs": [],
   "source": [
    "eabs = flam(3) - glam(3)"
   ]
  },
  {
   "cell_type": "code",
   "execution_count": 93,
   "id": "0b3c85c1",
   "metadata": {},
   "outputs": [],
   "source": [
    "erel = ((eabs)/flam(3))*100"
   ]
  },
  {
   "cell_type": "code",
   "execution_count": 94,
   "id": "1493e660",
   "metadata": {},
   "outputs": [
    {
     "name": "stdout",
     "output_type": "stream",
     "text": [
      "101.48870870144606\n"
     ]
    }
   ],
   "source": [
    "print (erel)"
   ]
  },
  {
   "cell_type": "markdown",
   "id": "5fe31e2c",
   "metadata": {},
   "source": [
    "Como el error relativo es muy superior a la tolerancia tenemos que aumentar el número de términos de la serie de taylor para reducir el error por lo que hacemos un ciclo de repetición for.\n",
    "\n",
    "Esta es una explicación general de lo que trata de lograr que es saber el orden de la función para que el error sea menor a la tolerancia. El codigo que nos permitirá saber el grado de una función evaluado en 3 es el siguiente:\n"
   ]
  },
  {
   "cell_type": "code",
   "execution_count": 83,
   "id": "5ef3a1c4",
   "metadata": {},
   "outputs": [
    {
     "name": "stdout",
     "output_type": "stream",
     "text": [
      "El orden de la función para que el error sea menor o igual a la tolerancia es de :  31\n",
      "El error es de:  2.2059672648554463 %\n"
     ]
    }
   ],
   "source": [
    "x,y,z = sy.symbols('x y z')\n",
    "x = sy.symbols('x')\n",
    "f = (sy.exp(x**2)-(3*sy.cos(x))**2)/sy.log(x)\n",
    "flam = sy.lambdify(x,f)\n",
    "for i in range(1,50):\n",
    "    g = sy.series(f,x,0,i)\n",
    "    gx = g.removeO()\n",
    "    glam = sy.lambdify(x,gx)\n",
    "    eabs = flam(3) - glam(3)\n",
    "    erel = ((eabs)/flam(3))*100\n",
    "    if erel <= 3:\n",
    "        a=i\n",
    "        break\n",
    "print(\"El orden de la función para que el error sea menor o igual a la tolerancia es de : \", a)\n",
    "print(\"El error es de: \", erel, \"%\")\n",
    "    \n",
    "    \n"
   ]
  },
  {
   "cell_type": "markdown",
   "id": "ddcf23b0",
   "metadata": {},
   "source": [
    "Para visualizar mejor podemos graficar la aproximación contra la función:"
   ]
  },
  {
   "cell_type": "code",
   "execution_count": 99,
   "id": "93bf1233",
   "metadata": {},
   "outputs": [
    {
     "name": "stderr",
     "output_type": "stream",
     "text": [
      "<lambdifygenerated-79>:2: RuntimeWarning: divide by zero encountered in log\n",
      "  return (exp(x**2) - 9*cos(x)**2)/log(x)\n",
      "<lambdifygenerated-84>:2: RuntimeWarning: divide by zero encountered in log\n",
      "  return (687809261530759/899430541355357051040000000)*x**30/log(x) + (23717560733683/2067656416908866784000000)*x**28/log(x) + (878428179721/5469990520922928000000)*x**26/log(x) + (35137124977/16830740064378240000)*x**24/log(x) + (1527702199/60980942262240000)*x**22/log(x) + (72747163/263986763040000)*x**20/log(x) + (3829081/1389404016000)*x**18/log(x) + (225097/9081072000)*x**16/log(x) + (15079/75675600)*x**14/log(x) + (1123/831600)*x**12/log(x) + (121/12600)*x**10/log(x) + (11/840)*x**8/log(x) + (17/30)*x**6/log(x) - 5/2*x**4/log(x) + 10*x**2/log(x) - 8/log(x)\n"
     ]
    },
    {
     "data": {
      "text/plain": [
       "Text(0.5, 1.0, 'Gráfica de la función F(X) contra G(X)')"
      ]
     },
     "execution_count": 99,
     "metadata": {},
     "output_type": "execute_result"
    },
    {
     "data": {
      "image/png": "[encoded data removed]",
      "text/plain": [
       "<Figure size 640x480 with 1 Axes>"
      ]
     },
     "metadata": {},
     "output_type": "display_data"
    }
   ],
   "source": [
    "X = np.linspace(0,3)\n",
    "g = sy.series(f,x,0,31)\n",
    "gx = g.removeO()\n",
    "glam = sy.lambdify(x,gx)\n",
    "YF = flam(X)\n",
    "YG = glam(X)\n",
    "plt.plot(X,YF, label = \"F(X)\")\n",
    "plt.plot(X,YG, label = \"G(X)\")\n",
    "plt.legend(loc=2)\n",
    "plt.grid(True)\n",
    "plt.xlabel(\"X\")\n",
    "plt.ylabel(\"F(X),G(X)\")\n",
    "plt.title(\"Gráfica de la función F(X) contra G(X)\")"
   ]
  },
  {
   "cell_type": "markdown",
   "id": "dcefc0f3",
   "metadata": {},
   "source": [
    "Como podemos observar al error ser tan bajo las gráficas prácticamente se superponen\n",
    "\n",
    "Ahora podemos comparar el error absoluto con el orden de la función O:"
   ]
  },
  {
   "cell_type": "code",
   "execution_count": 101,
   "id": "08e42647",
   "metadata": {},
   "outputs": [
    {
     "data": {
      "image/png": "[encoded data removed]",
      "text/plain": [
       "<Figure size 640x480 with 1 Axes>"
      ]
     },
     "metadata": {},
     "output_type": "display_data"
    }
   ],
   "source": [
    "Yerr = np.abs(YF-YG)\n",
    "Yord = X**31\n",
    "plt.plot(X,Yerr, label = \"Error\", color = \"Red\")\n",
    "plt.plot(X,Yord, label = \"Orden de la función O\", color = \"Black\")\n",
    "plt.legend(loc=2)\n",
    "plt.xlabel(\"X\")\n",
    "plt.ylabel(\"Error,G(X)\")\n",
    "plt.title(\"Gráfica del error\")\n",
    "plt.grid(True)"
   ]
  },
  {
   "cell_type": "markdown",
   "id": "acce272d",
   "metadata": {},
   "source": [
    "Como la tolerancia al error es baja, de tan solo 3% la aproximación es una buena aproximación por lo que vemos la diferencia entre las gráficas es notable."
   ]
  },
  {
   "cell_type": "code",
   "execution_count": null,
   "id": "1a9de0fe",
   "metadata": {},
   "outputs": [],
   "source": []
  }
 ],
 "metadata": {
  "kernelspec": {
   "display_name": "Python 3 (ipykernel)",
   "language": "python",
   "name": "python3"
  },
  "language_info": {
   "codemirror_mode": {
    "name": "ipython",
    "version": 3
   },
   "file_extension": ".py",
   "mimetype": "text/x-python",
   "name": "python",
   "nbconvert_exporter": "python",
   "pygments_lexer": "ipython3",
   "version": "3.11.5"
  }
 },
 "nbformat": 4,
 "nbformat_minor": 5
}
