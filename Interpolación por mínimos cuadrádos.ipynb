{
 "cells": [
  {
   "cell_type": "markdown",
   "id": "daa9a335-ea08-4a5b-a912-e3cc77623bba",
   "metadata": {},
   "source": [
    "# Interpolación mínimos cuadrádaos"
   ]
  },
  {
   "cell_type": "markdown",
   "id": "7b961f72-7ad3-409e-8f81-3f0f90f1b3e3",
   "metadata": {},
   "source": [
    "## Implementación"
   ]
  },
  {
   "cell_type": "code",
   "execution_count": 1,
   "id": "7595017d-9823-40ee-91f6-a5a22864516c",
   "metadata": {},
   "outputs": [],
   "source": [
    "import pandas as pd\n",
    "import numpy as np"
   ]
  },
  {
   "cell_type": "code",
   "execution_count": 2,
   "id": "bac7181e-dd97-4fb5-8109-28bbf0b90cb9",
   "metadata": {},
   "outputs": [],
   "source": [
    "lista_encabezados = [\"Lmax\",\"Lmin\",\"spectrum\",\"Error\",\"Stat\",\"cosmic\"]"
   ]
  },
  {
   "cell_type": "code",
   "execution_count": 3,
   "id": "f042578c-3398-487b-8e43-e8a5d7fceb83",
   "metadata": {},
   "outputs": [],
   "source": [
    "df = pd.read_csv(\"datos alba1.csv\", names = lista_encabezados)"
   ]
  },
  {
   "cell_type": "code",
   "execution_count": 4,
   "id": "af191c8b-6e20-4bf5-9350-423af6560189",
   "metadata": {},
   "outputs": [
    {
     "data": {
      "text/html": [
       "<div>\n",
       "<style scoped>\n",
       "    .dataframe tbody tr th:only-of-type {\n",
       "        vertical-align: middle;\n",
       "    }\n",
       "\n",
       "    .dataframe tbody tr th {\n",
       "        vertical-align: top;\n",
       "    }\n",
       "\n",
       "    .dataframe thead th {\n",
       "        text-align: right;\n",
       "    }\n",
       "</style>\n",
       "<table border=\"1\" class=\"dataframe\">\n",
       "  <thead>\n",
       "    <tr style=\"text-align: right;\">\n",
       "      <th></th>\n",
       "      <th>Lmax</th>\n",
       "      <th>Lmin</th>\n",
       "      <th>spectrum</th>\n",
       "      <th>Error</th>\n",
       "      <th>Stat</th>\n",
       "      <th>cosmic</th>\n",
       "    </tr>\n",
       "  </thead>\n",
       "  <tbody>\n",
       "    <tr>\n",
       "      <th>0</th>\n",
       "      <td>10</td>\n",
       "      <td>16</td>\n",
       "      <td>774.30</td>\n",
       "      <td>251.79</td>\n",
       "      <td>45.29</td>\n",
       "      <td>206.49</td>\n",
       "    </tr>\n",
       "    <tr>\n",
       "      <th>1</th>\n",
       "      <td>17</td>\n",
       "      <td>24</td>\n",
       "      <td>998.58</td>\n",
       "      <td>167.93</td>\n",
       "      <td>12.45</td>\n",
       "      <td>155.48</td>\n",
       "    </tr>\n",
       "    <tr>\n",
       "      <th>2</th>\n",
       "      <td>25</td>\n",
       "      <td>34</td>\n",
       "      <td>1043.85</td>\n",
       "      <td>169.10</td>\n",
       "      <td>41.72</td>\n",
       "      <td>127.38</td>\n",
       "    </tr>\n",
       "    <tr>\n",
       "      <th>3</th>\n",
       "      <td>35</td>\n",
       "      <td>49</td>\n",
       "      <td>1487.39</td>\n",
       "      <td>144.86</td>\n",
       "      <td>39.02</td>\n",
       "      <td>105.84</td>\n",
       "    </tr>\n",
       "    <tr>\n",
       "      <th>4</th>\n",
       "      <td>50</td>\n",
       "      <td>59</td>\n",
       "      <td>1217.93</td>\n",
       "      <td>185.93</td>\n",
       "      <td>51.78</td>\n",
       "      <td>134.16</td>\n",
       "    </tr>\n",
       "    <tr>\n",
       "      <th>5</th>\n",
       "      <td>60</td>\n",
       "      <td>69</td>\n",
       "      <td>1537.69</td>\n",
       "      <td>196.20</td>\n",
       "      <td>54.77</td>\n",
       "      <td>141.43</td>\n",
       "    </tr>\n",
       "    <tr>\n",
       "      <th>6</th>\n",
       "      <td>70</td>\n",
       "      <td>79</td>\n",
       "      <td>1613.74</td>\n",
       "      <td>227.90</td>\n",
       "      <td>78.08</td>\n",
       "      <td>149.83</td>\n",
       "    </tr>\n",
       "    <tr>\n",
       "      <th>7</th>\n",
       "      <td>80</td>\n",
       "      <td>89</td>\n",
       "      <td>2038.03</td>\n",
       "      <td>234.59</td>\n",
       "      <td>78.17</td>\n",
       "      <td>156.42</td>\n",
       "    </tr>\n",
       "    <tr>\n",
       "      <th>8</th>\n",
       "      <td>90</td>\n",
       "      <td>99</td>\n",
       "      <td>2275.57</td>\n",
       "      <td>259.14</td>\n",
       "      <td>93.19</td>\n",
       "      <td>165.95</td>\n",
       "    </tr>\n",
       "    <tr>\n",
       "      <th>9</th>\n",
       "      <td>100</td>\n",
       "      <td>119</td>\n",
       "      <td>2586.39</td>\n",
       "      <td>205.73</td>\n",
       "      <td>74.90</td>\n",
       "      <td>130.83</td>\n",
       "    </tr>\n",
       "    <tr>\n",
       "      <th>10</th>\n",
       "      <td>120</td>\n",
       "      <td>139</td>\n",
       "      <td>3193.32</td>\n",
       "      <td>238.96</td>\n",
       "      <td>90.13</td>\n",
       "      <td>148.83</td>\n",
       "    </tr>\n",
       "    <tr>\n",
       "      <th>11</th>\n",
       "      <td>140</td>\n",
       "      <td>159</td>\n",
       "      <td>3148.90</td>\n",
       "      <td>274.09</td>\n",
       "      <td>110.98</td>\n",
       "      <td>163.11</td>\n",
       "    </tr>\n",
       "    <tr>\n",
       "      <th>12</th>\n",
       "      <td>160</td>\n",
       "      <td>179</td>\n",
       "      <td>4225.30</td>\n",
       "      <td>313.31</td>\n",
       "      <td>138.36</td>\n",
       "      <td>174.94</td>\n",
       "    </tr>\n",
       "    <tr>\n",
       "      <th>13</th>\n",
       "      <td>180</td>\n",
       "      <td>199</td>\n",
       "      <td>4941.11</td>\n",
       "      <td>339.49</td>\n",
       "      <td>159.19</td>\n",
       "      <td>180.30</td>\n",
       "    </tr>\n",
       "    <tr>\n",
       "      <th>14</th>\n",
       "      <td>200</td>\n",
       "      <td>219</td>\n",
       "      <td>4589.10</td>\n",
       "      <td>369.35</td>\n",
       "      <td>189.20</td>\n",
       "      <td>180.15</td>\n",
       "    </tr>\n",
       "    <tr>\n",
       "      <th>15</th>\n",
       "      <td>220</td>\n",
       "      <td>239</td>\n",
       "      <td>5085.63</td>\n",
       "      <td>392.79</td>\n",
       "      <td>219.76</td>\n",
       "      <td>173.04</td>\n",
       "    </tr>\n",
       "    <tr>\n",
       "      <th>16</th>\n",
       "      <td>240</td>\n",
       "      <td>259</td>\n",
       "      <td>4258.70</td>\n",
       "      <td>421.98</td>\n",
       "      <td>263.44</td>\n",
       "      <td>158.54</td>\n",
       "    </tr>\n",
       "    <tr>\n",
       "      <th>17</th>\n",
       "      <td>260</td>\n",
       "      <td>279</td>\n",
       "      <td>4356.02</td>\n",
       "      <td>375.16</td>\n",
       "      <td>235.98</td>\n",
       "      <td>139.18</td>\n",
       "    </tr>\n",
       "    <tr>\n",
       "      <th>18</th>\n",
       "      <td>280</td>\n",
       "      <td>309</td>\n",
       "      <td>3174.39</td>\n",
       "      <td>325.63</td>\n",
       "      <td>233.24</td>\n",
       "      <td>92.39</td>\n",
       "    </tr>\n",
       "    <tr>\n",
       "      <th>19</th>\n",
       "      <td>310</td>\n",
       "      <td>349</td>\n",
       "      <td>2325.28</td>\n",
       "      <td>302.89</td>\n",
       "      <td>247.84</td>\n",
       "      <td>55.05</td>\n",
       "    </tr>\n",
       "    <tr>\n",
       "      <th>20</th>\n",
       "      <td>350</td>\n",
       "      <td>399</td>\n",
       "      <td>1960.58</td>\n",
       "      <td>322.54</td>\n",
       "      <td>292.40</td>\n",
       "      <td>30.14</td>\n",
       "    </tr>\n",
       "    <tr>\n",
       "      <th>21</th>\n",
       "      <td>400</td>\n",
       "      <td>449</td>\n",
       "      <td>1832.56</td>\n",
       "      <td>419.36</td>\n",
       "      <td>394.43</td>\n",
       "      <td>24.93</td>\n",
       "    </tr>\n",
       "    <tr>\n",
       "      <th>22</th>\n",
       "      <td>450</td>\n",
       "      <td>524</td>\n",
       "      <td>2569.77</td>\n",
       "      <td>508.70</td>\n",
       "      <td>483.81</td>\n",
       "      <td>24.89</td>\n",
       "    </tr>\n",
       "    <tr>\n",
       "      <th>23</th>\n",
       "      <td>525</td>\n",
       "      <td>599</td>\n",
       "      <td>2394.14</td>\n",
       "      <td>799.96</td>\n",
       "      <td>774.55</td>\n",
       "      <td>25.41</td>\n",
       "    </tr>\n",
       "    <tr>\n",
       "      <th>24</th>\n",
       "      <td>600</td>\n",
       "      <td>699</td>\n",
       "      <td>1885.96</td>\n",
       "      <td>1183.81</td>\n",
       "      <td>1168.50</td>\n",
       "      <td>15.31</td>\n",
       "    </tr>\n",
       "  </tbody>\n",
       "</table>\n",
       "</div>"
      ],
      "text/plain": [
       "    Lmax  Lmin  spectrum    Error     Stat  cosmic\n",
       "0     10    16    774.30   251.79    45.29  206.49\n",
       "1     17    24    998.58   167.93    12.45  155.48\n",
       "2     25    34   1043.85   169.10    41.72  127.38\n",
       "3     35    49   1487.39   144.86    39.02  105.84\n",
       "4     50    59   1217.93   185.93    51.78  134.16\n",
       "5     60    69   1537.69   196.20    54.77  141.43\n",
       "6     70    79   1613.74   227.90    78.08  149.83\n",
       "7     80    89   2038.03   234.59    78.17  156.42\n",
       "8     90    99   2275.57   259.14    93.19  165.95\n",
       "9    100   119   2586.39   205.73    74.90  130.83\n",
       "10   120   139   3193.32   238.96    90.13  148.83\n",
       "11   140   159   3148.90   274.09   110.98  163.11\n",
       "12   160   179   4225.30   313.31   138.36  174.94\n",
       "13   180   199   4941.11   339.49   159.19  180.30\n",
       "14   200   219   4589.10   369.35   189.20  180.15\n",
       "15   220   239   5085.63   392.79   219.76  173.04\n",
       "16   240   259   4258.70   421.98   263.44  158.54\n",
       "17   260   279   4356.02   375.16   235.98  139.18\n",
       "18   280   309   3174.39   325.63   233.24   92.39\n",
       "19   310   349   2325.28   302.89   247.84   55.05\n",
       "20   350   399   1960.58   322.54   292.40   30.14\n",
       "21   400   449   1832.56   419.36   394.43   24.93\n",
       "22   450   524   2569.77   508.70   483.81   24.89\n",
       "23   525   599   2394.14   799.96   774.55   25.41\n",
       "24   600   699   1885.96  1183.81  1168.50   15.31"
      ]
     },
     "execution_count": 4,
     "metadata": {},
     "output_type": "execute_result"
    }
   ],
   "source": [
    "df"
   ]
  },
  {
   "cell_type": "code",
   "execution_count": 8,
   "id": "cd20108d-d20e-4152-8036-1bcce952cd20",
   "metadata": {},
   "outputs": [],
   "source": [
    "primeras_dos_columnas = df.iloc[:, :2]\n",
    "\n",
    "# Calcular el valor medio por fila de las primeras dos columnas\n",
    "vppf = primeras_dos_columnas.mean(axis=1)"
   ]
  },
  {
   "cell_type": "code",
   "execution_count": 9,
   "id": "2f4bc078-911f-4d0c-a7d4-4f58af225651",
   "metadata": {},
   "outputs": [
    {
     "data": {
      "text/plain": [
       "0      13.0\n",
       "1      20.5\n",
       "2      29.5\n",
       "3      42.0\n",
       "4      54.5\n",
       "5      64.5\n",
       "6      74.5\n",
       "7      84.5\n",
       "8      94.5\n",
       "9     109.5\n",
       "10    129.5\n",
       "11    149.5\n",
       "12    169.5\n",
       "13    189.5\n",
       "14    209.5\n",
       "15    229.5\n",
       "16    249.5\n",
       "17    269.5\n",
       "18    294.5\n",
       "19    329.5\n",
       "20    374.5\n",
       "21    424.5\n",
       "22    487.0\n",
       "23    562.0\n",
       "24    649.5\n",
       "dtype: float64"
      ]
     },
     "execution_count": 9,
     "metadata": {},
     "output_type": "execute_result"
    }
   ],
   "source": [
    "vppf"
   ]
  },
  {
   "cell_type": "code",
   "execution_count": 19,
   "id": "a66f65b5-0445-4cc1-b827-4c1c6da402c3",
   "metadata": {},
   "outputs": [],
   "source": [
    "ter_col = df.iloc[:, 2]\n",
    "err = df.iloc[:,3]"
   ]
  },
  {
   "cell_type": "code",
   "execution_count": 13,
   "id": "cdb373e2-cee5-4221-aa38-9fc66fb8b4b4",
   "metadata": {},
   "outputs": [
    {
     "data": {
      "text/plain": [
       "0      774.30\n",
       "1      998.58\n",
       "2     1043.85\n",
       "3     1487.39\n",
       "4     1217.93\n",
       "5     1537.69\n",
       "6     1613.74\n",
       "7     2038.03\n",
       "8     2275.57\n",
       "9     2586.39\n",
       "10    3193.32\n",
       "11    3148.90\n",
       "12    4225.30\n",
       "13    4941.11\n",
       "14    4589.10\n",
       "15    5085.63\n",
       "16    4258.70\n",
       "17    4356.02\n",
       "18    3174.39\n",
       "19    2325.28\n",
       "20    1960.58\n",
       "21    1832.56\n",
       "22    2569.77\n",
       "23    2394.14\n",
       "24    1885.96\n",
       "Name: spectrum, dtype: float64"
      ]
     },
     "execution_count": 13,
     "metadata": {},
     "output_type": "execute_result"
    }
   ],
   "source": [
    "ter_col"
   ]
  },
  {
   "cell_type": "code",
   "execution_count": 14,
   "id": "3fe1e3c0-e6e8-4e5e-8018-47083ce87cd6",
   "metadata": {},
   "outputs": [],
   "source": [
    "import matplotlib.pyplot as plt"
   ]
  },
  {
   "cell_type": "code",
   "execution_count": 16,
   "id": "141e83e4-c8a6-4802-8e34-d41219953210",
   "metadata": {},
   "outputs": [
    {
     "data": {
      "text/plain": [
       "[<matplotlib.lines.Line2D at 0x1e0bb726910>]"
      ]
     },
     "execution_count": 16,
     "metadata": {},
     "output_type": "execute_result"
    },
    {
     "data": {
      "image/png": "[encoded data removed]",
      "text/plain": [
       "<Figure size 640x480 with 1 Axes>"
      ]
     },
     "metadata": {},
     "output_type": "display_data"
    }
   ],
   "source": [
    "plt.plot(vppf,ter_col,'pb')"
   ]
  },
  {
   "cell_type": "code",
   "execution_count": 17,
   "id": "c662b5cd-3c9e-437c-8b0c-e29930a74a4a",
   "metadata": {},
   "outputs": [],
   "source": [
    "def calcular_coeficientes(x, y, err, grad):\n",
    "    n = grad\n",
    "    A = np.zeros((n, n))\n",
    "    b = np.zeros(n)\n",
    "\n",
    "    for i in range(n):\n",
    "        for j in range(n):\n",
    "            A[i, j] = 2*np.sum((x**(i+j))/err)\n",
    "\n",
    "        # Corrección de error de sintaxis\n",
    "        b[i] = 2 * np.sum((y * x**i)/err)\n",
    "\n",
    "    coef = np.linalg.solve(A, b)\n",
    "    return coef"
   ]
  },
  {
   "cell_type": "code",
   "execution_count": 41,
   "id": "a8e16587-bbeb-4ae1-b6a7-373c632a6708",
   "metadata": {},
   "outputs": [],
   "source": [
    "x_1 = vppf.to_numpy()\n",
    "y_1 = ter_col.to_numpy()\n",
    "err_1 = err.to_numpy()\n",
    "coef = calcular_coeficientes(x_1,y_1,err_1, 11)"
   ]
  },
  {
   "cell_type": "code",
   "execution_count": 42,
   "id": "87bcbb1d-a6da-437c-9ef4-b7fa2435f2c7",
   "metadata": {},
   "outputs": [
    {
     "data": {
      "text/plain": [
       "array([ 6.85180170e+02,  5.45981156e+00,  6.28535692e-01, -1.68714791e-02,\n",
       "        2.15766051e-04, -1.42410511e-06,  5.28282112e-09, -1.15334917e-11,\n",
       "        1.47563665e-14, -1.02611649e-17,  2.99978556e-21])"
      ]
     },
     "execution_count": 42,
     "metadata": {},
     "output_type": "execute_result"
    }
   ],
   "source": [
    "coef"
   ]
  },
  {
   "cell_type": "code",
   "execution_count": 43,
   "id": "2a287250-49b9-4156-9487-85419ae78850",
   "metadata": {},
   "outputs": [],
   "source": [
    "def evaluar_polinomio(coeficientes, x):\n",
    "    y = np.zeros_like(x)\n",
    "    for i in range(len(coeficientes)):\n",
    "        y += coeficientes[i] * (x ** i)\n",
    "    return y"
   ]
  },
  {
   "cell_type": "code",
   "execution_count": 44,
   "id": "73cb287c-d574-406f-96f0-345dabf18496",
   "metadata": {},
   "outputs": [],
   "source": [
    "x_2 = np.linspace(0,600,1000)\n",
    "interpolacion = evaluar_polinomio(coef,x_2)"
   ]
  },
  {
   "cell_type": "code",
   "execution_count": 45,
   "id": "5cc14ab0-27e7-40d9-88f8-a7cfdd82116b",
   "metadata": {},
   "outputs": [
    {
     "data": {
      "text/plain": [
       "[<matplotlib.lines.Line2D at 0x1e0bbb1bc10>]"
      ]
     },
     "execution_count": 45,
     "metadata": {},
     "output_type": "execute_result"
    },
    {
     "data": {
      "image/png": "[encoded data removed]",
      "text/plain": [
       "<Figure size 640x480 with 1 Axes>"
      ]
     },
     "metadata": {},
     "output_type": "display_data"
    }
   ],
   "source": [
    "plt.plot(vppf,ter_col,'pb')\n",
    "plt.plot(x_2,interpolacion)"
   ]
  },
  {
   "cell_type": "code",
   "execution_count": null,
   "id": "3864b6e1-af6f-49a4-a83e-a0a0a8ff584c",
   "metadata": {},
   "outputs": [],
   "source": []
  }
 ],
 "metadata": {
  "kernelspec": {
   "display_name": "Python 3 (ipykernel)",
   "language": "python",
   "name": "python3"
  },
  "language_info": {
   "codemirror_mode": {
    "name": "ipython",
    "version": 3
   },
   "file_extension": ".py",
   "mimetype": "text/x-python",
   "name": "python",
   "nbconvert_exporter": "python",
   "pygments_lexer": "ipython3",
   "version": "3.11.7"
  }
 },
 "nbformat": 4,
 "nbformat_minor": 5
}
