{
 "cells": [
  {
   "cell_type": "markdown",
   "id": "4e1f0d75",
   "metadata": {},
   "source": [
    "# Proyecto Segundo Parcial"
   ]
  },
  {
   "cell_type": "markdown",
   "id": "183656bd",
   "metadata": {},
   "source": [
    "## Identificador de acordes"
   ]
  },
  {
   "cell_type": "markdown",
   "id": "64cf9e43",
   "metadata": {},
   "source": [
    "### Contexto teórico"
   ]
  },
  {
   "cell_type": "markdown",
   "id": "48892624",
   "metadata": {},
   "source": [
    "$\\textbf{Transformada de Furier}$\n",
    "\n",
    "La transformada de furier es una herramienta matemática muy útil, esta es capaz de descomponer señales complejas en componentes más simples lo cual permite un mejor análisis y comprensión de las características de las señales.\n",
    "\n",
    "La transformada de furier está definida como:$$F(\\omega)=\\int_{-\\infty}^{\\infty} f(t) e^{-i\\omega t} dt$$\n",
    "\n",
    "Esta se obtiene del tratamiento de la integral compleja de furier, la cual es:$$ f(t)=\\frac{1}{\\pi}\\int_{0}^{\\infty} [A_{\\omega}cos(\\omega t) + B_{\\omega}sin(\\omega t)]d\\omega$$\n",
    "\n",
    "Usando la definición del seno y coseno complejos, las cuales son: \n",
    "\n",
    "Seno complejo:\n",
    "$$ \\sin(z) = \\frac{e^{iz} - e^{-iz}}{2i} $$\n",
    "\n",
    "Coseno complejo:\n",
    "$$ \\cos(z) = \\frac{e^{iz} + e^{-iz}}{2} $$\n",
    "\n",
    "Donde \\( z \\) es un número complejo. Estas son las formas complejas del seno y coseno, que se expresan en términos de la función exponencial compleja ( $e^{iz} $).\n",
    "\n",
    "La integral compleja de furier queda de la forma:\n",
    "\n",
    "$$ f(t)=\\frac{1}{\\pi}\\int_{0}^{\\infty} [A_{\\omega}\\frac{e^{iz} + e^{-iz}}{2} + B_{\\omega}\\frac{e^{iz} - e^{-iz}}{2i}]d\\omega$$\n",
    "\n",
    "Por lo que agrupando términos semejantes y racionalizando los términos necesarios se obtiene que:$$\\frac{1}{\\pi}\\int_{0}^{\\infty}[(\\frac{A_{\\omega}}{2}-\\frac{iB_{\\omega}}{2})e^{i\\omega t} + (\\frac{A_{\\omega}}{2}+\\frac{iB_{\\omega}}{2})e^{-i\\omega t}]d\\omega$$\n",
    "\n",
    "Si vemos al término: $$(\\frac{A_{\\omega}}{2}-\\frac{iB_{\\omega}}{2})$$ como un $C_{\\omega}$, entonces el término:$$(\\frac{A_{\\omega}}{2}+\\frac{iB_{\\omega}}{2})$$ se puede vor como su conjugado.\n",
    "\n",
    "Por lo que podremo reescribir la integral como:$$\\frac{1}{\\pi}\\int_{0}^{\\infty}[C_{\\omega}e^{i\\omega t} + \\bar{C_{\\omega}}e^{-i\\omega t}]d\\omega$$\n",
    "\n",
    "Si tenemos que los coeficientes $A_{\\omega}$ y $B_{\\omega}$ está definidos como:$$A_{\\omega} = \\int_{-\\infty}^{\\infty} f(x)\\cos{(\\omega x)}dx$$ y $$B_{\\omega} = \\int_{-\\infty}^{\\infty} f(x)\\sin{(\\omega x)}dx$$\n",
    "\n",
    "por lo que $C_{\\omega}$ se puede ver como:$$C_{\\omega} = \\frac{1}{2}\\int_{-\\infty}^{\\infty} f(x)\\cos{(\\omega x)}dx - \\frac{i}{2}\\int_{-\\infty}^{\\infty} f(x)\\sin{(\\omega x)}dx$$\n",
    "$$C_{\\omega} = \\frac{1}{2}\\int_{-\\infty}^{\\infty} f(x)[\\cos{(\\omega x)} - i\\sin{(\\omega x)}]dx$$\n",
    "\n",
    "Por lo que usando la identidad de euler tenemos que:$$C_{\\omega} = \\frac{1}{2}\\int_{-\\infty}^{\\infty} f(x)e^{-i \\omega t}dx$$\n",
    "\n",
    "De forma análoga se obtiene que:\n",
    "$$\\bar{C_{\\omega}} = \\frac{1}{2}\\int_{-\\infty}^{\\infty} f(x)e^{i \\omega t}dx$$\n",
    "\n",
    "Por lo que si sustinuimos esos valores en la integral compleja de furier tenemos que:$$\\frac{1}{\\pi}\\int_{0}^{\\infty}[(\\frac{1}{2}\\int_{-\\infty}^{\\infty} f(x)e^{-i \\omega t}dx)e^{i\\omega t} + (\\frac{1}{2}\\int_{-\\infty}^{\\infty} f(x)e^{i \\omega t}dx)e^{-i\\omega t}]d\\omega$$\n",
    "\n",
    "Por lo que aplicando propiedades de las integrales tenemos que:$$f(t)=\\frac{1}{2\\pi}\\int_{0}^{\\infty}(\\int_{-\\infty}^{\\infty} f(x)e^{-i \\omega t}dx)e^{i\\omega t}d\\omega + \\frac{1}{2\\pi}\\int_{0}^{\\infty}(\\int_{-\\infty}^{\\infty} f(x)e^{i \\omega t}dx)e^{-i\\omega t}d\\omega$$\n",
    "\n",
    "Si hacemos un cambio de variable con $v=-\\omega$, $\\omega = -v$ implica que $d\\omega = -dv$ por lo que si $\\omega \\rightarrow \\infty$ entonces $v\\rightarrow -\\infty$, si $\\omega \\rightarrow 0$ entonces $v\\rightarrow 0$. La integral con ese cambio de variabel quedaría de la forma:$$f(t)=\\frac{1}{2\\pi}\\int_{0}^{\\infty}(\\int_{-\\infty}^{\\infty} f(x)e^{-i \\omega t}dx)e^{i\\omega t}d\\omega + \\frac{1}{2\\pi}\\int_{-\\infty}^{0}(\\int_{-\\infty}^{\\infty} f(x)e^{-i v t}dx)e^{iv t}dv$$ Como en las integrales definidas realmente como veamos la variable no es de mucha importancia, podemos escribir la función de la siguiente forma:$$f(t)=\\frac{1}{2\\pi}\\int_{0}^{\\infty}(\\int_{-\\infty}^{\\infty} f(x)e^{-i \\omega t}dx)e^{i\\omega t}d\\omega + \\frac{1}{2\\pi}\\int_{-\\infty}^{0}(\\int_{-\\infty}^{\\infty} f(x)e^{-i \\omega t}dx)e^{i\\omega t}d\\omega$$\n",
    "\n",
    "Lo cual podemos por propiedades de las integrales se puede agrupar como:$$f(t)=\\frac{1}{2\\pi}\\int_{-\\infty}^{\\infty}(\\int_{-\\infty}^{\\infty} f(x)e^{-i \\omega t}dx)e^{i\\omega t}d\\omega$$\n",
    "\n",
    "El termino $$\\int_{-\\infty}^{\\infty}f(x)e^{-i \\omega t}dx$$ es a lo que se le considera como $\\textit{Transformada de furier}$, que es la que se usará a continuación\n",
    "\n",
    "$\\textbf{Uso de la transformada de Furier en el procesamiento de señales}$\n",
    "\n",
    "La transformada de Furier aplicada al procesamiento de señales, puede ser útil para distintos aspectos como:\n",
    "* $\\textbf{Análisis de Frecuencia}$: Descompone señales en sus componentes de frecuencia para identificar los elementos de frecuencia dominantes.\n",
    "* $\\textbf{Filtrado de señales}$: Se usa para diseñar y aplicar filtros sobre la frecuencia, permitiendo atenuar el ruido existente en la señal. \n",
    "* $\\textbf{Modulación y demodulación}$:  implica cambiar sus propiedades para transportar información sobre un medio de transmisión. La Transformada de Fourier se utiliza para modular la señal en una frecuencia portadora. En el receptor, la demodulación implica extraer la información de la señal modulada utilizando la Transformada de Fourier.\n",
    "* $\\textbf{Transformada rápida de Fourier}$: es un algoritmo eficiente para calcular la Transformada de Fourier discreta (DFT).\n",
    "\n",
    "En este caso, se usará para el análisi de frecuencia, permitiendo identificar que notas musicales lleva con sigo la señal, comparando los picos dados por la transformada, con las frecuencias definidas para cada nota musical producida por un piano."
   ]
  },
  {
   "cell_type": "markdown",
   "id": "2fa6d54d",
   "metadata": {},
   "source": [
    "### Código\n",
    "\n",
    "En primera instancia se deberán declara 2 funciones, una para generar una señal de prueba, y la otra para resolver la integral que resulta de hacer la transformada de furier."
   ]
  },
  {
   "cell_type": "code",
   "execution_count": 1,
   "id": "d02f57da",
   "metadata": {},
   "outputs": [],
   "source": [
    "import numpy as np\n",
    "import matplotlib.pyplot as plt\n",
    "\n",
    "# Definir la función de la señal\n",
    "def signal(t):\n",
    "    return np.sin(2000*t) + 0.5 * np.sin(5000 * t) + 0.2 * np.sin(3500 * t) \n",
    "\n",
    "# Función de integración numérica utilizando la regla del trapecio\n",
    "def trapezoidal_rule_integration(integrand, a, b, N):\n",
    "    x = np.linspace(a, b, N)\n",
    "    h = (b - a) / N\n",
    "    integral = h * (np.sum(integrand) - 0.5 * (integrand[0] + integrand[-1]))\n",
    "    return integral\n"
   ]
  },
  {
   "cell_type": "markdown",
   "id": "19701d35",
   "metadata": {},
   "source": [
    "En este caso como nuestra señal de prueba se eligió una suma de 3 ondas senoidales. Para poder visualizar la gráfica se tiene que tener un periodo de prueba, para poder visualizar mejor se eligió como $$0\\leq t \\leq 4\\pi$$ La gráfica que genera esta señal de pueba es la siguiente:"
   ]
  },
  {
   "cell_type": "code",
   "execution_count": 2,
   "id": "88877315",
   "metadata": {},
   "outputs": [
    {
     "data": {
      "text/plain": [
       "Text(0, 0.5, 'Amplitud')"
      ]
     },
     "execution_count": 2,
     "metadata": {},
     "output_type": "execute_result"
    },
    {
     "data": {
      "image/png": "[encoded data removed]",
      "text/plain": [
       "<Figure size 720x432 with 1 Axes>"
      ]
     },
     "metadata": {
      "needs_background": "light"
     },
     "output_type": "display_data"
    }
   ],
   "source": [
    "ti = 0\n",
    "tf = 2 * np.pi \n",
    "fs = 16000  # Frecuencia de muestreo según el teorema de Nyquist\n",
    "numero_puntos = int(fs * (tf - ti))\n",
    "\n",
    "tiempos = np.linspace(ti, tf, numero_puntos)\n",
    "senal = signal(tiempos)\n",
    "\n",
    "plt.figure(figsize=(10, 6))\n",
    "plt.plot(tiempos, senal)\n",
    "plt.title('Señal Original')\n",
    "plt.xlabel('Tiempo')\n",
    "plt.ylabel('Amplitud')"
   ]
  },
  {
   "cell_type": "markdown",
   "id": "815db292",
   "metadata": {},
   "source": [
    "Ahora se definirá una función que calcule la transformada de furier dado un rango de frecuencias angulares dadas, ya que el cuerpo humano es capaz de percibir frecuencias desde 20Hz hasta 20kHz el rango de frecuencias deberá encontrarse dentro de este, sin embargo, sabemos que la nota más alta que un piano es capaz de producir tiene una frecuencia de 7902.133Hz, por lo que tomaremos nuestro rango de 20Hz a 8kHz \n",
    "\n"
   ]
  },
  {
   "cell_type": "code",
   "execution_count": 3,
   "id": "3f98acf9",
   "metadata": {},
   "outputs": [],
   "source": [
    "def ft(f, t, omega):\n",
    "    integrand = f(t) * np.exp(-1j * omega * t)\n",
    "    return trapezoidal_rule_integration(integrand, t[0], t[-1], len(t))\n",
    "\n",
    "frecuencias = np.linspace(0, fs/2, numero_puntos//2)  # Rango de frecuencias hasta la frecuencia de Nyquist\n",
    "transformada = np.array([ft(signal, tiempos, omega) for omega in 2 * np.pi * frecuencias])"
   ]
  },
  {
   "cell_type": "markdown",
   "id": "e716618f",
   "metadata": {},
   "source": [
    "Con la transformada calculada, graficaremos la transformada contra la frecuencia para encontrar las fracuencias en las cuales los valores de la transformada son mayores"
   ]
  },
  {
   "cell_type": "code",
   "execution_count": 4,
   "id": "50f58925",
   "metadata": {},
   "outputs": [
    {
     "data": {
      "text/plain": [
       "Text(0, 0.5, 'Amplitud')"
      ]
     },
     "execution_count": 4,
     "metadata": {},
     "output_type": "execute_result"
    },
    {
     "data": {
      "image/png": "[encoded data removed]",
      "text/plain": [
       "<Figure size 720x432 with 1 Axes>"
      ]
     },
     "metadata": {
      "needs_background": "light"
     },
     "output_type": "display_data"
    }
   ],
   "source": [
    "plt.figure(figsize=(10, 6))\n",
    "plt.plot(frecuencias, np.abs(transformada))\n",
    "plt.title('Transformada de Fourier')\n",
    "plt.xlabel('Frecuencia')\n",
    "plt.ylabel('Amplitud')"
   ]
  },
  {
   "cell_type": "markdown",
   "id": "453c5ee8",
   "metadata": {},
   "source": [
    "Ya con la transformada de furier hay que encontrar las frecuencias para las cuales la amplitud alcanza un pico significativo, para esto hay que definir un umbral de operación, es decir, discriminar los picos para los cuales la amplitud no es lo suficientemente significativa como para tomarlos en cuenta, en este caso tomaremos un umbral del 20% respecto al máximo de amplitud alcanzado."
   ]
  },
  {
   "cell_type": "code",
   "execution_count": 6,
   "id": "4ca8465a",
   "metadata": {},
   "outputs": [
    {
     "name": "stdout",
     "output_type": "stream",
     "text": [
      "Picos detectados: [318.31927423 795.79818558]\n"
     ]
    }
   ],
   "source": [
    "umbral_picos = 0.20 * np.max(np.abs(transformada))  # Definir un umbral para los picos\n",
    "picos = np.where(np.abs(transformada) > umbral_picos)[0]\n",
    "frecuencias_detectadas = frecuencias[picos]\n",
    "print(\"Picos detectados:\", frecuencias_detectadas)"
   ]
  },
  {
   "cell_type": "markdown",
   "id": "c8ee675e",
   "metadata": {},
   "source": [
    "Una vez tenemos los picos significativos hay que compararlos con las frecuencias que generan las notas musicales en un piano para encontrar las notas que corresponden a los picos encontrados. Para esto se usará un algoritmo que genere todas las frecuencias de las notas en un piano desde la octava 0 a la octava 8 para el cual se tiene la siguiente relación:$$F = 16.35(2^{O + \\frac{N}{12}})$$\n",
    "\n",
    "Donde F es la frecuencia de la nota, O es la octava de la nota, N el número de la nota avanzando por semitonos y el número 16.35 es la frecuencia de la nota que se usará como base.\n",
    "\n",
    "Con las frecuencias de las notas generadas se hará una comparación entre cada elemnto de las frecuencias encontradas con las frecuencias generadas para las notas, teniendo una tolerancia del 5%"
   ]
  },
  {
   "cell_type": "code",
   "execution_count": 7,
   "id": "82e98b8b",
   "metadata": {},
   "outputs": [
    {
     "name": "stdout",
     "output_type": "stream",
     "text": [
      "Acorde identificado: ['D#4', 'G5']\n"
     ]
    }
   ],
   "source": [
    "def identificar_acorde(frecuencias_detectadas):\n",
    "    def generar_notas_piano():\n",
    "        notas_piano = {}\n",
    "\n",
    "        # Frecuencia de la nota La correspondiente a la octava 0 (A0)\n",
    "        la_base = 16.3516\n",
    "\n",
    "        # Nombres de las notas y sus frecuencias para cada octava (A0 a C8)\n",
    "        nombre_notas = ['C', 'C#', 'D', 'D#', 'E', 'F', 'F#', 'G', 'G#', 'A', 'A#', 'B']\n",
    "        for octava in range(0, 9):  # Desde la octava 0 (A0) hasta la octava 8 (C8)\n",
    "            for i, nota in enumerate(nombre_notas):\n",
    "                frecuencia = la_base * (2 ** (octava + (i / 12)))\n",
    "                notas_piano[f\"{nota}{octava}\"] = frecuencia\n",
    "\n",
    "        return notas_piano\n",
    "\n",
    "    notas = generar_notas_piano()\n",
    "    acorde = []\n",
    "    for nota, frecuencia in notas.items():\n",
    "        if any(abs((frecuencia - f)/frecuencia)*100 < 3 for f in frecuencias_detectadas):  # Consideramos una tolerancia de 5 Hz\n",
    "            acorde.append(nota)\n",
    "    \n",
    "    return acorde\n",
    "\n",
    "acorde_identificado = identificar_acorde(frecuencias_detectadas)\n",
    "print(\"Acorde identificado:\", acorde_identificado)\n"
   ]
  },
  {
   "cell_type": "markdown",
   "id": "da3d5ec4",
   "metadata": {},
   "source": [
    "En este caso, la señal no corresponde a algún acorde establecido"
   ]
  },
  {
   "cell_type": "code",
   "execution_count": 15,
   "id": "eacad28f",
   "metadata": {},
   "outputs": [
    {
     "data": {
      "image/png": "[encoded data removed]",
      "text/plain": [
       "<Figure size 720x432 with 2 Axes>"
      ]
     },
     "metadata": {
      "needs_background": "light"
     },
     "output_type": "display_data"
    }
   ],
   "source": [
    "import numpy as np\n",
    "import matplotlib.pyplot as plt\n",
    "\n",
    "# Definir la función de la señal\n",
    "def signal(t):\n",
    "    return np.sin(2000*t) + 0.5 * np.sin(5000 * t) + 0.2 * np.sin(3500 * t) \n",
    "\n",
    "# Parámetros de la señal y de la FFT\n",
    "ti = 0\n",
    "tf = 4 * np.pi\n",
    "fs = 16000  # Frecuencia de muestreo según el teorema de Nyquist\n",
    "numero_puntos = int(fs * (tf - ti))\n",
    "\n",
    "# Generar la señal y el vector de tiempo\n",
    "tiempos = np.linspace(ti, tf, numero_puntos)\n",
    "senal = signal(tiempos)\n",
    "\n",
    "# Calcular la FFT de la señal\n",
    "fft_resultado = np.fft.fft(senal)\n",
    "frecuencias = np.fft.fftfreq(numero_puntos, 1/fs)\n",
    "\n",
    "# Graficar la señal original y la FFT\n",
    "plt.figure(figsize=(10, 6))\n",
    "\n",
    "plt.subplot(2, 1, 1)\n",
    "plt.plot(tiempos, senal)\n",
    "plt.title('Señal Original')\n",
    "plt.xlabel('Tiempo')\n",
    "plt.ylabel('Amplitud')\n",
    "\n",
    "plt.subplot(2, 1, 2)\n",
    "plt.plot(frecuencias[:numero_puntos//2], np.abs(fft_resultado[:numero_puntos//2]))\n",
    "plt.title('Transformada de Fourier')\n",
    "plt.xlabel('Frecuencia (Hz)')\n",
    "plt.ylabel('Amplitud')\n",
    "\n",
    "plt.tight_layout()\n",
    "plt.show()\n"
   ]
  },
  {
   "cell_type": "markdown",
   "id": "hybrid-maker",
   "metadata": {},
   "source": [
    "Aunque las gráficas en escencia los picos deberían estar en puntos de frecuencia similares, segun los máximos obtenidos esto no pasa, y las amplitudes que arroja son completamente diferentes."
   ]
  },
  {
   "cell_type": "code",
   "execution_count": null,
   "id": "offshore-ready",
   "metadata": {},
   "outputs": [],
   "source": []
  }
 ],
 "metadata": {
  "kernelspec": {
   "display_name": "Python 3",
   "language": "python",
   "name": "python3"
  },
  "language_info": {
   "codemirror_mode": {
    "name": "ipython",
    "version": 3
   },
   "file_extension": ".py",
   "mimetype": "text/x-python",
   "name": "python",
   "nbconvert_exporter": "python",
   "pygments_lexer": "ipython3",
   "version": "3.9.2"
  }
 },
 "nbformat": 4,
 "nbformat_minor": 5
}
