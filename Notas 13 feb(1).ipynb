{
 "cells": [
  {
   "cell_type": "code",
   "execution_count": 3,
   "id": "dress-transmission",
   "metadata": {},
   "outputs": [],
   "source": [
    "import numpy as np\n",
    "import sympy as sy\n",
    "import matplotlib.pyplot as plt"
   ]
  },
  {
   "cell_type": "markdown",
   "id": "prostate-field",
   "metadata": {},
   "source": [
    "Error de convergencia"
   ]
  },
  {
   "cell_type": "code",
   "execution_count": 66,
   "id": "structural-track",
   "metadata": {},
   "outputs": [],
   "source": [
    "N = 18\n",
    "a = np.empty(N+1)\n",
    "a[0] = 1\n",
    "a[1] = 1/5\n",
    "for i in range(N+1):\n",
    "    if i <= 1:\n",
    "        continue\n",
    "    a[i] = (16/5)*a[i-1] - (3/5)*a[i-2]"
   ]
  },
  {
   "cell_type": "code",
   "execution_count": 67,
   "id": "superb-surfing",
   "metadata": {},
   "outputs": [
    {
     "data": {
      "text/plain": [
       "array([1.00000000e+00, 2.00000000e-01, 4.00000000e-02, 8.00000000e-03,\n",
       "       1.60000000e-03, 3.20000000e-04, 6.40000000e-05, 1.28000000e-05,\n",
       "       2.56000012e-06, 5.12000352e-07, 1.02401056e-07, 2.04831673e-08,\n",
       "       4.10550196e-09, 8.47705882e-10, 2.49357647e-10, 2.89320942e-10,\n",
       "       7.76212426e-10, 2.31028720e-09, 6.92719158e-09])"
      ]
     },
     "execution_count": 67,
     "metadata": {},
     "output_type": "execute_result"
    }
   ],
   "source": [
    "a"
   ]
  },
  {
   "cell_type": "code",
   "execution_count": 68,
   "id": "linear-target",
   "metadata": {},
   "outputs": [
    {
     "data": {
      "text/plain": [
       "array([1.00000000e+00, 2.00000000e-01, 4.00000000e-02, 8.00000000e-03,\n",
       "       1.60000000e-03, 3.20000000e-04, 6.40000000e-05, 1.28000000e-05,\n",
       "       2.56000000e-06, 5.12000000e-07, 1.02400000e-07, 2.04800000e-08,\n",
       "       4.09600000e-09, 8.19200000e-10, 1.63840000e-10, 3.27680000e-11,\n",
       "       6.55360000e-12, 1.31072000e-12, 2.62144000e-13, 5.24288000e-14,\n",
       "       1.04857600e-14, 2.09715200e-15, 4.19430400e-16, 8.38860800e-17,\n",
       "       1.67772160e-17, 3.35544320e-18, 6.71088640e-19, 1.34217728e-19,\n",
       "       2.68435456e-20, 5.36870912e-21, 1.07374182e-21, 2.14748365e-22,\n",
       "       4.29496730e-23, 8.58993459e-24, 1.71798692e-24, 3.43597384e-25,\n",
       "       6.87194767e-26, 1.37438953e-26, 2.74877907e-27, 5.49755814e-28,\n",
       "       1.09951163e-28])"
      ]
     },
     "execution_count": 68,
     "metadata": {},
     "output_type": "execute_result"
    }
   ],
   "source": [
    "Y_n"
   ]
  },
  {
   "cell_type": "code",
   "execution_count": 69,
   "id": "hollywood-ghana",
   "metadata": {},
   "outputs": [
    {
     "data": {
      "text/plain": [
       "Text(0.5, 1.0, 'Gráfica de la función F(X) contra G(X)')"
      ]
     },
     "execution_count": 69,
     "metadata": {},
     "output_type": "execute_result"
    },
    {
     "data": {
      "image/png": "[encoded data removed]",
      "text/plain": [
       "<Figure size 432x288 with 1 Axes>"
      ]
     },
     "metadata": {
      "needs_background": "light"
     },
     "output_type": "display_data"
    }
   ],
   "source": [
    "X = np.arange(0,N+1,1)\n",
    "Y_n = (1/5)**X\n",
    "plt.semilogy(X,Y_n, 'rx',label = \"F(X)\")\n",
    "plt.semilogy(X,a, 'bp',label = \"G(X)\")\n",
    "plt.legend(loc=8)\n",
    "plt.grid(True)\n",
    "plt.xlabel(\"X\")\n",
    "plt.ylabel(\"F(X),G(X)\")\n",
    "plt.title(\"Gráfica de la función F(X) contra G(X)\")"
   ]
  },
  {
   "cell_type": "code",
   "execution_count": 70,
   "id": "smart-boards",
   "metadata": {},
   "outputs": [
    {
     "name": "stdout",
     "output_type": "stream",
     "text": [
      "Machine parameters for float16\n",
      "---------------------------------------------------------------\n",
      "precision =   3   resolution = 1.00040e-03\n",
      "machep =    -10   eps =        9.76562e-04\n",
      "negep =     -11   epsneg =     4.88281e-04\n",
      "minexp =    -14   tiny =       6.10352e-05\n",
      "maxexp =     16   max =        6.55040e+04\n",
      "nexp =        5   min =        -max\n",
      "smallest_normal = 6.10352e-05   smallest_subnormal = 5.96046e-08\n",
      "---------------------------------------------------------------\n",
      "\n"
     ]
    }
   ],
   "source": [
    "print(np.finfo(np.float16))"
   ]
  },
  {
   "cell_type": "code",
   "execution_count": 63,
   "id": "sealed-joint",
   "metadata": {},
   "outputs": [
    {
     "name": "stdout",
     "output_type": "stream",
     "text": [
      "Machine parameters for float32\n",
      "---------------------------------------------------------------\n",
      "precision =   6   resolution = 1.0000000e-06\n",
      "machep =    -23   eps =        1.1920929e-07\n",
      "negep =     -24   epsneg =     5.9604645e-08\n",
      "minexp =   -126   tiny =       1.1754944e-38\n",
      "maxexp =    128   max =        3.4028235e+38\n",
      "nexp =        8   min =        -max\n",
      "smallest_normal = 1.1754944e-38   smallest_subnormal = 1.4012985e-45\n",
      "---------------------------------------------------------------\n",
      "\n"
     ]
    }
   ],
   "source": [
    "print(np.finfo(np.float32))"
   ]
  },
  {
   "cell_type": "code",
   "execution_count": 64,
   "id": "premier-national",
   "metadata": {},
   "outputs": [
    {
     "name": "stdout",
     "output_type": "stream",
     "text": [
      "Machine parameters for float64\n",
      "---------------------------------------------------------------\n",
      "precision =  15   resolution = 1.0000000000000001e-15\n",
      "machep =    -52   eps =        2.2204460492503131e-16\n",
      "negep =     -53   epsneg =     1.1102230246251565e-16\n",
      "minexp =  -1022   tiny =       2.2250738585072014e-308\n",
      "maxexp =   1024   max =        1.7976931348623157e+308\n",
      "nexp =       11   min =        -max\n",
      "smallest_normal = 2.2250738585072014e-308   smallest_subnormal = 4.9406564584124654e-324\n",
      "---------------------------------------------------------------\n",
      "\n"
     ]
    }
   ],
   "source": [
    "print(np.finfo(float))"
   ]
  },
  {
   "cell_type": "code",
   "execution_count": null,
   "id": "green-tracker",
   "metadata": {},
   "outputs": [],
   "source": []
  }
 ],
 "metadata": {
  "kernelspec": {
   "display_name": "Python 3",
   "language": "python",
   "name": "python3"
  },
  "language_info": {
   "codemirror_mode": {
    "name": "ipython",
    "version": 3
   },
   "file_extension": ".py",
   "mimetype": "text/x-python",
   "name": "python",
   "nbconvert_exporter": "python",
   "pygments_lexer": "ipython3",
   "version": "3.9.2"
  }
 },
 "nbformat": 4,
 "nbformat_minor": 5
}
