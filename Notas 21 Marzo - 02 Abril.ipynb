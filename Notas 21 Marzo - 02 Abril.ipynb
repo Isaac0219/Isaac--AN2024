{
 "cells": [
  {
   "cell_type": "markdown",
   "id": "homeless-surgery",
   "metadata": {},
   "source": [
    "## Derivadas superiores"
   ]
  },
  {
   "cell_type": "markdown",
   "id": "proper-lease",
   "metadata": {},
   "source": [
    "### Segundas derivadas"
   ]
  },
  {
   "cell_type": "markdown",
   "id": "homeless-eight",
   "metadata": {},
   "source": [
    "$$\\text{f''(x)}= 4f(x+\\"
   ]
  },
  {
   "cell_type": "markdown",
   "id": "original-uganda",
   "metadata": {},
   "source": [
    "### Derivación automática"
   ]
  },
  {
   "cell_type": "markdown",
   "id": "opposite-federal",
   "metadata": {},
   "source": [
    "$\\textbf{Número Dual o de Grassman}$\n",
    "\n",
    "x = a + a'd donde:\n",
    "\n",
    "a = Cuerpo\n",
    "\n",
    "a' = Alma\n",
    "\n",
    "Con $d²=0$"
   ]
  },
  {
   "cell_type": "markdown",
   "id": "minor-belly",
   "metadata": {},
   "source": [
    "Para variables en una función en números Grassmanianos:\n",
    "\n",
    "Z=(z,1)=(z+d)\n",
    "\n",
    "Para constantes en una fucnión en números Grassmanianos:\n",
    "\n",
    "C=(c,0)=(z)"
   ]
  },
  {
   "cell_type": "code",
   "execution_count": 2,
   "id": "periodic-insulation",
   "metadata": {},
   "outputs": [],
   "source": [
    "import numpy as np\n",
    "import sympy as sy\n",
    "from sympy import *\n",
    "from sympy.abc import x\n",
    "import matplotlib.pyplot as plt"
   ]
  },
  {
   "cell_type": "markdown",
   "id": "legitimate-spell",
   "metadata": {},
   "source": [
    "Aplicar Grassman para:\n",
    "\n",
    "$$f(z)=\\frac{(z+2)(z-3)}{z-4}$$"
   ]
  },
  {
   "cell_type": "code",
   "execution_count": 3,
   "id": "excessive-responsibility",
   "metadata": {},
   "outputs": [
    {
     "data": {
      "text/plain": [
       "12.0"
      ]
     },
     "metadata": {},
     "output_type": "display_data"
    },
    {
     "data": {
      "text/plain": [
       "-0.5"
      ]
     },
     "metadata": {},
     "output_type": "display_data"
    }
   ],
   "source": [
    "def grassp(x,y): ##Producto de números grassmanianos\n",
    "    return [x[0]*y[0],x[0]*y[1] + x[1]*y[0]]\n",
    "def grassi(z):##Inverso de números Grassmanianos\n",
    "    return [1/z[0],-z[1]/(z[0]**2)]\n",
    "def grass(z):##Función en términos de números grassmanianos\n",
    "    Z=np.array([z,1])\n",
    "    return grassp(grassp(Z+[2,0],Z-[3,0]),grassi(Z-[4,0]))\n",
    "b=grass(6)[0]\n",
    "display(b)\n",
    "a=grass(6)[1]\n",
    "display(a)    "
   ]
  },
  {
   "cell_type": "code",
   "execution_count": 4,
   "id": "bizarre-temple",
   "metadata": {},
   "outputs": [
    {
     "data": {
      "text/plain": [
       "[12.0, -0.5]"
      ]
     },
     "execution_count": 4,
     "metadata": {},
     "output_type": "execute_result"
    }
   ],
   "source": [
    "grass(6)"
   ]
  },
  {
   "cell_type": "code",
   "execution_count": 5,
   "id": "greater-custom",
   "metadata": {},
   "outputs": [
    {
     "data": {
      "text/plain": [
       "[6, 1, -3, 0]"
      ]
     },
     "execution_count": 5,
     "metadata": {},
     "output_type": "execute_result"
    }
   ],
   "source": [
    "[6,1]+[-3,0]"
   ]
  },
  {
   "cell_type": "markdown",
   "id": "hybrid-detective",
   "metadata": {},
   "source": [
    "## Funciones especiales"
   ]
  },
  {
   "cell_type": "markdown",
   "id": "welsh-river",
   "metadata": {},
   "source": [
    "Para una función con serie de taylor definida, la función evaluada en números grasmanianos se puede ver como:\n",
    "\n",
    "$$g(\\textbf{a}) = g(a) + g'(a)a'd $$\n",
    "\n",
    "$$\\forall g:\\mathbb{R}\\rightarrow \\mathbb{R}$$"
   ]
  },
  {
   "cell_type": "code",
   "execution_count": 35,
   "id": "distant-republican",
   "metadata": {},
   "outputs": [],
   "source": [
    "def grasss(z):\n",
    "    return [np.sin(z[0]),z[1]*np.cos(z[0])]\n",
    "def grassex(z):\n",
    "    return [np.exp(z[0]),np.exp(z[0])*z[1]]\n",
    "def grass1(z):\n",
    "    Z=np.array([z,1])\n",
    "    return grassex(grasss(grassp(Z,np.array([2,0]))))"
   ]
  },
  {
   "cell_type": "code",
   "execution_count": 36,
   "id": "proud-joint",
   "metadata": {},
   "outputs": [
    {
     "data": {
      "text/plain": [
       "[2.319776824715853, 2.506761534986894]"
      ]
     },
     "metadata": {},
     "output_type": "display_data"
    }
   ],
   "source": [
    "s=grass1(0.5)\n",
    "display(s)"
   ]
  }
 ],
 "metadata": {
  "kernelspec": {
   "display_name": "Python 3",
   "language": "python",
   "name": "python3"
  },
  "language_info": {
   "codemirror_mode": {
    "name": "ipython",
    "version": 3
   },
   "file_extension": ".py",
   "mimetype": "text/x-python",
   "name": "python",
   "nbconvert_exporter": "python",
   "pygments_lexer": "ipython3",
   "version": "3.9.2"
  }
 },
 "nbformat": 4,
 "nbformat_minor": 5
}
