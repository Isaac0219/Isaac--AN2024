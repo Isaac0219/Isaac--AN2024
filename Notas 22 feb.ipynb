{
 "cells": [
  {
   "cell_type": "markdown",
   "id": "stainless-bible",
   "metadata": {},
   "source": [
    "Condición de Lipchitz\n",
    "\n",
    "Sea g$\\in\\epsilon '$ en un intervalo alrededor de $\\alpha$\n",
    "\n",
    "$\\alpha = g(\\alpha)$\n",
    "\n",
    "|$g(\\alpha) - g(x)$|<$\\lambda|\\alpha - x|$\n",
    "\n",
    "$\\forall\\epsilon>0      \\exists A>0      |       \\forall x\\in$[$\\lambda-A,\\lambda +A$], $|g(\\alpha) - g(x)|\\leq\\lambda|\\alpha - x|$\n",
    "\n",
    "$\\Rightarrow$ \n",
    "\n",
    "$\\lambda \\leq |g'(\\alpha)|$\n",
    "\n",
    "Cumplir 2 condiciones:\n",
    "\n",
    "1.-Que el punto fijo resuelva mi problema.\n",
    "\n",
    "2.- |$g'(\\alpha)$|<<1"
   ]
  },
  {
   "cell_type": "markdown",
   "id": "buried-mainstream",
   "metadata": {},
   "source": [
    "Método de la cuerda:\n",
    "\n",
    "Tenemos que $f(\\alpha)=0$ y queremos encontrar $g(\\alpha) | \\alpha=g(\\alpha) \\Rightarrow  f(\\alpha)=0$\n",
    "\n",
    "$X_{n+1} = X_n - \\frac{f(X_n)}{s}$\n",
    "\n",
    "$\\therefore g(x)=x-\\frac{f(x)}{s}$\n",
    "\n",
    "s es un parámetro que tu eliges, ahora bien una buena elección de s la podemos ver en la derivada (Condición 2):\n",
    "\n",
    "$g'(x)=1-\\frac{f'}{s}$ con s = $f'(\\alpha)$"
   ]
  },
  {
   "cell_type": "markdown",
   "id": "vital-brunei",
   "metadata": {},
   "source": [
    "EL método de Newton:\n",
    "\n",
    "$g(x)=x-\\frac{f(x)}{f'(x)}$\n"
   ]
  },
  {
   "cell_type": "code",
   "execution_count": 2,
   "id": "quantitative-batman",
   "metadata": {},
   "outputs": [],
   "source": [
    "import numpy as np\n",
    "import sympy as sy\n",
    "from sympy import *\n",
    "from sympy.abc import x\n",
    "import matplotlib.pyplot as plt"
   ]
  },
  {
   "cell_type": "code",
   "execution_count": 35,
   "id": "reverse-consideration",
   "metadata": {},
   "outputs": [],
   "source": [
    "def cuerda(x,s):\n",
    "    X=x-(x**2+4*x+4)/s\n",
    "    print(X)\n",
    "    if X == x:\n",
    "        return X\n",
    "    else:\n",
    "        return cuerda(X,s)"
   ]
  },
  {
   "cell_type": "code",
   "execution_count": 36,
   "id": "english-brush",
   "metadata": {},
   "outputs": [
    {
     "name": "stdout",
     "output_type": "stream",
     "text": [
      "-2.0\n",
      "-2.0\n"
     ]
    },
    {
     "data": {
      "text/plain": [
       "-2.0"
      ]
     },
     "execution_count": 36,
     "metadata": {},
     "output_type": "execute_result"
    }
   ],
   "source": [
    "x=1\n",
    "s=3\n",
    "cuerda(x,s)"
   ]
  },
  {
   "cell_type": "code",
   "execution_count": 52,
   "id": "synthetic-developer",
   "metadata": {},
   "outputs": [],
   "source": [
    "def cuerda(y,x,s):\n",
    "    X=x-(x**2+4*x+4)/(2*x+4)\n",
    "    y=y+1\n",
    "    print(X)\n",
    "    if X == x:\n",
    "        print(\"El número de iteraciones fue:\",y)\n",
    "        return X\n",
    "    else:\n",
    "        return cuerda(y,X,s)"
   ]
  },
  {
   "cell_type": "code",
   "execution_count": 53,
   "id": "recent-approach",
   "metadata": {},
   "outputs": [
    {
     "name": "stdout",
     "output_type": "stream",
     "text": [
      "0.0\n",
      "-1.0\n",
      "-1.5\n",
      "-1.75\n",
      "-1.875\n",
      "-1.9375\n",
      "-1.96875\n",
      "-1.984375\n",
      "-1.9921875\n",
      "-1.99609375\n",
      "-1.998046875\n",
      "-1.9990234375\n",
      "-1.99951171875\n",
      "-1.999755859375\n",
      "-1.9998779296875\n",
      "-1.99993896484375\n",
      "-1.999969482421875\n",
      "-1.9999847412109375\n",
      "-1.9999923706054688\n",
      "-1.9999961853027344\n",
      "-1.9999980926513672\n",
      "-1.9999990463256836\n",
      "-1.9999995231628418\n",
      "-1.999999761581421\n",
      "-1.9999998807907104\n",
      "-1.9999999403953552\n",
      "-1.9999999701976776\n",
      "-1.9999999850988388\n",
      "-1.9999999850988388\n",
      "El número de iteraciones fue: 29\n"
     ]
    },
    {
     "data": {
      "text/plain": [
       "-1.9999999850988388"
      ]
     },
     "execution_count": 53,
     "metadata": {},
     "output_type": "execute_result"
    }
   ],
   "source": [
    "y=0\n",
    "x=2\n",
    "s=4\n",
    "cuerda(y,x,s)"
   ]
  },
  {
   "cell_type": "code",
   "execution_count": null,
   "id": "retired-plane",
   "metadata": {},
   "outputs": [],
   "source": []
  }
 ],
 "metadata": {
  "kernelspec": {
   "display_name": "Python 3",
   "language": "python",
   "name": "python3"
  },
  "language_info": {
   "codemirror_mode": {
    "name": "ipython",
    "version": 3
   },
   "file_extension": ".py",
   "mimetype": "text/x-python",
   "name": "python",
   "nbconvert_exporter": "python",
   "pygments_lexer": "ipython3",
   "version": "3.9.2"
  }
 },
 "nbformat": 4,
 "nbformat_minor": 5
}
