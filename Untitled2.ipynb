{
 "cells": [
  {
   "cell_type": "markdown",
   "id": "offensive-acceptance",
   "metadata": {},
   "source": [
    "# Formula baricéntrica"
   ]
  },
  {
   "cell_type": "markdown",
   "id": "union-application",
   "metadata": {},
   "source": [
    "Definimos el polinomio de nodo:\n",
    "$$\\begin{equation}\n",
    "    L(x)=\\Pi_{j=0}^{N-1} (x-x_j)\n",
    " \\end{equation}$$\n",
    " Si tomamos $\\Pi_{j\\neq k}$:\n",
    " $$\\frac{L(x)}{x-x_k}$$\n",
    " \n",
    " SI tomamos el límite cuando $x\\rightarrow x_k$ de:\n",
    " $$lim_{x\\rightarrow x_k}\\frac{L(x)-L(x_k)}{x-x_k}=L'(x)$$\n",
    " \n",
    " Definimos los pesos como:\n",
    " \n",
    " $$w_k=\\frac{1}{\\Pi_{j\\neq k}(x_k-x_j)}=\\frac{1}{L'(x)}$$\n",
    " por lo tanto:\n",
    " $$p(x)=\\sum_k^{j\\neq k} y_kL_k(x)= \\sum_k^{j\\neq k} y_kL(x)\\frac{w_k}{x-x_k}$$"
   ]
  },
  {
   "cell_type": "markdown",
   "id": "moderate-omaha",
   "metadata": {},
   "source": [
    "# Minimos cuadrádos"
   ]
  },
  {
   "cell_type": "markdown",
   "id": "limiting-friendship",
   "metadata": {},
   "source": [
    "Minimizar la siguietne función:$$\\chi^2 = \\sum_{j=0}^{N-1}\\left[\\frac{y_j - P(x_j,c_\\alpha)}{\\sigma_k}\\right]^2$$\n",
    "derivando\n",
    "$$\\frac{\\delta \\chi^2}{\\delta C_\\alpha}=\\frac{2(y_j - P(x_j,C_\\alpha))}{\\sigma_k^2}\\frac{\\delta P(x_j)}{\\delta C_\\alpha}=0$$\n",
    "lo cual se puede vero como:\n",
    "$$\\sum_{j=0}^{N-1}\\frac{2y_j - \\Phi_\\alpha(x_j)}{\\sigma^2} - \\sum_\\beta C_\\beta \\sum_{j=0}^{N-1}\\frac{2\\Phi_\\beta(x_j)\\Phi_\\alpha(x_j)}{\\sigma_k^2}$$ lo cual se puede ver como:\n",
    "$$B_\\alpha - \\sum_\\beta C_\\beta M_{\\beta \\alpha}=0$$"
   ]
  },
  {
   "cell_type": "code",
   "execution_count": null,
   "id": "human-boost",
   "metadata": {},
   "outputs": [],
   "source": []
  }
 ],
 "metadata": {
  "kernelspec": {
   "display_name": "Python 3",
   "language": "python",
   "name": "python3"
  },
  "language_info": {
   "codemirror_mode": {
    "name": "ipython",
    "version": 3
   },
   "file_extension": ".py",
   "mimetype": "text/x-python",
   "name": "python",
   "nbconvert_exporter": "python",
   "pygments_lexer": "ipython3",
   "version": "3.9.2"
  }
 },
 "nbformat": 4,
 "nbformat_minor": 5
}
