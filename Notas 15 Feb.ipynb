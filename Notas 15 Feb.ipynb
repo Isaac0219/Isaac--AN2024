{
 "cells": [
  {
   "cell_type": "markdown",
   "id": "deadly-wealth",
   "metadata": {},
   "source": [
    "Análisis Numérico\n",
    "\n"
   ]
  },
  {
   "cell_type": "markdown",
   "id": "enabling-trader",
   "metadata": {},
   "source": [
    "Emcontrar Raices"
   ]
  },
  {
   "cell_type": "markdown",
   "id": "environmental-feeding",
   "metadata": {},
   "source": [
    "Iteración de punto fijo:\n",
    "\n",
    "Heróń de alejandría en el SIglo 1 AEC\n",
    "\n",
    "X = 1/2(x+(y/x)) = f(y,X)\n",
    "\n",
    "Ejmplo:\n",
    "\n",
    "X_1=f(y,X_0)\n",
    "X_2=f(y,X_1)=f(y,f(y,X_0))"
   ]
  },
  {
   "cell_type": "code",
   "execution_count": 31,
   "id": "black-thompson",
   "metadata": {},
   "outputs": [],
   "source": [
    "import numpy as np\n",
    "import sympy as sy\n",
    "from sympy import *\n",
    "from sympy.abc import x\n",
    "import matplotlib.pyplot as plt\n"
   ]
  },
  {
   "cell_type": "code",
   "execution_count": 32,
   "id": "injured-recording",
   "metadata": {},
   "outputs": [],
   "source": [
    "def heron(x,y):\n",
    "    X=(1/2)*(x+(y/x))\n",
    "    eabs= y - x**2\n",
    "    erel= np.abs((eabs/y)*100)\n",
    "    if erel <= 3:\n",
    "        return X\n",
    "    else:\n",
    "        return heron(X,y)"
   ]
  },
  {
   "cell_type": "code",
   "execution_count": 33,
   "id": "residential-interface",
   "metadata": {},
   "outputs": [
    {
     "name": "stdout",
     "output_type": "stream",
     "text": [
      "4.3589015186390165\n"
     ]
    }
   ],
   "source": [
    "y=19\n",
    "x=0.001\n",
    "print(heron(x,y))"
   ]
  },
  {
   "cell_type": "code",
   "execution_count": 34,
   "id": "portuguese-cookbook",
   "metadata": {},
   "outputs": [],
   "source": [
    "x=sy.symbols('x')\n",
    "f=(1/2)*((x-1)**2/x)\n",
    "f_1=sy.diff(f,x)"
   ]
  },
  {
   "cell_type": "code",
   "execution_count": 36,
   "id": "statewide-initial",
   "metadata": {},
   "outputs": [
    {
     "data": {
      "text/plain": [
       "[-1.00000000000000, 1.00000000000000]"
      ]
     },
     "execution_count": 36,
     "metadata": {},
     "output_type": "execute_result"
    }
   ],
   "source": [
    "sf = solve(Eq(f_1,0))\n",
    "sf"
   ]
  },
  {
   "cell_type": "code",
   "execution_count": 40,
   "id": "outside-choice",
   "metadata": {},
   "outputs": [],
   "source": [
    "f_2=sy.diff(f_1,x)\n",
    "f_2\n",
    "f_21=sy.lambdify(x,f_2)"
   ]
  },
  {
   "cell_type": "code",
   "execution_count": 44,
   "id": "religious-azerbaijan",
   "metadata": {},
   "outputs": [
    {
     "data": {
      "text/plain": [
       "-1.0"
      ]
     },
     "execution_count": 44,
     "metadata": {},
     "output_type": "execute_result"
    }
   ],
   "source": [
    "m = f_21(-1)\n",
    "m"
   ]
  },
  {
   "cell_type": "code",
   "execution_count": 45,
   "id": "controversial-softball",
   "metadata": {},
   "outputs": [
    {
     "data": {
      "text/plain": [
       "1.0"
      ]
     },
     "execution_count": 45,
     "metadata": {},
     "output_type": "execute_result"
    }
   ],
   "source": [
    "m_1 = f_21(1)\n",
    "m_1"
   ]
  },
  {
   "cell_type": "code",
   "execution_count": 50,
   "id": "academic-southwest",
   "metadata": {},
   "outputs": [
    {
     "data": {
      "text/plain": [
       "Text(0.5, 1.0, 'Gráfica de la función F(X) contra G(X)')"
      ]
     },
     "execution_count": 50,
     "metadata": {},
     "output_type": "execute_result"
    },
    {
     "data": {
      "image/png": "[encoded data removed]",
      "text/plain": [
       "<Figure size 432x288 with 1 Axes>"
      ]
     },
     "metadata": {
      "needs_background": "light"
     },
     "output_type": "display_data"
    }
   ],
   "source": [
    "X = np.linspace(-2,2)\n",
    "ff=sy.lambdify(x,f)\n",
    "fy=ff(X)\n",
    "plt.plot(X,fy, label = \"F(X)\")\n",
    "plt.legend(loc=2)\n",
    "plt.grid(True)\n",
    "plt.xlabel(\"X\")\n",
    "plt.ylabel(\"F(X),G(X)\")\n",
    "plt.title(\"Gráfica de la función F(X) contra G(X)\")"
   ]
  },
  {
   "cell_type": "markdown",
   "id": "dominant-metallic",
   "metadata": {},
   "source": [
    "Tarea\n",
    "\n",
    "Scott numerical analysis Ejercicio 1.12"
   ]
  },
  {
   "cell_type": "code",
   "execution_count": null,
   "id": "recognized-muslim",
   "metadata": {},
   "outputs": [],
   "source": []
  }
 ],
 "metadata": {
  "kernelspec": {
   "display_name": "Python 3",
   "language": "python",
   "name": "python3"
  },
  "language_info": {
   "codemirror_mode": {
    "name": "ipython",
    "version": 3
   },
   "file_extension": ".py",
   "mimetype": "text/x-python",
   "name": "python",
   "nbconvert_exporter": "python",
   "pygments_lexer": "ipython3",
   "version": "3.9.2"
  }
 },
 "nbformat": 4,
 "nbformat_minor": 5
}
