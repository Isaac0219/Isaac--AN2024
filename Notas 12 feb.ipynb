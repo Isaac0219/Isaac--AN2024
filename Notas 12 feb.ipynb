{
 "cells": [
  {
   "cell_type": "markdown",
   "id": "marine-wagon",
   "metadata": {},
   "source": [
    "ANÁLISIS NUMÉRICO"
   ]
  },
  {
   "cell_type": "markdown",
   "id": "incredible-program",
   "metadata": {},
   "source": [
    "     "
   ]
  },
  {
   "cell_type": "markdown",
   "id": "hollywood-showcase",
   "metadata": {},
   "source": [
    "La librería numpy es para cálculo numérico, sympy es para cálculo simbólico y matplotlib es para gráficas"
   ]
  },
  {
   "cell_type": "code",
   "execution_count": 4,
   "id": "plain-sessions",
   "metadata": {},
   "outputs": [],
   "source": [
    "import numpy as np\n",
    "import sympy as sy\n",
    "import matplotlib.pyplot as plt"
   ]
  },
  {
   "cell_type": "code",
   "execution_count": 7,
   "id": "limiting-active",
   "metadata": {},
   "outputs": [],
   "source": [
    "x,y,z = sy.symbols('x y z')\n",
    "x = sy.symbols('x')\n",
    "f = sy.exp(x)-3*sy.cos(x)\n",
    "g = sy.series(f,x,0,3)"
   ]
  },
  {
   "cell_type": "code",
   "execution_count": 9,
   "id": "distant-merchant",
   "metadata": {},
   "outputs": [
    {
     "name": "stdout",
     "output_type": "stream",
     "text": [
      "-2 + x + 2*x**2 + O(x**3)\n"
     ]
    }
   ],
   "source": [
    "print (g)"
   ]
  },
  {
   "cell_type": "code",
   "execution_count": 10,
   "id": "piano-canadian",
   "metadata": {},
   "outputs": [
    {
     "name": "stdout",
     "output_type": "stream",
     "text": [
      "exp(x) - 3*cos(x)\n"
     ]
    }
   ],
   "source": [
    "print (f)"
   ]
  },
  {
   "cell_type": "code",
   "execution_count": 12,
   "id": "metropolitan-administration",
   "metadata": {},
   "outputs": [],
   "source": [
    "orden = g.getO() #Nos da el orden del error\n",
    "gx = g.removeO() #ELimina el termino que estima la magnitud del error"
   ]
  },
  {
   "cell_type": "code",
   "execution_count": 13,
   "id": "hindu-windows",
   "metadata": {},
   "outputs": [
    {
     "name": "stdout",
     "output_type": "stream",
     "text": [
      "O(x**3)\n",
      "2*x**2 + x - 2\n"
     ]
    }
   ],
   "source": [
    "print (orden)\n",
    "print (gx)"
   ]
  },
  {
   "cell_type": "markdown",
   "id": "successful-orleans",
   "metadata": {},
   "source": [
    "lambdify: Convierte expresiones simbolicas de sympy en funciones y la nomenclatura es:\n",
    "\n",
    "func = sy.lambdify(x,expr).\n",
    "\n",
    "Ejemplo:"
   ]
  },
  {
   "cell_type": "code",
   "execution_count": 14,
   "id": "dedicated-reform",
   "metadata": {},
   "outputs": [
    {
     "data": {
      "text/plain": [
       "9"
      ]
     },
     "execution_count": 14,
     "metadata": {},
     "output_type": "execute_result"
    }
   ],
   "source": [
    "funcsq = sy.lambdify(x,x**2)\n",
    "funcsq(3)#EL valor tendría que dar 9"
   ]
  },
  {
   "cell_type": "markdown",
   "id": "genetic-galaxy",
   "metadata": {},
   "source": [
    "La funcion lambdify tiene que tener una funcion sin la parte del error"
   ]
  },
  {
   "cell_type": "code",
   "execution_count": 16,
   "id": "controlling-telephone",
   "metadata": {},
   "outputs": [],
   "source": [
    "flam = sy.lambdify(x,f)\n",
    "glam = sy.lambdify(x,gx)"
   ]
  },
  {
   "cell_type": "markdown",
   "id": "nominated-witch",
   "metadata": {},
   "source": [
    "O se puede ver como el error, en el peor de los casos"
   ]
  },
  {
   "cell_type": "code",
   "execution_count": 17,
   "id": "linear-scheme",
   "metadata": {},
   "outputs": [
    {
     "data": {
      "text/plain": [
       "23.055514412989005"
      ]
     },
     "execution_count": 17,
     "metadata": {},
     "output_type": "execute_result"
    }
   ],
   "source": [
    "flam(3)"
   ]
  },
  {
   "cell_type": "code",
   "execution_count": 18,
   "id": "gorgeous-backup",
   "metadata": {},
   "outputs": [
    {
     "data": {
      "text/plain": [
       "19"
      ]
     },
     "execution_count": 18,
     "metadata": {},
     "output_type": "execute_result"
    }
   ],
   "source": [
    "glam(3)"
   ]
  },
  {
   "cell_type": "markdown",
   "id": "smaller-agenda",
   "metadata": {},
   "source": [
    "Como en este caso el error estaba dado por O(x* *3) esto implica que O numéricamente es 27 pero en el error que observamos tenemos que es aproximadamente 4 por lo que estuve aunque con un error aproximado del 20% es mejor de lo esperado por O"
   ]
  },
  {
   "cell_type": "code",
   "execution_count": 33,
   "id": "olympic-following",
   "metadata": {},
   "outputs": [
    {
     "data": {
      "text/plain": [
       "Text(0.5, 1.0, 'Gráfica de la función F(X) contra G(X)')"
      ]
     },
     "execution_count": 33,
     "metadata": {},
     "output_type": "execute_result"
    },
    {
     "data": {
      "image/png": "[encoded data removed]",
      "text/plain": [
       "<Figure size 432x288 with 1 Axes>"
      ]
     },
     "metadata": {
      "needs_background": "light"
     },
     "output_type": "display_data"
    }
   ],
   "source": [
    "X = np.linspace(-3,3)\n",
    "YF = flam(X)\n",
    "YG = glam(X)\n",
    "plt.plot(X,YF, label = \"F(X)\")\n",
    "plt.plot(X,YG, label = \"G(X)\")\n",
    "plt.legend(loc=2)\n",
    "plt.grid(True)\n",
    "plt.xlabel(\"X\")\n",
    "plt.ylabel(\"F(X),G(X)\")\n",
    "plt.title(\"Gráfica de la función F(X) contra G(X)\")\n",
    "#Letras mayusculas para numérico, minúsculas para simbólico"
   ]
  },
  {
   "cell_type": "markdown",
   "id": "everyday-handle",
   "metadata": {},
   "source": [
    "Otro ejemplo que podemos usar es graficar el error en los distintos puntos para observar lo explicado en el aterior punto de texto"
   ]
  },
  {
   "cell_type": "code",
   "execution_count": 34,
   "id": "injured-somewhere",
   "metadata": {},
   "outputs": [
    {
     "data": {
      "image/png": "[encoded data removed]",
      "text/plain": [
       "<Figure size 432x288 with 1 Axes>"
      ]
     },
     "metadata": {
      "needs_background": "light"
     },
     "output_type": "display_data"
    }
   ],
   "source": [
    "Yerr = np.abs(YF-YG)\n",
    "Yord = X**3\n",
    "plt.plot(X,Yerr, label = \"Error\", color = \"Red\")\n",
    "plt.plot(X,Yord, label = \"Orden de la función O\", color = \"Black\")\n",
    "plt.legend(loc=2)\n",
    "plt.xlabel(\"X\")\n",
    "plt.ylabel(\"Error,G(X)\")\n",
    "plt.title(\"Gráfica del error\")\n",
    "plt.grid(True)"
   ]
  },
  {
   "cell_type": "markdown",
   "id": "ceramic-fabric",
   "metadata": {},
   "source": [
    "TAREA:"
   ]
  },
  {
   "cell_type": "markdown",
   "id": "unknown-naples",
   "metadata": {},
   "source": [
    "Dada una función f(x) (especificar rango) determinar el orden de la función si requerimos que :\n",
    "\n",
    "(R_N(x)) < tolerancia (dada)."
   ]
  },
  {
   "cell_type": "code",
   "execution_count": null,
   "id": "special-weapon",
   "metadata": {},
   "outputs": [],
   "source": []
  }
 ],
 "metadata": {
  "kernelspec": {
   "display_name": "Python 3",
   "language": "python",
   "name": "python3"
  },
  "language_info": {
   "codemirror_mode": {
    "name": "ipython",
    "version": 3
   },
   "file_extension": ".py",
   "mimetype": "text/x-python",
   "name": "python",
   "nbconvert_exporter": "python",
   "pygments_lexer": "ipython3",
   "version": "3.9.2"
  }
 },
 "nbformat": 4,
 "nbformat_minor": 5
}
