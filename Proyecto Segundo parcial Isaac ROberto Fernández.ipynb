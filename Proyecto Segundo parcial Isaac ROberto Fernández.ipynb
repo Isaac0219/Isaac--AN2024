{
 "cells": [
  {
   "cell_type": "markdown",
   "id": "virgin-jackson",
   "metadata": {},
   "source": [
    "# Proyecto segundo Parcial"
   ]
  },
  {
   "cell_type": "code",
   "execution_count": 4,
   "id": "legendary-activation",
   "metadata": {},
   "outputs": [],
   "source": [
    "import numpy as np\n",
    "import matplotlib.pyplot as plt\n",
    "\n",
    "def trapezoidal_rule_integration(func, a, b, N):\n",
    "    \"\"\"Regla del trapecio para integración numérica.\"\"\"\n",
    "    x = np.linspace(a, b, N)\n",
    "    y = func(x)\n",
    "    h = (b - a) / N\n",
    "    integral = h * (np.sum(y) - 0.5 * (y[0] + y[-1]))\n",
    "    return integral\n",
    "\n",
    "\n"
   ]
  },
  {
   "cell_type": "code",
   "execution_count": 12,
   "id": "auburn-oxide",
   "metadata": {},
   "outputs": [
    {
     "data": {
      "text/plain": [
       "0.001"
      ]
     },
     "execution_count": 12,
     "metadata": {},
     "output_type": "execute_result"
    }
   ],
   "source": [
    "T"
   ]
  },
  {
   "cell_type": "code",
   "execution_count": 72,
   "id": "plastic-saturday",
   "metadata": {},
   "outputs": [
    {
     "data": {
      "image/png": "[encoded data removed]",
      "text/plain": [
       "<Figure size 432x288 with 1 Axes>"
      ]
     },
     "metadata": {
      "needs_background": "light"
     },
     "output_type": "display_data"
    }
   ],
   "source": [
    "def fourier_transform(signal, freq, N):\n",
    "    \"\"\"Transformada de Fourier mediante integración numérica.\"\"\"\n",
    "    def integrand(t, signal, freq):\n",
    "        return signal(t) * np.exp(-2j *np.pi* freq * t)\n",
    "\n",
    "    integral = trapezoidal_rule_integration(lambda t: integrand(t, signal, freq), 0, 1, N)\n",
    "    return integral\n",
    "\n",
    "# Señal de ejemplo\n",
    "t = np.arange(0, 1, 1e-8)  # Vector de tiempo de 0 a 1 segundo\n",
    "f1 = 2000  # Frecuencia de la señal\n",
    "A1 = 1  # Amplitud de la primera frecuencia\n",
    "\n",
    "signal = lambda t: A1 * np.sin(2 * np.pi * f1 * t)\n",
    "\n",
    "# Frecuencias para la transformada\n",
    "num_points = 1000\n",
    "frequencies = np.linspace(Fi, Ff, num_points)\n",
    "Fi = 1000\n",
    "Ff = 5000\n",
    "z = np.zeros(num_points) \n",
    "# Calcular la Transformada de Fourier\n",
    "for i in range (0,num_points):\n",
    "    FR = Fi + i*((Ff-Fi)/num_points)\n",
    "    z[i] = np.abs(fourier_transform(signal, FR, num_points))\n",
    "\n",
    "\n",
    "# Graficar la transformada de Fourier\n",
    "plt.plot(frequencies, z)\n",
    "plt.title('Transformada de Fourier (Integración Numérica)')\n",
    "plt.xlabel('w (Hz)')\n",
    "plt.ylabel('F(w)')\n",
    "plt.xlim(Fi, Ff)\n",
    "plt.show()"
   ]
  },
  {
   "cell_type": "code",
   "execution_count": 43,
   "id": "frozen-pension",
   "metadata": {},
   "outputs": [
    {
     "data": {
      "text/plain": [
       "(50,)"
      ]
     },
     "execution_count": 43,
     "metadata": {},
     "output_type": "execute_result"
    }
   ],
   "source": [
    " "
   ]
  },
  {
   "cell_type": "code",
   "execution_count": 53,
   "id": "quantitative-universe",
   "metadata": {},
   "outputs": [
    {
     "data": {
      "text/plain": [
       "[<matplotlib.lines.Line2D at 0x7ffa3d602bb0>]"
      ]
     },
     "execution_count": 53,
     "metadata": {},
     "output_type": "execute_result"
    },
    {
     "data": {
      "image/png": "[encoded data removed]",
      "text/plain": [
       "<Figure size 432x288 with 1 Axes>"
      ]
     },
     "metadata": {
      "needs_background": "light"
     },
     "output_type": "display_data"
    }
   ],
   "source": [
    "S = signal(t)\n",
    "fq = np.fft.fftfreq(S.shape[-1])\n",
    "val = np.fft.fft(S)\n",
    "\n",
    "plt.plot(fq,val.real)"
   ]
  },
  {
   "cell_type": "code",
   "execution_count": 54,
   "id": "apart-strategy",
   "metadata": {},
   "outputs": [
    {
     "data": {
      "text/plain": [
       "array([ 0.e+00,  2.e-06,  4.e-06, ..., -6.e-06, -4.e-06, -2.e-06])"
      ]
     },
     "execution_count": 54,
     "metadata": {},
     "output_type": "execute_result"
    }
   ],
   "source": [
    "fq\n"
   ]
  },
  {
   "cell_type": "code",
   "execution_count": 24,
   "id": "closed-annual",
   "metadata": {},
   "outputs": [
    {
     "data": {
      "text/plain": [
       "array([ 0.00000000e+00,  1.00000000e+00, -3.21624530e-16, ...,\n",
       "        1.00000000e+00,  5.73121084e-13, -1.00000000e+00])"
      ]
     },
     "execution_count": 24,
     "metadata": {},
     "output_type": "execute_result"
    }
   ],
   "source": [
    "signal(t)"
   ]
  },
  {
   "cell_type": "code",
   "execution_count": null,
   "id": "comparative-joining",
   "metadata": {},
   "outputs": [],
   "source": []
  }
 ],
 "metadata": {
  "kernelspec": {
   "display_name": "Python 3",
   "language": "python",
   "name": "python3"
  },
  "language_info": {
   "codemirror_mode": {
    "name": "ipython",
    "version": 3
   },
   "file_extension": ".py",
   "mimetype": "text/x-python",
   "name": "python",
   "nbconvert_exporter": "python",
   "pygments_lexer": "ipython3",
   "version": "3.9.2"
  }
 },
 "nbformat": 4,
 "nbformat_minor": 5
}
