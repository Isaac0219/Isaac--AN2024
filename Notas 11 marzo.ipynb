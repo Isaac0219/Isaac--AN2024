{
 "cells": [
  {
   "cell_type": "markdown",
   "id": "heavy-seller",
   "metadata": {},
   "source": [
    "Métodos de factorización directa:\n",
    "\n"
   ]
  },
  {
   "cell_type": "code",
   "execution_count": 1,
   "id": "following-auditor",
   "metadata": {},
   "outputs": [],
   "source": [
    "a = 3\n",
    "u = 0\n",
    "A = np.array([[1,2,3],[4,5,6],[7,8,10]])"
   ]
  },
  {
   "cell_type": "code",
   "execution_count": null,
   "id": "specific-skating",
   "metadata": {},
   "outputs": [],
   "source": [
    "for i in range(a-1):\n",
    "    for j in range(a-1):\n",
    "        for k in range(i-1):\n",
    "            u += L[i,k]*U[kj]\n",
    "        U[i,j] = A[i,j]-u\n",
    "        u=0\n",
    "        for k in range(i-1):\n",
    "            u += L[j,k]*U[k,i]\n",
    "        L[i,j] = (1/(U[i,i]))*(A[i,j]-u)\n",
    "        u=0            "
   ]
  },
  {
   "cell_type": "code",
   "execution_count": null,
   "id": "jewish-portsmouth",
   "metadata": {},
   "outputs": [],
   "source": []
  }
 ],
 "metadata": {
  "kernelspec": {
   "display_name": "Python 3",
   "language": "python",
   "name": "python3"
  },
  "language_info": {
   "codemirror_mode": {
    "name": "ipython",
    "version": 3
   },
   "file_extension": ".py",
   "mimetype": "text/x-python",
   "name": "python",
   "nbconvert_exporter": "python",
   "pygments_lexer": "ipython3",
   "version": "3.9.2"
  }
 },
 "nbformat": 4,
 "nbformat_minor": 5
}
