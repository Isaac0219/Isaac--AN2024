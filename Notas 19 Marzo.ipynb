{
 "cells": [
  {
   "cell_type": "markdown",
   "id": "promising-output",
   "metadata": {},
   "source": [
    "## Diferencias Finitas"
   ]
  },
  {
   "cell_type": "markdown",
   "id": "exciting-damages",
   "metadata": {},
   "source": [
    " Funciones no lineales\n",
    " \n",
    " Evaluación muy costosa"
   ]
  },
  {
   "cell_type": "markdown",
   "id": "lesser-slide",
   "metadata": {},
   "source": [
    "### Fuentes de error"
   ]
  },
  {
   "cell_type": "markdown",
   "id": "primary-nelson",
   "metadata": {},
   "source": [
    "Error de aproximación"
   ]
  },
  {
   "cell_type": "markdown",
   "id": "graphic-luxury",
   "metadata": {},
   "source": [
    "$$\\epsilon_{app} = \\frac{h}{2} |f''(x)|$$"
   ]
  },
  {
   "cell_type": "markdown",
   "id": "american-plain",
   "metadata": {},
   "source": [
    "Error aritmético"
   ]
  },
  {
   "cell_type": "markdown",
   "id": "earlier-consultancy",
   "metadata": {},
   "source": [
    "$$\\epsilon_{ro} = \\frac{2|f(x)|\\epsilon_m}{h}$$"
   ]
  },
  {
   "cell_type": "markdown",
   "id": "fluid-savage",
   "metadata": {},
   "source": [
    "Con $\\epsilon_m$ como el error de máquina "
   ]
  },
  {
   "cell_type": "code",
   "execution_count": 1,
   "id": "lyric-watts",
   "metadata": {},
   "outputs": [],
   "source": [
    "import numpy as np\n",
    "import sympy as sy\n",
    "from sympy import *\n",
    "from sympy.abc import x\n",
    "import matplotlib.pyplot as plt"
   ]
  },
  {
   "cell_type": "code",
   "execution_count": 60,
   "id": "indian-married",
   "metadata": {},
   "outputs": [],
   "source": [
    "def centro(x,h):\n",
    "    f = np.exp(np.sin(2*x))\n",
    "    f_3 = (np.exp(np.sin(2*(x+h/2))) - np.exp(np.sin(2*(x-h/2))))/h\n",
    "    return f_3"
   ]
  },
  {
   "cell_type": "code",
   "execution_count": 61,
   "id": "western-gibraltar",
   "metadata": {},
   "outputs": [],
   "source": [
    "x=0.5\n",
    "h=0.1\n",
    "d=centro(x,h)"
   ]
  },
  {
   "cell_type": "code",
   "execution_count": 62,
   "id": "operating-fountain",
   "metadata": {},
   "outputs": [
    {
     "data": {
      "text/plain": [
       "2.4932959255171205"
      ]
     },
     "metadata": {},
     "output_type": "display_data"
    }
   ],
   "source": [
    "display(d)"
   ]
  },
  {
   "cell_type": "code",
   "execution_count": 63,
   "id": "severe-referral",
   "metadata": {},
   "outputs": [
    {
     "data": {
      "text/latex": [
       "$\\displaystyle 2 e^{\\sin{\\left(2 x \\right)}} \\cos{\\left(2 x \\right)}$"
      ],
      "text/plain": [
       "2*exp(sin(2*x))*cos(2*x)"
      ]
     },
     "metadata": {},
     "output_type": "display_data"
    },
    {
     "name": "stdout",
     "output_type": "stream",
     "text": [
      "2.506761534986894\n"
     ]
    }
   ],
   "source": [
    "x=sy.symbols('x')\n",
    "f = sy.exp(sy.sin(2*x))\n",
    "df = diff(f,x)\n",
    "display(df)\n",
    "ldf=sy.lambdify(x,df)\n",
    "a = ldf(0.5)\n",
    "print(a)"
   ]
  },
  {
   "cell_type": "code",
   "execution_count": 75,
   "id": "accredited-inquiry",
   "metadata": {},
   "outputs": [
    {
     "data": {
      "text/plain": [
       "array([0., 0., 0., 0., 0., 0., 0., 0., 0., 0., 0., 0., 0., 0.])"
      ]
     },
     "execution_count": 75,
     "metadata": {},
     "output_type": "execute_result"
    }
   ],
   "source": [
    "h = np.array((1e-15,1e-14,1e-13,1e-12,1e-11,1e-10,1e-9,1e-8,1e-7,1e-6,1e-5,1e-4,1e-3,1e-2))\n",
    "z = np.zeros(14)\n",
    "z"
   ]
  },
  {
   "cell_type": "code",
   "execution_count": 96,
   "id": "rolled-dealer",
   "metadata": {},
   "outputs": [],
   "source": [
    "for i in range(14):\n",
    "    x=0.5\n",
    "    g = centro(x,h[i])\n",
    "    z[i] = np.abs(a- g)"
   ]
  },
  {
   "cell_type": "code",
   "execution_count": 97,
   "id": "advised-suffering",
   "metadata": {},
   "outputs": [
    {
     "data": {
      "text/plain": [
       "array([1.57773724e-01, 2.45469612e-02, 2.09839143e-03, 1.22054617e-04,\n",
       "       1.11721462e-05, 2.15053005e-06, 6.99159992e-08, 1.89018428e-08,\n",
       "       1.13827436e-09, 2.50095944e-10, 1.49584345e-10, 1.35077878e-08,\n",
       "       1.35051207e-06, 1.35047249e-04])"
      ]
     },
     "execution_count": 97,
     "metadata": {},
     "output_type": "execute_result"
    }
   ],
   "source": [
    "z"
   ]
  },
  {
   "cell_type": "code",
   "execution_count": 98,
   "id": "variable-hearts",
   "metadata": {},
   "outputs": [
    {
     "data": {
      "image/png": "[encoded data removed]",
      "text/plain": [
       "<Figure size 432x288 with 1 Axes>"
      ]
     },
     "metadata": {
      "needs_background": "light"
     },
     "output_type": "display_data"
    }
   ],
   "source": [
    "plt.loglog(h,z, 'bp')\n",
    "plt.xlabel(\"h\")\n",
    "plt.ylabel(\"Error\")\n",
    "plt.title(\"Gráfica del error\")\n",
    "plt.grid(True)"
   ]
  },
  {
   "cell_type": "code",
   "execution_count": null,
   "id": "asian-confirmation",
   "metadata": {},
   "outputs": [],
   "source": []
  }
 ],
 "metadata": {
  "kernelspec": {
   "display_name": "Python 3",
   "language": "python",
   "name": "python3"
  },
  "language_info": {
   "codemirror_mode": {
    "name": "ipython",
    "version": 3
   },
   "file_extension": ".py",
   "mimetype": "text/x-python",
   "name": "python",
   "nbconvert_exporter": "python",
   "pygments_lexer": "ipython3",
   "version": "3.9.2"
  }
 },
 "nbformat": 4,
 "nbformat_minor": 5
}
