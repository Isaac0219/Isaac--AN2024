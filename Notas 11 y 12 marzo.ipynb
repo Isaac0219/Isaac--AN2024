{
 "cells": [
  {
   "cell_type": "markdown",
   "id": "heavy-seller",
   "metadata": {},
   "source": [
    "Métodos de factorización directa:\n",
    "\n"
   ]
  },
  {
   "cell_type": "code",
   "execution_count": 1,
   "id": "complicated-jonathan",
   "metadata": {},
   "outputs": [],
   "source": [
    "import numpy as np\n",
    "import sympy as sy\n",
    "from sympy import *\n",
    "from sympy.abc import x\n",
    "import matplotlib.pyplot as plt"
   ]
  },
  {
   "cell_type": "code",
   "execution_count": 2,
   "id": "following-auditor",
   "metadata": {},
   "outputs": [
    {
     "data": {
      "text/plain": [
       "array([[1., 0., 0.],\n",
       "       [0., 1., 0.],\n",
       "       [0., 0., 1.]])"
      ]
     },
     "metadata": {},
     "output_type": "display_data"
    },
    {
     "data": {
      "text/plain": [
       "array([[0., 0., 0.],\n",
       "       [0., 0., 0.],\n",
       "       [0., 0., 0.]])"
      ]
     },
     "metadata": {},
     "output_type": "display_data"
    }
   ],
   "source": [
    "a = 3\n",
    "A = np.array([[1,3,3],[4,5,6],[7,8,10]])\n",
    "L = np.identity(3)\n",
    "U = np.zeros((3,3))\n",
    "display(L)\n",
    "display(U)"
   ]
  },
  {
   "cell_type": "code",
   "execution_count": 3,
   "id": "specific-skating",
   "metadata": {},
   "outputs": [],
   "source": [
    "for i in range(a):\n",
    "    for j in range(i,a):\n",
    "        u=0\n",
    "        for k in range(i):\n",
    "            u += L[i,k]*U[k,j]\n",
    "        U[i,j] = A[i,j]-u\n",
    "    for j in range(i+1,a):\n",
    "        l=0\n",
    "        for k in range(i):\n",
    "            l += L[j,k]*U[k,i]\n",
    "        L[j,i] = (A[j,i]-l)/U[i,i]\n",
    "        u=0            "
   ]
  },
  {
   "cell_type": "code",
   "execution_count": 4,
   "id": "jewish-portsmouth",
   "metadata": {},
   "outputs": [
    {
     "data": {
      "text/plain": [
       "array([[ 1.        ,  3.        ,  3.        ],\n",
       "       [ 0.        , -7.        , -6.        ],\n",
       "       [ 0.        ,  0.        ,  0.14285714]])"
      ]
     },
     "metadata": {},
     "output_type": "display_data"
    }
   ],
   "source": [
    "display(U)"
   ]
  },
  {
   "cell_type": "code",
   "execution_count": 5,
   "id": "aboriginal-burton",
   "metadata": {},
   "outputs": [
    {
     "data": {
      "text/plain": [
       "array([[1.        , 0.        , 0.        ],\n",
       "       [4.        , 1.        , 0.        ],\n",
       "       [7.        , 1.85714286, 1.        ]])"
      ]
     },
     "metadata": {},
     "output_type": "display_data"
    }
   ],
   "source": [
    "display(L)"
   ]
  },
  {
   "cell_type": "code",
   "execution_count": 6,
   "id": "czech-computer",
   "metadata": {},
   "outputs": [
    {
     "data": {
      "text/plain": [
       "array([[ 1.,  3.,  3.],\n",
       "       [ 4.,  5.,  6.],\n",
       "       [ 7.,  8., 10.]])"
      ]
     },
     "metadata": {},
     "output_type": "display_data"
    }
   ],
   "source": [
    "c=np.zeros((3,3))\n",
    "c=np.matmul(L,U)\n",
    "display(c)"
   ]
  },
  {
   "cell_type": "code",
   "execution_count": null,
   "id": "controlling-valuable",
   "metadata": {},
   "outputs": [],
   "source": []
  },
  {
   "cell_type": "code",
   "execution_count": null,
   "id": "powered-trader",
   "metadata": {},
   "outputs": [],
   "source": []
  },
  {
   "cell_type": "code",
   "execution_count": null,
   "id": "correct-yorkshire",
   "metadata": {},
   "outputs": [],
   "source": []
  },
  {
   "cell_type": "code",
   "execution_count": null,
   "id": "intense-founder",
   "metadata": {},
   "outputs": [],
   "source": []
  },
  {
   "cell_type": "code",
   "execution_count": null,
   "id": "involved-producer",
   "metadata": {},
   "outputs": [],
   "source": []
  },
  {
   "cell_type": "code",
   "execution_count": null,
   "id": "broken-shanghai",
   "metadata": {},
   "outputs": [],
   "source": []
  }
 ],
 "metadata": {
  "kernelspec": {
   "display_name": "Python 3",
   "language": "python",
   "name": "python3"
  },
  "language_info": {
   "codemirror_mode": {
    "name": "ipython",
    "version": 3
   },
   "file_extension": ".py",
   "mimetype": "text/x-python",
   "name": "python",
   "nbconvert_exporter": "python",
   "pygments_lexer": "ipython3",
   "version": "3.9.2"
  }
 },
 "nbformat": 4,
 "nbformat_minor": 5
}
