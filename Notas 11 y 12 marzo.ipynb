{
 "cells": [
  {
   "cell_type": "markdown",
   "id": "heavy-seller",
   "metadata": {},
   "source": [
    "Métodos de factorización directa:\n",
    "\n"
   ]
  },
  {
   "cell_type": "code",
   "execution_count": 1,
   "id": "complicated-jonathan",
   "metadata": {},
   "outputs": [],
   "source": [
    "import numpy as np\n",
    "import sympy as sy\n",
    "from sympy import *\n",
    "from sympy.abc import x\n",
    "import matplotlib.pyplot as plt"
   ]
  },
  {
   "cell_type": "code",
   "execution_count": 95,
   "id": "following-auditor",
   "metadata": {},
   "outputs": [
    {
     "data": {
      "text/plain": [
       "array([[1., 0., 0.],\n",
       "       [0., 1., 0.],\n",
       "       [0., 0., 1.]])"
      ]
     },
     "metadata": {},
     "output_type": "display_data"
    },
    {
     "data": {
      "text/plain": [
       "array([[0., 0., 0.],\n",
       "       [0., 0., 0.],\n",
       "       [0., 0., 0.]])"
      ]
     },
     "metadata": {},
     "output_type": "display_data"
    }
   ],
   "source": [
    "a = 3\n",
    "A = np.array([[1,3,3],[4,5,6],[7,8,10]])\n",
    "L = np.identity(3)\n",
    "U = np.zeros((3,3))\n",
    "display(L)\n",
    "display(U)"
   ]
  },
  {
   "cell_type": "code",
   "execution_count": 96,
   "id": "specific-skating",
   "metadata": {},
   "outputs": [],
   "source": [
    "for i in range(a):\n",
    "    for j in range(i,a):\n",
    "        u=0\n",
    "        for k in range(i):\n",
    "            u += L[i,k]*U[k,j]\n",
    "        U[i,j] = A[i,j]-u\n",
    "    for j in range(i+1,a):\n",
    "        l=0\n",
    "        for k in range(i):\n",
    "            l += L[j,k]*U[k,i]\n",
    "        L[j,i] = (A[i,j]-l)/U[i,i]\n",
    "        u=0            "
   ]
  },
  {
   "cell_type": "code",
   "execution_count": 97,
   "id": "jewish-portsmouth",
   "metadata": {},
   "outputs": [
    {
     "data": {
      "text/plain": [
       "array([[ 1.  ,  3.  ,  3.  ],\n",
       "       [ 0.  , -4.  , -3.  ],\n",
       "       [ 0.  ,  0.  ,  3.25]])"
      ]
     },
     "metadata": {},
     "output_type": "display_data"
    }
   ],
   "source": [
    "display(U)"
   ]
  },
  {
   "cell_type": "code",
   "execution_count": 98,
   "id": "aboriginal-burton",
   "metadata": {},
   "outputs": [
    {
     "data": {
      "text/plain": [
       "array([[1.  , 0.  , 0.  ],\n",
       "       [3.  , 1.  , 0.  ],\n",
       "       [3.  , 0.75, 1.  ]])"
      ]
     },
     "metadata": {},
     "output_type": "display_data"
    }
   ],
   "source": [
    "display(L)"
   ]
  },
  {
   "cell_type": "code",
   "execution_count": 105,
   "id": "czech-computer",
   "metadata": {},
   "outputs": [
    {
     "data": {
      "text/plain": [
       "array([[ 1.,  3.,  3.],\n",
       "       [ 3.,  5.,  6.],\n",
       "       [ 3.,  6., 10.]])"
      ]
     },
     "metadata": {},
     "output_type": "display_data"
    }
   ],
   "source": [
    "c=np.zeros((3,3))\n",
    "c=np.matmul(L,U)\n",
    "display(c)"
   ]
  },
  {
   "cell_type": "code",
   "execution_count": 71,
   "id": "controlling-valuable",
   "metadata": {},
   "outputs": [
    {
     "data": {
      "text/plain": [
       "array([[2.        , 3.        , 3.        ],\n",
       "       [3.        , 2.        , 2.14285714],\n",
       "       [3.        , 0.75      , 2.        ]])"
      ]
     },
     "metadata": {},
     "output_type": "display_data"
    }
   ],
   "source": []
  },
  {
   "cell_type": "code",
   "execution_count": 80,
   "id": "powered-trader",
   "metadata": {},
   "outputs": [],
   "source": [
    "def luDecomposition(A, n): \n",
    "\n",
    "    L = np.zeros((n, n))  \n",
    "    U = np.zeros((n, n))\n",
    "\n",
    "    print(L)\n",
    "\n",
    "    for k in range (n):\n",
    "        for i in range(k,n):\n",
    "            sum1=0\n",
    "            for p in range (k):\n",
    "                sum1+=L[i][p]*U[p][k]\n",
    "            L[i][k]=(A[i][k]-sum1)\n",
    "\n",
    "        for i in range(k+1,n):\n",
    "            if L[k][k] == 0:\n",
    "                exit('Debe usar el pivoteo parcial')\n",
    "            sum2=0\n",
    "            for p in range(k):\n",
    "                sum2+=L[k][p]*U[p][i]\n",
    "            U[k][i]=(A[k][i]-sum2)/L[k][k]\n",
    "\n",
    "    U = U + np.eye(n, dtype=float)\n",
    "\n",
    "    return L,U"
   ]
  },
  {
   "cell_type": "code",
   "execution_count": 81,
   "id": "correct-yorkshire",
   "metadata": {},
   "outputs": [
    {
     "name": "stdout",
     "output_type": "stream",
     "text": [
      "[[ 1.    3.    3.  ]\n",
      " [ 0.   -4.    1.2 ]\n",
      " [ 0.    0.    3.25]]\n"
     ]
    }
   ],
   "source": []
  },
  {
   "cell_type": "code",
   "execution_count": 82,
   "id": "intense-founder",
   "metadata": {},
   "outputs": [
    {
     "name": "stdout",
     "output_type": "stream",
     "text": [
      "[[  1.           3.           3.        ]\n",
      " [  4.           5.           2.14285714]\n",
      " [  7.           8.         -11.        ]]\n"
     ]
    }
   ],
   "source": []
  },
  {
   "cell_type": "code",
   "execution_count": null,
   "id": "involved-producer",
   "metadata": {},
   "outputs": [],
   "source": []
  }
 ],
 "metadata": {
  "kernelspec": {
   "display_name": "Python 3",
   "language": "python",
   "name": "python3"
  },
  "language_info": {
   "codemirror_mode": {
    "name": "ipython",
    "version": 3
   },
   "file_extension": ".py",
   "mimetype": "text/x-python",
   "name": "python",
   "nbconvert_exporter": "python",
   "pygments_lexer": "ipython3",
   "version": "3.9.2"
  }
 },
 "nbformat": 4,
 "nbformat_minor": 5
}
